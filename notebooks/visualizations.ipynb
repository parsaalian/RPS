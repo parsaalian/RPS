{
 "cells": [
  {
   "cell_type": "code",
   "execution_count": 1,
   "id": "d22fe166",
   "metadata": {
    "ExecuteTime": {
     "end_time": "2021-09-21T06:19:00.879725Z",
     "start_time": "2021-09-21T06:19:00.876497Z"
    }
   },
   "outputs": [],
   "source": [
    "import os\n",
    "import sys\n",
    "module_path = os.path.abspath(os.path.join('..'))\n",
    "if module_path not in sys.path:\n",
    "    sys.path.append(module_path)"
   ]
  },
  {
   "cell_type": "code",
   "execution_count": 2,
   "id": "e043c94a",
   "metadata": {
    "ExecuteTime": {
     "end_time": "2021-09-21T06:19:46.975149Z",
     "start_time": "2021-09-21T06:19:41.427547Z"
    }
   },
   "outputs": [],
   "source": [
    "import pandas as pd\n",
    "import matplotlib.pyplot as plt\n",
    "import seaborn as sns\n",
    "sns.set()\n",
    "%matplotlib inline"
   ]
  },
  {
   "cell_type": "code",
   "execution_count": 39,
   "id": "c865e81c",
   "metadata": {
    "ExecuteTime": {
     "end_time": "2021-09-21T06:31:49.774959Z",
     "start_time": "2021-09-21T06:31:49.772158Z"
    }
   },
   "outputs": [],
   "source": [
    "from models.RPS import readable_to_df_list\n",
    "from utils.measures import calculate_noise_stability"
   ]
  },
  {
   "cell_type": "code",
   "execution_count": 79,
   "id": "a4a21ad6",
   "metadata": {
    "ExecuteTime": {
     "end_time": "2021-09-21T06:45:30.710699Z",
     "start_time": "2021-09-21T06:45:30.702704Z"
    }
   },
   "outputs": [],
   "source": [
    "sdf = pd.read_csv('../exp/RPS/RPS_sp500_2021-Sep-21-11-13-13/stability_matrix.csv')"
   ]
  },
  {
   "cell_type": "code",
   "execution_count": 80,
   "id": "337fc78f",
   "metadata": {
    "ExecuteTime": {
     "end_time": "2021-09-21T06:45:31.281707Z",
     "start_time": "2021-09-21T06:45:31.275763Z"
    }
   },
   "outputs": [
    {
     "data": {
      "text/plain": [
       "0.6548672566371682"
      ]
     },
     "execution_count": 80,
     "metadata": {},
     "output_type": "execute_result"
    }
   ],
   "source": [
    "sdf.max().max()"
   ]
  },
  {
   "cell_type": "code",
   "execution_count": 83,
   "id": "7e3453ee",
   "metadata": {
    "ExecuteTime": {
     "end_time": "2021-09-21T06:45:46.197192Z",
     "start_time": "2021-09-21T06:45:45.953224Z"
    }
   },
   "outputs": [
    {
     "data": {
      "text/plain": [
       "<AxesSubplot:>"
      ]
     },
     "execution_count": 83,
     "metadata": {},
     "output_type": "execute_result"
    },
    {
     "data": {
      "image/png": "[encoded data removed]",
      "text/plain": [
       "<Figure size 432x288 with 2 Axes>"
      ]
     },
     "metadata": {
      "needs_background": "light"
     },
     "output_type": "display_data"
    }
   ],
   "source": [
    "sns.heatmap(sdf, vmin=0)"
   ]
  },
  {
   "cell_type": "code",
   "execution_count": 51,
   "id": "e7447e2d",
   "metadata": {
    "ExecuteTime": {
     "end_time": "2021-09-21T06:34:19.475938Z",
     "start_time": "2021-09-21T06:34:19.467561Z"
    }
   },
   "outputs": [],
   "source": [
    "pre_df = pd.read_csv('../exp/RPS/RPS_sp500_2021-Sep-19-11-41-05/results.csv').drop(columns=['Unnamed: 0'])\n",
    "pre_df = readable_to_df_list(pre_df, columns=['stocks'])"
   ]
  },
  {
   "cell_type": "code",
   "execution_count": 69,
   "id": "d1ef4fc9",
   "metadata": {
    "ExecuteTime": {
     "end_time": "2021-09-21T06:36:37.810488Z",
     "start_time": "2021-09-21T06:36:37.802513Z"
    }
   },
   "outputs": [],
   "source": [
    "df = pd.read_csv('../exp/RPS/RPS_sp500_2021-Sep-21-10-47-40/results.csv').drop(columns=['Unnamed: 0'])\n",
    "df = readable_to_df_list(df, columns=['stocks'])"
   ]
  },
  {
   "cell_type": "code",
   "execution_count": 70,
   "id": "c6118d40",
   "metadata": {
    "ExecuteTime": {
     "end_time": "2021-09-21T06:36:38.427616Z",
     "start_time": "2021-09-21T06:36:38.422566Z"
    },
    "scrolled": false
   },
   "outputs": [
    {
     "data": {
      "text/plain": [
       "74"
      ]
     },
     "execution_count": 70,
     "metadata": {},
     "output_type": "execute_result"
    }
   ],
   "source": [
    "len(set(df.loc[1, 'stocks']).intersection(set(pre_df.loc[2, 'stocks'])))"
   ]
  },
  {
   "cell_type": "code",
   "execution_count": 71,
   "id": "0a7962a3",
   "metadata": {
    "ExecuteTime": {
     "end_time": "2021-09-21T06:36:39.034653Z",
     "start_time": "2021-09-21T06:36:39.029997Z"
    },
    "scrolled": false
   },
   "outputs": [
    {
     "data": {
      "text/plain": [
       "113"
      ]
     },
     "execution_count": 71,
     "metadata": {},
     "output_type": "execute_result"
    }
   ],
   "source": [
    "len(set(df.loc[1, 'stocks']).union(set(pre_df.loc[2, 'stocks'])))"
   ]
  },
  {
   "cell_type": "code",
   "execution_count": 72,
   "id": "91be7b45",
   "metadata": {
    "ExecuteTime": {
     "end_time": "2021-09-21T06:36:39.392593Z",
     "start_time": "2021-09-21T06:36:39.388619Z"
    }
   },
   "outputs": [
    {
     "data": {
      "text/plain": [
       "0.6548672566371682"
      ]
     },
     "execution_count": 72,
     "metadata": {},
     "output_type": "execute_result"
    }
   ],
   "source": [
    "calculate_noise_stability(set(df.loc[1, 'stocks']), set(pre_df.loc[2, 'stocks']))"
   ]
  },
  {
   "cell_type": "code",
   "execution_count": 73,
   "id": "0d5f4aa8",
   "metadata": {
    "ExecuteTime": {
     "end_time": "2021-09-21T06:36:39.890855Z",
     "start_time": "2021-09-21T06:36:39.824776Z"
    }
   },
   "outputs": [],
   "source": [
    "stability_df = pd.DataFrame(index=list(range(len(df))), columns=list(range(len(pre_df))))\n",
    "\n",
    "for i in range(len(df)):\n",
    "    for j in range(len(pre_df)):\n",
    "        distance = calculate_noise_stability(\n",
    "            set(df.loc[i, 'stocks']),\n",
    "            set(pre_df.loc[j, 'stocks'])\n",
    "        )\n",
    "        stability_df.loc[i, j] = distance"
   ]
  },
  {
   "cell_type": "code",
   "execution_count": 74,
   "id": "f876d585",
   "metadata": {
    "ExecuteTime": {
     "end_time": "2021-09-21T06:36:40.668234Z",
     "start_time": "2021-09-21T06:36:40.658595Z"
    }
   },
   "outputs": [
    {
     "data": {
      "text/plain": [
       "0     0.504854\n",
       "1     0.266667\n",
       "2     0.654867\n",
       "3     0.360825\n",
       "4      0.24581\n",
       "5     0.520408\n",
       "6     0.230769\n",
       "7     0.421569\n",
       "8     0.401869\n",
       "9     0.226804\n",
       "10     0.08642\n",
       "11    0.139241\n",
       "12    0.125926\n",
       "13    0.071429\n",
       "14        0.25\n",
       "15     0.06383\n",
       "16    0.234043\n",
       "17         0.2\n",
       "18         0.2\n",
       "19    0.043478\n",
       "20    0.045455\n",
       "21    0.333333\n",
       "22    0.014085\n",
       "23    0.025641\n",
       "24    0.028169\n",
       "25     0.01626\n",
       "26    0.016393\n",
       "27    0.045455\n",
       "dtype: object"
      ]
     },
     "execution_count": 74,
     "metadata": {},
     "output_type": "execute_result"
    }
   ],
   "source": [
    "stability_df.max()"
   ]
  },
  {
   "cell_type": "code",
   "execution_count": 75,
   "id": "4aadbcb6",
   "metadata": {
    "ExecuteTime": {
     "end_time": "2021-09-21T06:36:41.152779Z",
     "start_time": "2021-09-21T06:36:41.129527Z"
    }
   },
   "outputs": [
    {
     "data": {
      "text/html": [
       "<div>\n",
       "<style scoped>\n",
       "    .dataframe tbody tr th:only-of-type {\n",
       "        vertical-align: middle;\n",
       "    }\n",
       "\n",
       "    .dataframe tbody tr th {\n",
       "        vertical-align: top;\n",
       "    }\n",
       "\n",
       "    .dataframe thead th {\n",
       "        text-align: right;\n",
       "    }\n",
       "</style>\n",
       "<table border=\"1\" class=\"dataframe\">\n",
       "  <thead>\n",
       "    <tr style=\"text-align: right;\">\n",
       "      <th></th>\n",
       "      <th>0</th>\n",
       "      <th>1</th>\n",
       "      <th>2</th>\n",
       "      <th>3</th>\n",
       "      <th>4</th>\n",
       "      <th>5</th>\n",
       "      <th>6</th>\n",
       "      <th>7</th>\n",
       "      <th>8</th>\n",
       "      <th>9</th>\n",
       "      <th>...</th>\n",
       "      <th>18</th>\n",
       "      <th>19</th>\n",
       "      <th>20</th>\n",
       "      <th>21</th>\n",
       "      <th>22</th>\n",
       "      <th>23</th>\n",
       "      <th>24</th>\n",
       "      <th>25</th>\n",
       "      <th>26</th>\n",
       "      <th>27</th>\n",
       "    </tr>\n",
       "  </thead>\n",
       "  <tbody>\n",
       "    <tr>\n",
       "      <th>0</th>\n",
       "      <td>0.056604</td>\n",
       "      <td>0.0</td>\n",
       "      <td>0.0</td>\n",
       "      <td>0.0</td>\n",
       "      <td>0.038462</td>\n",
       "      <td>0.0</td>\n",
       "      <td>0.0</td>\n",
       "      <td>0.013699</td>\n",
       "      <td>0.013158</td>\n",
       "      <td>0.045455</td>\n",
       "      <td>...</td>\n",
       "      <td>0.0</td>\n",
       "      <td>0.0</td>\n",
       "      <td>0.0</td>\n",
       "      <td>0.0</td>\n",
       "      <td>0.0</td>\n",
       "      <td>0.0</td>\n",
       "      <td>0.0</td>\n",
       "      <td>0.0</td>\n",
       "      <td>0.0</td>\n",
       "      <td>0.0</td>\n",
       "    </tr>\n",
       "    <tr>\n",
       "      <th>1</th>\n",
       "      <td>0.004115</td>\n",
       "      <td>0.266667</td>\n",
       "      <td>0.654867</td>\n",
       "      <td>0.07971</td>\n",
       "      <td>0.0</td>\n",
       "      <td>0.520408</td>\n",
       "      <td>0.008929</td>\n",
       "      <td>0.0</td>\n",
       "      <td>0.006579</td>\n",
       "      <td>0.0</td>\n",
       "      <td>...</td>\n",
       "      <td>0.0</td>\n",
       "      <td>0.0</td>\n",
       "      <td>0.0</td>\n",
       "      <td>0.0</td>\n",
       "      <td>0.0</td>\n",
       "      <td>0.0</td>\n",
       "      <td>0.0</td>\n",
       "      <td>0.0</td>\n",
       "      <td>0.0</td>\n",
       "      <td>0.0</td>\n",
       "    </tr>\n",
       "    <tr>\n",
       "      <th>2</th>\n",
       "      <td>0.256684</td>\n",
       "      <td>0.0</td>\n",
       "      <td>0.0</td>\n",
       "      <td>0.0</td>\n",
       "      <td>0.174603</td>\n",
       "      <td>0.0</td>\n",
       "      <td>0.0</td>\n",
       "      <td>0.264706</td>\n",
       "      <td>0.058824</td>\n",
       "      <td>0.027273</td>\n",
       "      <td>...</td>\n",
       "      <td>0.0</td>\n",
       "      <td>0.0125</td>\n",
       "      <td>0.0</td>\n",
       "      <td>0.0</td>\n",
       "      <td>0.0</td>\n",
       "      <td>0.0</td>\n",
       "      <td>0.0125</td>\n",
       "      <td>0.0</td>\n",
       "      <td>0.0</td>\n",
       "      <td>0.012658</td>\n",
       "    </tr>\n",
       "    <tr>\n",
       "      <th>3</th>\n",
       "      <td>0.0</td>\n",
       "      <td>0.021277</td>\n",
       "      <td>0.009901</td>\n",
       "      <td>0.015873</td>\n",
       "      <td>0.0</td>\n",
       "      <td>0.015873</td>\n",
       "      <td>0.0</td>\n",
       "      <td>0.0</td>\n",
       "      <td>0.0</td>\n",
       "      <td>0.0</td>\n",
       "      <td>...</td>\n",
       "      <td>0.0</td>\n",
       "      <td>0.0</td>\n",
       "      <td>0.0</td>\n",
       "      <td>0.0</td>\n",
       "      <td>0.0</td>\n",
       "      <td>0.0</td>\n",
       "      <td>0.0</td>\n",
       "      <td>0.0</td>\n",
       "      <td>0.0</td>\n",
       "      <td>0.0</td>\n",
       "    </tr>\n",
       "    <tr>\n",
       "      <th>4</th>\n",
       "      <td>0.012658</td>\n",
       "      <td>0.0</td>\n",
       "      <td>0.0</td>\n",
       "      <td>0.0</td>\n",
       "      <td>0.028169</td>\n",
       "      <td>0.0</td>\n",
       "      <td>0.0</td>\n",
       "      <td>0.007194</td>\n",
       "      <td>0.0</td>\n",
       "      <td>0.0</td>\n",
       "      <td>...</td>\n",
       "      <td>0.0</td>\n",
       "      <td>0.0</td>\n",
       "      <td>0.0</td>\n",
       "      <td>0.0</td>\n",
       "      <td>0.0</td>\n",
       "      <td>0.0</td>\n",
       "      <td>0.0</td>\n",
       "      <td>0.0</td>\n",
       "      <td>0.0</td>\n",
       "      <td>0.0</td>\n",
       "    </tr>\n",
       "    <tr>\n",
       "      <th>5</th>\n",
       "      <td>0.0</td>\n",
       "      <td>0.213333</td>\n",
       "      <td>0.380952</td>\n",
       "      <td>0.038835</td>\n",
       "      <td>0.0</td>\n",
       "      <td>0.35443</td>\n",
       "      <td>0.0</td>\n",
       "      <td>0.0</td>\n",
       "      <td>0.009091</td>\n",
       "      <td>0.0</td>\n",
       "      <td>...</td>\n",
       "      <td>0.0</td>\n",
       "      <td>0.0</td>\n",
       "      <td>0.0</td>\n",
       "      <td>0.0</td>\n",
       "      <td>0.0</td>\n",
       "      <td>0.0</td>\n",
       "      <td>0.0</td>\n",
       "      <td>0.0</td>\n",
       "      <td>0.0</td>\n",
       "      <td>0.0</td>\n",
       "    </tr>\n",
       "    <tr>\n",
       "      <th>6</th>\n",
       "      <td>0.006289</td>\n",
       "      <td>0.020833</td>\n",
       "      <td>0.009804</td>\n",
       "      <td>0.015625</td>\n",
       "      <td>0.0</td>\n",
       "      <td>0.0</td>\n",
       "      <td>0.0</td>\n",
       "      <td>0.007194</td>\n",
       "      <td>0.0</td>\n",
       "      <td>0.0</td>\n",
       "      <td>...</td>\n",
       "      <td>0.0</td>\n",
       "      <td>0.0</td>\n",
       "      <td>0.0</td>\n",
       "      <td>0.0</td>\n",
       "      <td>0.0</td>\n",
       "      <td>0.0</td>\n",
       "      <td>0.0</td>\n",
       "      <td>0.0</td>\n",
       "      <td>0.0</td>\n",
       "      <td>0.0</td>\n",
       "    </tr>\n",
       "    <tr>\n",
       "      <th>7</th>\n",
       "      <td>0.0125</td>\n",
       "      <td>0.0</td>\n",
       "      <td>0.0</td>\n",
       "      <td>0.0</td>\n",
       "      <td>0.027397</td>\n",
       "      <td>0.0</td>\n",
       "      <td>0.0</td>\n",
       "      <td>0.007092</td>\n",
       "      <td>0.028986</td>\n",
       "      <td>0.025641</td>\n",
       "      <td>...</td>\n",
       "      <td>0.0</td>\n",
       "      <td>0.0</td>\n",
       "      <td>0.0</td>\n",
       "      <td>0.0</td>\n",
       "      <td>0.0</td>\n",
       "      <td>0.0</td>\n",
       "      <td>0.0</td>\n",
       "      <td>0.0</td>\n",
       "      <td>0.0</td>\n",
       "      <td>0.0</td>\n",
       "    </tr>\n",
       "    <tr>\n",
       "      <th>8</th>\n",
       "      <td>0.006329</td>\n",
       "      <td>0.0</td>\n",
       "      <td>0.0</td>\n",
       "      <td>0.0</td>\n",
       "      <td>0.0</td>\n",
       "      <td>0.0</td>\n",
       "      <td>0.0</td>\n",
       "      <td>0.007246</td>\n",
       "      <td>0.0</td>\n",
       "      <td>0.0</td>\n",
       "      <td>...</td>\n",
       "      <td>0.0</td>\n",
       "      <td>0.0</td>\n",
       "      <td>0.0</td>\n",
       "      <td>0.333333</td>\n",
       "      <td>0.0</td>\n",
       "      <td>0.0</td>\n",
       "      <td>0.0</td>\n",
       "      <td>0.0</td>\n",
       "      <td>0.0</td>\n",
       "      <td>0.0</td>\n",
       "    </tr>\n",
       "    <tr>\n",
       "      <th>9</th>\n",
       "      <td>0.438144</td>\n",
       "      <td>0.005988</td>\n",
       "      <td>0.004525</td>\n",
       "      <td>0.0</td>\n",
       "      <td>0.21519</td>\n",
       "      <td>0.0</td>\n",
       "      <td>0.0</td>\n",
       "      <td>0.348958</td>\n",
       "      <td>0.021739</td>\n",
       "      <td>0.00641</td>\n",
       "      <td>...</td>\n",
       "      <td>0.0</td>\n",
       "      <td>0.008065</td>\n",
       "      <td>0.0</td>\n",
       "      <td>0.0</td>\n",
       "      <td>0.0</td>\n",
       "      <td>0.016129</td>\n",
       "      <td>0.008065</td>\n",
       "      <td>0.01626</td>\n",
       "      <td>0.016393</td>\n",
       "      <td>0.016393</td>\n",
       "    </tr>\n",
       "    <tr>\n",
       "      <th>10</th>\n",
       "      <td>0.029915</td>\n",
       "      <td>0.023622</td>\n",
       "      <td>0.016575</td>\n",
       "      <td>0.106061</td>\n",
       "      <td>0.054795</td>\n",
       "      <td>0.006897</td>\n",
       "      <td>0.067961</td>\n",
       "      <td>0.072816</td>\n",
       "      <td>0.401869</td>\n",
       "      <td>0.226804</td>\n",
       "      <td>...</td>\n",
       "      <td>0.023256</td>\n",
       "      <td>0.011628</td>\n",
       "      <td>0.0</td>\n",
       "      <td>0.011765</td>\n",
       "      <td>0.011765</td>\n",
       "      <td>0.0</td>\n",
       "      <td>0.0</td>\n",
       "      <td>0.011628</td>\n",
       "      <td>0.0</td>\n",
       "      <td>0.0</td>\n",
       "    </tr>\n",
       "    <tr>\n",
       "      <th>11</th>\n",
       "      <td>0.034043</td>\n",
       "      <td>0.023256</td>\n",
       "      <td>0.016393</td>\n",
       "      <td>0.104478</td>\n",
       "      <td>0.054054</td>\n",
       "      <td>0.006803</td>\n",
       "      <td>0.066667</td>\n",
       "      <td>0.077295</td>\n",
       "      <td>0.394495</td>\n",
       "      <td>0.222222</td>\n",
       "      <td>...</td>\n",
       "      <td>0.022727</td>\n",
       "      <td>0.011364</td>\n",
       "      <td>0.0</td>\n",
       "      <td>0.023256</td>\n",
       "      <td>0.011494</td>\n",
       "      <td>0.0</td>\n",
       "      <td>0.0</td>\n",
       "      <td>0.011364</td>\n",
       "      <td>0.0</td>\n",
       "      <td>0.0</td>\n",
       "    </tr>\n",
       "    <tr>\n",
       "      <th>12</th>\n",
       "      <td>0.012739</td>\n",
       "      <td>0.0</td>\n",
       "      <td>0.0</td>\n",
       "      <td>0.0</td>\n",
       "      <td>0.014085</td>\n",
       "      <td>0.0</td>\n",
       "      <td>0.0</td>\n",
       "      <td>0.007246</td>\n",
       "      <td>0.0</td>\n",
       "      <td>0.0</td>\n",
       "      <td>...</td>\n",
       "      <td>0.0</td>\n",
       "      <td>0.0</td>\n",
       "      <td>0.0</td>\n",
       "      <td>0.0</td>\n",
       "      <td>0.0</td>\n",
       "      <td>0.0</td>\n",
       "      <td>0.0</td>\n",
       "      <td>0.0</td>\n",
       "      <td>0.0</td>\n",
       "      <td>0.0</td>\n",
       "    </tr>\n",
       "    <tr>\n",
       "      <th>13</th>\n",
       "      <td>0.017937</td>\n",
       "      <td>0.115385</td>\n",
       "      <td>0.148649</td>\n",
       "      <td>0.360825</td>\n",
       "      <td>0.007194</td>\n",
       "      <td>0.090909</td>\n",
       "      <td>0.21519</td>\n",
       "      <td>0.004854</td>\n",
       "      <td>0.0625</td>\n",
       "      <td>0.060606</td>\n",
       "      <td>...</td>\n",
       "      <td>0.013699</td>\n",
       "      <td>0.0</td>\n",
       "      <td>0.014085</td>\n",
       "      <td>0.0</td>\n",
       "      <td>0.014085</td>\n",
       "      <td>0.013699</td>\n",
       "      <td>0.028169</td>\n",
       "      <td>0.0</td>\n",
       "      <td>0.0</td>\n",
       "      <td>0.0</td>\n",
       "    </tr>\n",
       "    <tr>\n",
       "      <th>14</th>\n",
       "      <td>0.006329</td>\n",
       "      <td>0.0</td>\n",
       "      <td>0.0</td>\n",
       "      <td>0.0</td>\n",
       "      <td>0.0</td>\n",
       "      <td>0.0</td>\n",
       "      <td>0.0</td>\n",
       "      <td>0.0</td>\n",
       "      <td>0.0</td>\n",
       "      <td>0.0</td>\n",
       "      <td>...</td>\n",
       "      <td>0.2</td>\n",
       "      <td>0.0</td>\n",
       "      <td>0.0</td>\n",
       "      <td>0.0</td>\n",
       "      <td>0.0</td>\n",
       "      <td>0.0</td>\n",
       "      <td>0.0</td>\n",
       "      <td>0.0</td>\n",
       "      <td>0.0</td>\n",
       "      <td>0.0</td>\n",
       "    </tr>\n",
       "    <tr>\n",
       "      <th>15</th>\n",
       "      <td>0.0</td>\n",
       "      <td>0.0</td>\n",
       "      <td>0.0</td>\n",
       "      <td>0.0</td>\n",
       "      <td>0.014085</td>\n",
       "      <td>0.0</td>\n",
       "      <td>0.0</td>\n",
       "      <td>0.007246</td>\n",
       "      <td>0.014925</td>\n",
       "      <td>0.027778</td>\n",
       "      <td>...</td>\n",
       "      <td>0.0</td>\n",
       "      <td>0.0</td>\n",
       "      <td>0.0</td>\n",
       "      <td>0.0</td>\n",
       "      <td>0.0</td>\n",
       "      <td>0.0</td>\n",
       "      <td>0.0</td>\n",
       "      <td>0.0</td>\n",
       "      <td>0.0</td>\n",
       "      <td>0.0</td>\n",
       "    </tr>\n",
       "    <tr>\n",
       "      <th>16</th>\n",
       "      <td>0.504854</td>\n",
       "      <td>0.005051</td>\n",
       "      <td>0.0</td>\n",
       "      <td>0.004673</td>\n",
       "      <td>0.24581</td>\n",
       "      <td>0.0</td>\n",
       "      <td>0.0</td>\n",
       "      <td>0.421569</td>\n",
       "      <td>0.028169</td>\n",
       "      <td>0.010753</td>\n",
       "      <td>...</td>\n",
       "      <td>0.0</td>\n",
       "      <td>0.006452</td>\n",
       "      <td>0.006494</td>\n",
       "      <td>0.0</td>\n",
       "      <td>0.0</td>\n",
       "      <td>0.019481</td>\n",
       "      <td>0.0</td>\n",
       "      <td>0.012987</td>\n",
       "      <td>0.013072</td>\n",
       "      <td>0.0</td>\n",
       "    </tr>\n",
       "    <tr>\n",
       "      <th>17</th>\n",
       "      <td>0.135294</td>\n",
       "      <td>0.0</td>\n",
       "      <td>0.0</td>\n",
       "      <td>0.0</td>\n",
       "      <td>0.104167</td>\n",
       "      <td>0.0</td>\n",
       "      <td>0.0</td>\n",
       "      <td>0.153333</td>\n",
       "      <td>0.02</td>\n",
       "      <td>0.028986</td>\n",
       "      <td>...</td>\n",
       "      <td>0.0</td>\n",
       "      <td>0.0</td>\n",
       "      <td>0.0</td>\n",
       "      <td>0.0</td>\n",
       "      <td>0.0</td>\n",
       "      <td>0.025641</td>\n",
       "      <td>0.0</td>\n",
       "      <td>0.0</td>\n",
       "      <td>0.0</td>\n",
       "      <td>0.0</td>\n",
       "    </tr>\n",
       "    <tr>\n",
       "      <th>18</th>\n",
       "      <td>0.005102</td>\n",
       "      <td>0.162162</td>\n",
       "      <td>0.308411</td>\n",
       "      <td>0.0625</td>\n",
       "      <td>0.0</td>\n",
       "      <td>0.259259</td>\n",
       "      <td>0.03125</td>\n",
       "      <td>0.0</td>\n",
       "      <td>0.0</td>\n",
       "      <td>0.0</td>\n",
       "      <td>...</td>\n",
       "      <td>0.0</td>\n",
       "      <td>0.0</td>\n",
       "      <td>0.0</td>\n",
       "      <td>0.0</td>\n",
       "      <td>0.0</td>\n",
       "      <td>0.0</td>\n",
       "      <td>0.0</td>\n",
       "      <td>0.0</td>\n",
       "      <td>0.0</td>\n",
       "      <td>0.0</td>\n",
       "    </tr>\n",
       "    <tr>\n",
       "      <th>19</th>\n",
       "      <td>0.012739</td>\n",
       "      <td>0.0</td>\n",
       "      <td>0.0</td>\n",
       "      <td>0.0</td>\n",
       "      <td>0.0</td>\n",
       "      <td>0.0</td>\n",
       "      <td>0.0</td>\n",
       "      <td>0.007246</td>\n",
       "      <td>0.0</td>\n",
       "      <td>0.0</td>\n",
       "      <td>...</td>\n",
       "      <td>0.0</td>\n",
       "      <td>0.0</td>\n",
       "      <td>0.0</td>\n",
       "      <td>0.0</td>\n",
       "      <td>0.0</td>\n",
       "      <td>0.0</td>\n",
       "      <td>0.0</td>\n",
       "      <td>0.0</td>\n",
       "      <td>0.0</td>\n",
       "      <td>0.0</td>\n",
       "    </tr>\n",
       "    <tr>\n",
       "      <th>20</th>\n",
       "      <td>0.022523</td>\n",
       "      <td>0.115385</td>\n",
       "      <td>0.14094</td>\n",
       "      <td>0.360825</td>\n",
       "      <td>0.007194</td>\n",
       "      <td>0.073171</td>\n",
       "      <td>0.230769</td>\n",
       "      <td>0.009756</td>\n",
       "      <td>0.0625</td>\n",
       "      <td>0.060606</td>\n",
       "      <td>...</td>\n",
       "      <td>0.013699</td>\n",
       "      <td>0.0</td>\n",
       "      <td>0.014085</td>\n",
       "      <td>0.0</td>\n",
       "      <td>0.014085</td>\n",
       "      <td>0.013699</td>\n",
       "      <td>0.028169</td>\n",
       "      <td>0.0</td>\n",
       "      <td>0.0</td>\n",
       "      <td>0.0</td>\n",
       "    </tr>\n",
       "    <tr>\n",
       "      <th>21</th>\n",
       "      <td>0.034884</td>\n",
       "      <td>0.030769</td>\n",
       "      <td>0.008333</td>\n",
       "      <td>0.012195</td>\n",
       "      <td>0.034091</td>\n",
       "      <td>0.0</td>\n",
       "      <td>0.0</td>\n",
       "      <td>0.067568</td>\n",
       "      <td>0.035714</td>\n",
       "      <td>0.018182</td>\n",
       "      <td>...</td>\n",
       "      <td>0.0</td>\n",
       "      <td>0.043478</td>\n",
       "      <td>0.045455</td>\n",
       "      <td>0.0</td>\n",
       "      <td>0.0</td>\n",
       "      <td>0.0</td>\n",
       "      <td>0.0</td>\n",
       "      <td>0.0</td>\n",
       "      <td>0.0</td>\n",
       "      <td>0.045455</td>\n",
       "    </tr>\n",
       "  </tbody>\n",
       "</table>\n",
       "<p>22 rows × 28 columns</p>\n",
       "</div>"
      ],
      "text/plain": [
       "          0         1         2         3         4         5         6   \\\n",
       "0   0.056604       0.0       0.0       0.0  0.038462       0.0       0.0   \n",
       "1   0.004115  0.266667  0.654867   0.07971       0.0  0.520408  0.008929   \n",
       "2   0.256684       0.0       0.0       0.0  0.174603       0.0       0.0   \n",
       "3        0.0  0.021277  0.009901  0.015873       0.0  0.015873       0.0   \n",
       "4   0.012658       0.0       0.0       0.0  0.028169       0.0       0.0   \n",
       "5        0.0  0.213333  0.380952  0.038835       0.0   0.35443       0.0   \n",
       "6   0.006289  0.020833  0.009804  0.015625       0.0       0.0       0.0   \n",
       "7     0.0125       0.0       0.0       0.0  0.027397       0.0       0.0   \n",
       "8   0.006329       0.0       0.0       0.0       0.0       0.0       0.0   \n",
       "9   0.438144  0.005988  0.004525       0.0   0.21519       0.0       0.0   \n",
       "10  0.029915  0.023622  0.016575  0.106061  0.054795  0.006897  0.067961   \n",
       "11  0.034043  0.023256  0.016393  0.104478  0.054054  0.006803  0.066667   \n",
       "12  0.012739       0.0       0.0       0.0  0.014085       0.0       0.0   \n",
       "13  0.017937  0.115385  0.148649  0.360825  0.007194  0.090909   0.21519   \n",
       "14  0.006329       0.0       0.0       0.0       0.0       0.0       0.0   \n",
       "15       0.0       0.0       0.0       0.0  0.014085       0.0       0.0   \n",
       "16  0.504854  0.005051       0.0  0.004673   0.24581       0.0       0.0   \n",
       "17  0.135294       0.0       0.0       0.0  0.104167       0.0       0.0   \n",
       "18  0.005102  0.162162  0.308411    0.0625       0.0  0.259259   0.03125   \n",
       "19  0.012739       0.0       0.0       0.0       0.0       0.0       0.0   \n",
       "20  0.022523  0.115385   0.14094  0.360825  0.007194  0.073171  0.230769   \n",
       "21  0.034884  0.030769  0.008333  0.012195  0.034091       0.0       0.0   \n",
       "\n",
       "          7         8         9   ...        18        19        20        21  \\\n",
       "0   0.013699  0.013158  0.045455  ...       0.0       0.0       0.0       0.0   \n",
       "1        0.0  0.006579       0.0  ...       0.0       0.0       0.0       0.0   \n",
       "2   0.264706  0.058824  0.027273  ...       0.0    0.0125       0.0       0.0   \n",
       "3        0.0       0.0       0.0  ...       0.0       0.0       0.0       0.0   \n",
       "4   0.007194       0.0       0.0  ...       0.0       0.0       0.0       0.0   \n",
       "5        0.0  0.009091       0.0  ...       0.0       0.0       0.0       0.0   \n",
       "6   0.007194       0.0       0.0  ...       0.0       0.0       0.0       0.0   \n",
       "7   0.007092  0.028986  0.025641  ...       0.0       0.0       0.0       0.0   \n",
       "8   0.007246       0.0       0.0  ...       0.0       0.0       0.0  0.333333   \n",
       "9   0.348958  0.021739   0.00641  ...       0.0  0.008065       0.0       0.0   \n",
       "10  0.072816  0.401869  0.226804  ...  0.023256  0.011628       0.0  0.011765   \n",
       "11  0.077295  0.394495  0.222222  ...  0.022727  0.011364       0.0  0.023256   \n",
       "12  0.007246       0.0       0.0  ...       0.0       0.0       0.0       0.0   \n",
       "13  0.004854    0.0625  0.060606  ...  0.013699       0.0  0.014085       0.0   \n",
       "14       0.0       0.0       0.0  ...       0.2       0.0       0.0       0.0   \n",
       "15  0.007246  0.014925  0.027778  ...       0.0       0.0       0.0       0.0   \n",
       "16  0.421569  0.028169  0.010753  ...       0.0  0.006452  0.006494       0.0   \n",
       "17  0.153333      0.02  0.028986  ...       0.0       0.0       0.0       0.0   \n",
       "18       0.0       0.0       0.0  ...       0.0       0.0       0.0       0.0   \n",
       "19  0.007246       0.0       0.0  ...       0.0       0.0       0.0       0.0   \n",
       "20  0.009756    0.0625  0.060606  ...  0.013699       0.0  0.014085       0.0   \n",
       "21  0.067568  0.035714  0.018182  ...       0.0  0.043478  0.045455       0.0   \n",
       "\n",
       "          22        23        24        25        26        27  \n",
       "0        0.0       0.0       0.0       0.0       0.0       0.0  \n",
       "1        0.0       0.0       0.0       0.0       0.0       0.0  \n",
       "2        0.0       0.0    0.0125       0.0       0.0  0.012658  \n",
       "3        0.0       0.0       0.0       0.0       0.0       0.0  \n",
       "4        0.0       0.0       0.0       0.0       0.0       0.0  \n",
       "5        0.0       0.0       0.0       0.0       0.0       0.0  \n",
       "6        0.0       0.0       0.0       0.0       0.0       0.0  \n",
       "7        0.0       0.0       0.0       0.0       0.0       0.0  \n",
       "8        0.0       0.0       0.0       0.0       0.0       0.0  \n",
       "9        0.0  0.016129  0.008065   0.01626  0.016393  0.016393  \n",
       "10  0.011765       0.0       0.0  0.011628       0.0       0.0  \n",
       "11  0.011494       0.0       0.0  0.011364       0.0       0.0  \n",
       "12       0.0       0.0       0.0       0.0       0.0       0.0  \n",
       "13  0.014085  0.013699  0.028169       0.0       0.0       0.0  \n",
       "14       0.0       0.0       0.0       0.0       0.0       0.0  \n",
       "15       0.0       0.0       0.0       0.0       0.0       0.0  \n",
       "16       0.0  0.019481       0.0  0.012987  0.013072       0.0  \n",
       "17       0.0  0.025641       0.0       0.0       0.0       0.0  \n",
       "18       0.0       0.0       0.0       0.0       0.0       0.0  \n",
       "19       0.0       0.0       0.0       0.0       0.0       0.0  \n",
       "20  0.014085  0.013699  0.028169       0.0       0.0       0.0  \n",
       "21       0.0       0.0       0.0       0.0       0.0  0.045455  \n",
       "\n",
       "[22 rows x 28 columns]"
      ]
     },
     "execution_count": 75,
     "metadata": {},
     "output_type": "execute_result"
    }
   ],
   "source": [
    "stability_df"
   ]
  },
  {
   "cell_type": "code",
   "execution_count": 76,
   "id": "dc927183",
   "metadata": {
    "ExecuteTime": {
     "end_time": "2021-09-21T06:36:41.757981Z",
     "start_time": "2021-09-21T06:36:41.690435Z"
    }
   },
   "outputs": [],
   "source": [
    "df = df.sort_values('sharpe').reset_index(drop=True)\n",
    "            \n",
    "pre_df = pre_df.sort_values('sharpe').reset_index(drop=True)\n",
    "\n",
    "stability_df = pd.DataFrame(index=list(range(len(df))), columns=list(range(len(pre_df))))\n",
    "\n",
    "for i in range(len(df)):\n",
    "    for j in range(len(pre_df)):\n",
    "        distance = calculate_noise_stability(\n",
    "            set(df.loc[i, 'stocks']),\n",
    "            set(pre_df.loc[j, 'stocks'])\n",
    "        )\n",
    "        stability_df.loc[i, j] = distance"
   ]
  },
  {
   "cell_type": "code",
   "execution_count": 78,
   "id": "02e39433",
   "metadata": {
    "ExecuteTime": {
     "end_time": "2021-09-21T06:36:46.541898Z",
     "start_time": "2021-09-21T06:36:46.534640Z"
    }
   },
   "outputs": [
    {
     "data": {
      "text/plain": [
       "0.6548672566371682"
      ]
     },
     "execution_count": 78,
     "metadata": {},
     "output_type": "execute_result"
    }
   ],
   "source": [
    "stability_df.max().max()"
   ]
  },
  {
   "cell_type": "code",
   "execution_count": null,
   "id": "f30cd30b",
   "metadata": {},
   "outputs": [],
   "source": []
  }
 ],
 "metadata": {
  "kernelspec": {
   "display_name": "Python 3 (ipykernel)",
   "language": "python",
   "name": "python3"
  },
  "language_info": {
   "codemirror_mode": {
    "name": "ipython",
    "version": 3
   },
   "file_extension": ".py",
   "mimetype": "text/x-python",
   "name": "python",
   "nbconvert_exporter": "python",
   "pygments_lexer": "ipython3",
   "version": "3.8.2"
  },
  "toc": {
   "base_numbering": 1,
   "nav_menu": {},
   "number_sections": true,
   "sideBar": true,
   "skip_h1_title": false,
   "title_cell": "Table of Contents",
   "title_sidebar": "Contents",
   "toc_cell": false,
   "toc_position": {},
   "toc_section_display": true,
   "toc_window_display": false
  },
  "varInspector": {
   "cols": {
    "lenName": 16,
    "lenType": 16,
    "lenVar": 40
   },
   "kernels_config": {
    "python": {
     "delete_cmd_postfix": "",
     "delete_cmd_prefix": "del ",
     "library": "var_list.py",
     "varRefreshCmd": "print(var_dic_list())"
    },
    "r": {
     "delete_cmd_postfix": ") ",
     "delete_cmd_prefix": "rm(",
     "library": "var_list.r",
     "varRefreshCmd": "cat(var_dic_list()) "
    }
   },
   "types_to_exclude": [
    "module",
    "function",
    "builtin_function_or_method",
    "instance",
    "_Feature"
   ],
   "window_display": false
  }
 },
 "nbformat": 4,
 "nbformat_minor": 5
}
