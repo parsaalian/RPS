{
 "cells": [
  {
   "cell_type": "code",
   "execution_count": 1,
   "id": "d22fe166",
   "metadata": {
    "ExecuteTime": {
     "end_time": "2021-09-21T10:02:44.008652Z",
     "start_time": "2021-09-21T10:02:44.005638Z"
    }
   },
   "outputs": [],
   "source": [
    "import os\n",
    "import sys\n",
    "module_path = os.path.abspath(os.path.join('..'))\n",
    "if module_path not in sys.path:\n",
    "    sys.path.append(module_path)"
   ]
  },
  {
   "cell_type": "code",
   "execution_count": 2,
   "id": "e043c94a",
   "metadata": {
    "ExecuteTime": {
     "end_time": "2021-09-21T10:02:44.976628Z",
     "start_time": "2021-09-21T10:02:44.164651Z"
    }
   },
   "outputs": [],
   "source": [
    "import pandas as pd\n",
    "import matplotlib.pyplot as plt\n",
    "import seaborn as sns\n",
    "sns.set()\n",
    "%matplotlib inline"
   ]
  },
  {
   "cell_type": "code",
   "execution_count": 3,
   "id": "c865e81c",
   "metadata": {
    "ExecuteTime": {
     "end_time": "2021-09-21T10:02:46.118853Z",
     "start_time": "2021-09-21T10:02:45.568793Z"
    }
   },
   "outputs": [],
   "source": [
    "from models.RPS import readable_to_df_list\n",
    "from utils.measures import calculate_noise_stability"
   ]
  },
  {
   "cell_type": "code",
   "execution_count": 41,
   "id": "e7447e2d",
   "metadata": {
    "ExecuteTime": {
     "end_time": "2021-09-21T10:09:49.190740Z",
     "start_time": "2021-09-21T10:09:49.178864Z"
    }
   },
   "outputs": [],
   "source": [
    "pre_df = pd.read_csv('../exp/RPS/RPS_sp500_2021-Sep-19-11-41-05/results.csv')\n",
    "pre_df = readable_to_df_list(pre_df, columns=['stocks'])\n",
    "\n",
    "df = pd.read_csv('../exp/RPS/RPS_sp500_2021-Sep-21-10-34-26/noised_results.csv')\n",
    "df = readable_to_df_list(df, columns=['stocks'])"
   ]
  },
  {
   "cell_type": "code",
   "execution_count": 42,
   "id": "0d5f4aa8",
   "metadata": {
    "ExecuteTime": {
     "end_time": "2021-09-21T10:09:50.494121Z",
     "start_time": "2021-09-21T10:09:50.422803Z"
    }
   },
   "outputs": [],
   "source": [
    "stability_df = pd.DataFrame(index=list(range(len(df))), columns=list(range(len(pre_df))), dtype=float)\n",
    "\n",
    "for i in range(len(df)):\n",
    "    for j in range(len(pre_df)):\n",
    "        distance = calculate_noise_stability(\n",
    "            set(df.loc[i, 'stocks']),\n",
    "            set(pre_df.loc[j, 'stocks'])\n",
    "        )\n",
    "        stability_df.loc[i, j] = distance"
   ]
  },
  {
   "cell_type": "code",
   "execution_count": 43,
   "id": "09a30863",
   "metadata": {
    "ExecuteTime": {
     "end_time": "2021-09-21T10:09:51.454012Z",
     "start_time": "2021-09-21T10:09:51.451094Z"
    }
   },
   "outputs": [],
   "source": [
    "rps_stb = stability_df"
   ]
  },
  {
   "cell_type": "code",
   "execution_count": 44,
   "id": "02e39433",
   "metadata": {
    "ExecuteTime": {
     "end_time": "2021-09-21T10:09:52.174497Z",
     "start_time": "2021-09-21T10:09:51.923615Z"
    }
   },
   "outputs": [
    {
     "data": {
      "text/plain": [
       "<AxesSubplot:>"
      ]
     },
     "execution_count": 44,
     "metadata": {},
     "output_type": "execute_result"
    },
    {
     "data": {
      "image/png": "[encoded data removed]",
      "text/plain": [
       "<Figure size 432x288 with 2 Axes>"
      ]
     },
     "metadata": {
      "needs_background": "light"
     },
     "output_type": "display_data"
    }
   ],
   "source": [
    "sns.heatmap(rps_stb, vmin=0)"
   ]
  },
  {
   "cell_type": "code",
   "execution_count": null,
   "id": "f30cd30b",
   "metadata": {},
   "outputs": [],
   "source": []
  },
  {
   "cell_type": "code",
   "execution_count": 45,
   "id": "342f84ff",
   "metadata": {
    "ExecuteTime": {
     "end_time": "2021-09-21T10:09:54.752723Z",
     "start_time": "2021-09-21T10:09:54.742182Z"
    }
   },
   "outputs": [],
   "source": [
    "pre_df = pd.read_csv('../exp/Mantegna/Mantegna_sp500_2021-Sep-21-13-38-58/mantegna_results.csv')\n",
    "pre_df = readable_to_df_list(pre_df, columns=['stocks'])\n",
    "df = pd.read_csv('../exp/Mantegna/Mantegna_sp500_2021-Sep-21-14-32-22/mantegna_noised_results.csv')\n",
    "df = readable_to_df_list(df, columns=['stocks'])"
   ]
  },
  {
   "cell_type": "code",
   "execution_count": 47,
   "id": "56154a29",
   "metadata": {
    "ExecuteTime": {
     "end_time": "2021-09-21T10:10:02.103968Z",
     "start_time": "2021-09-21T10:10:02.023641Z"
    }
   },
   "outputs": [],
   "source": [
    "stability_df = pd.DataFrame(index=list(range(len(df))), columns=list(range(len(pre_df))), dtype=float)\n",
    "\n",
    "for i in range(len(df)):\n",
    "    for j in range(len(pre_df)):\n",
    "        distance = calculate_noise_stability(\n",
    "            set(df.loc[i, 'stocks']),\n",
    "            set(pre_df.loc[j, 'stocks'])\n",
    "        )\n",
    "        stability_df.loc[i, j] = distance"
   ]
  },
  {
   "cell_type": "code",
   "execution_count": 48,
   "id": "ef1cbffa",
   "metadata": {
    "ExecuteTime": {
     "end_time": "2021-09-21T10:10:02.220033Z",
     "start_time": "2021-09-21T10:10:02.217911Z"
    }
   },
   "outputs": [],
   "source": [
    "mtg_stb = stability_df"
   ]
  },
  {
   "cell_type": "code",
   "execution_count": 49,
   "id": "99ee6a20",
   "metadata": {
    "ExecuteTime": {
     "end_time": "2021-09-21T10:10:04.662068Z",
     "start_time": "2021-09-21T10:10:04.408008Z"
    }
   },
   "outputs": [
    {
     "data": {
      "text/plain": [
       "<AxesSubplot:>"
      ]
     },
     "execution_count": 49,
     "metadata": {},
     "output_type": "execute_result"
    },
    {
     "data": {
      "image/png": "[encoded data removed]",
      "text/plain": [
       "<Figure size 432x288 with 2 Axes>"
      ]
     },
     "metadata": {
      "needs_background": "light"
     },
     "output_type": "display_data"
    }
   ],
   "source": [
    "sns.heatmap(mtg_stb, vmin=0)"
   ]
  },
  {
   "cell_type": "code",
   "execution_count": 54,
   "id": "ddcd94d8",
   "metadata": {
    "ExecuteTime": {
     "end_time": "2021-09-21T10:10:24.139596Z",
     "start_time": "2021-09-21T10:10:23.973584Z"
    }
   },
   "outputs": [
    {
     "data": {
      "text/plain": [
       "<AxesSubplot:>"
      ]
     },
     "execution_count": 54,
     "metadata": {},
     "output_type": "execute_result"
    },
    {
     "data": {
      "image/png": "[encoded data removed]",
      "text/plain": [
       "<Figure size 432x288 with 1 Axes>"
      ]
     },
     "metadata": {
      "needs_background": "light"
     },
     "output_type": "display_data"
    }
   ],
   "source": [
    "rps_stb.max().hist()"
   ]
  },
  {
   "cell_type": "code",
   "execution_count": 55,
   "id": "7d1d7e89",
   "metadata": {
    "ExecuteTime": {
     "end_time": "2021-09-21T10:10:29.463397Z",
     "start_time": "2021-09-21T10:10:29.292401Z"
    }
   },
   "outputs": [
    {
     "data": {
      "text/plain": [
       "<AxesSubplot:>"
      ]
     },
     "execution_count": 55,
     "metadata": {},
     "output_type": "execute_result"
    },
    {
     "data": {
      "image/png": "[encoded data removed]",
      "text/plain": [
       "<Figure size 432x288 with 1 Axes>"
      ]
     },
     "metadata": {
      "needs_background": "light"
     },
     "output_type": "display_data"
    }
   ],
   "source": [
    "mtg_stb.max().hist()"
   ]
  },
  {
   "cell_type": "code",
   "execution_count": null,
   "id": "a8434069",
   "metadata": {},
   "outputs": [],
   "source": []
  }
 ],
 "metadata": {
  "kernelspec": {
   "display_name": "Python 3 (ipykernel)",
   "language": "python",
   "name": "python3"
  },
  "language_info": {
   "codemirror_mode": {
    "name": "ipython",
    "version": 3
   },
   "file_extension": ".py",
   "mimetype": "text/x-python",
   "name": "python",
   "nbconvert_exporter": "python",
   "pygments_lexer": "ipython3",
   "version": "3.8.9"
  },
  "toc": {
   "base_numbering": 1,
   "nav_menu": {},
   "number_sections": true,
   "sideBar": true,
   "skip_h1_title": false,
   "title_cell": "Table of Contents",
   "title_sidebar": "Contents",
   "toc_cell": false,
   "toc_position": {},
   "toc_section_display": true,
   "toc_window_display": false
  },
  "varInspector": {
   "cols": {
    "lenName": 16,
    "lenType": 16,
    "lenVar": 40
   },
   "kernels_config": {
    "python": {
     "delete_cmd_postfix": "",
     "delete_cmd_prefix": "del ",
     "library": "var_list.py",
     "varRefreshCmd": "print(var_dic_list())"
    },
    "r": {
     "delete_cmd_postfix": ") ",
     "delete_cmd_prefix": "rm(",
     "library": "var_list.r",
     "varRefreshCmd": "cat(var_dic_list()) "
    }
   },
   "types_to_exclude": [
    "module",
    "function",
    "builtin_function_or_method",
    "instance",
    "_Feature"
   ],
   "window_display": false
  }
 },
 "nbformat": 4,
 "nbformat_minor": 5
}
