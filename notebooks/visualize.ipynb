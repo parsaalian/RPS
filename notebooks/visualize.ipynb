{
 "cells": [
  {
   "cell_type": "code",
   "execution_count": 1,
   "id": "c5eef062",
   "metadata": {
    "ExecuteTime": {
     "end_time": "2021-09-28T18:17:54.424589Z",
     "start_time": "2021-09-28T18:17:54.421090Z"
    }
   },
   "outputs": [],
   "source": [
    "import os\n",
    "import sys\n",
    "module_path = os.path.abspath(os.path.join('..'))\n",
    "if module_path not in sys.path:\n",
    "    sys.path.append(module_path)"
   ]
  },
  {
   "cell_type": "code",
   "execution_count": 2,
   "id": "c870bc0a",
   "metadata": {
    "ExecuteTime": {
     "end_time": "2021-09-28T18:17:56.139197Z",
     "start_time": "2021-09-28T18:17:55.037402Z"
    }
   },
   "outputs": [],
   "source": [
    "import numpy as np\n",
    "import pandas as pd\n",
    "import matplotlib\n",
    "import matplotlib.pyplot as plt\n",
    "import seaborn as sns\n",
    "sns.set()\n",
    "%matplotlib inline"
   ]
  },
  {
   "cell_type": "code",
   "execution_count": 3,
   "id": "0412fcff",
   "metadata": {
    "ExecuteTime": {
     "end_time": "2021-09-28T18:17:56.153810Z",
     "start_time": "2021-09-28T18:17:56.150037Z"
    }
   },
   "outputs": [],
   "source": [
    "from utils.readable_df import readable_to_df_list, df_list_to_readable"
   ]
  },
  {
   "cell_type": "code",
   "execution_count": 8,
   "id": "f5ba8f64",
   "metadata": {
    "ExecuteTime": {
     "end_time": "2021-09-28T18:19:11.718933Z",
     "start_time": "2021-09-28T18:19:11.707863Z"
    }
   },
   "outputs": [],
   "source": [
    "rps_ns = pd.read_csv('../reports/csv/rps_ns_agg.csv')\n",
    "spx_ns = pd.read_csv('../reports/csv/spx_ns_agg.csv')\n",
    "mtg_ns = pd.read_csv('../reports/csv/mtg_ns_agg.csv')\n",
    "\n",
    "ns_df = rps_ns.append(spx_ns).append(mtg_ns).reset_index(drop=True)\n",
    "ns_df['method'] = ns_df.config.str.split('_').apply(lambda x: x[0])"
   ]
  },
  {
   "cell_type": "code",
   "execution_count": 17,
   "id": "871d2d10",
   "metadata": {
    "ExecuteTime": {
     "end_time": "2021-09-28T18:21:22.708120Z",
     "start_time": "2021-09-28T18:21:22.697063Z"
    }
   },
   "outputs": [
    {
     "data": {
      "text/html": [
       "<div>\n",
       "<style scoped>\n",
       "    .dataframe tbody tr th:only-of-type {\n",
       "        vertical-align: middle;\n",
       "    }\n",
       "\n",
       "    .dataframe tbody tr th {\n",
       "        vertical-align: top;\n",
       "    }\n",
       "\n",
       "    .dataframe thead th {\n",
       "        text-align: right;\n",
       "    }\n",
       "</style>\n",
       "<table border=\"1\" class=\"dataframe\">\n",
       "  <thead>\n",
       "    <tr style=\"text-align: right;\">\n",
       "      <th></th>\n",
       "      <th>min</th>\n",
       "      <th>max</th>\n",
       "      <th>ptmean</th>\n",
       "      <th>config</th>\n",
       "      <th>method</th>\n",
       "    </tr>\n",
       "  </thead>\n",
       "  <tbody>\n",
       "    <tr>\n",
       "      <th>54</th>\n",
       "      <td>0.176471</td>\n",
       "      <td>1.000000</td>\n",
       "      <td>0.528711</td>\n",
       "      <td>Mantegna_indextrack4_CLA_weight_volatility</td>\n",
       "      <td>Mantegna</td>\n",
       "    </tr>\n",
       "    <tr>\n",
       "      <th>53</th>\n",
       "      <td>0.266667</td>\n",
       "      <td>1.000000</td>\n",
       "      <td>0.527205</td>\n",
       "      <td>Mantegna_indextrack4_CLA_weight_sharpe</td>\n",
       "      <td>Mantegna</td>\n",
       "    </tr>\n",
       "    <tr>\n",
       "      <th>9</th>\n",
       "      <td>0.083333</td>\n",
       "      <td>0.714286</td>\n",
       "      <td>0.460720</td>\n",
       "      <td>RPS_indextrack4_FCM_clustering_12_CLA_weight_s...</td>\n",
       "      <td>RPS</td>\n",
       "    </tr>\n",
       "    <tr>\n",
       "      <th>7</th>\n",
       "      <td>0.075000</td>\n",
       "      <td>0.666667</td>\n",
       "      <td>0.422308</td>\n",
       "      <td>RPS_indextrack4_FCM_clustering_8_CLA_weight_sh...</td>\n",
       "      <td>RPS</td>\n",
       "    </tr>\n",
       "    <tr>\n",
       "      <th>14</th>\n",
       "      <td>0.046512</td>\n",
       "      <td>0.679245</td>\n",
       "      <td>0.363441</td>\n",
       "      <td>RPS_indextrack4_FCM_clustering_10_CLA_weight_s...</td>\n",
       "      <td>RPS</td>\n",
       "    </tr>\n",
       "    <tr>\n",
       "      <th>19</th>\n",
       "      <td>0.000000</td>\n",
       "      <td>0.000000</td>\n",
       "      <td>0.000000</td>\n",
       "      <td>Splex_indextrack4_uniform_weight_returns_2_return</td>\n",
       "      <td>Splex</td>\n",
       "    </tr>\n",
       "    <tr>\n",
       "      <th>24</th>\n",
       "      <td>0.000000</td>\n",
       "      <td>0.000000</td>\n",
       "      <td>0.000000</td>\n",
       "      <td>Splex_indextrack4_MVO_weight_2_volatility</td>\n",
       "      <td>Splex</td>\n",
       "    </tr>\n",
       "    <tr>\n",
       "      <th>26</th>\n",
       "      <td>0.000000</td>\n",
       "      <td>0.000000</td>\n",
       "      <td>0.000000</td>\n",
       "      <td>Splex_indextrack4_MVO_weight_2_return</td>\n",
       "      <td>Splex</td>\n",
       "    </tr>\n",
       "    <tr>\n",
       "      <th>31</th>\n",
       "      <td>0.000000</td>\n",
       "      <td>0.000000</td>\n",
       "      <td>0.000000</td>\n",
       "      <td>Splex_indextrack4_CLA_weight_2_sharpe</td>\n",
       "      <td>Splex</td>\n",
       "    </tr>\n",
       "    <tr>\n",
       "      <th>41</th>\n",
       "      <td>0.000000</td>\n",
       "      <td>0.000000</td>\n",
       "      <td>0.000000</td>\n",
       "      <td>Splex_indextrack4_MVO_weight_2_sharpe</td>\n",
       "      <td>Splex</td>\n",
       "    </tr>\n",
       "    <tr>\n",
       "      <th>42</th>\n",
       "      <td>0.000000</td>\n",
       "      <td>0.000000</td>\n",
       "      <td>0.000000</td>\n",
       "      <td>Splex_indextrack4_CLA_weight_2_volatility</td>\n",
       "      <td>Splex</td>\n",
       "    </tr>\n",
       "    <tr>\n",
       "      <th>45</th>\n",
       "      <td>0.000000</td>\n",
       "      <td>0.000000</td>\n",
       "      <td>0.000000</td>\n",
       "      <td>Splex_indextrack4_HRP_weight_2</td>\n",
       "      <td>Splex</td>\n",
       "    </tr>\n",
       "  </tbody>\n",
       "</table>\n",
       "</div>"
      ],
      "text/plain": [
       "         min       max    ptmean  \\\n",
       "54  0.176471  1.000000  0.528711   \n",
       "53  0.266667  1.000000  0.527205   \n",
       "9   0.083333  0.714286  0.460720   \n",
       "7   0.075000  0.666667  0.422308   \n",
       "14  0.046512  0.679245  0.363441   \n",
       "19  0.000000  0.000000  0.000000   \n",
       "24  0.000000  0.000000  0.000000   \n",
       "26  0.000000  0.000000  0.000000   \n",
       "31  0.000000  0.000000  0.000000   \n",
       "41  0.000000  0.000000  0.000000   \n",
       "42  0.000000  0.000000  0.000000   \n",
       "45  0.000000  0.000000  0.000000   \n",
       "\n",
       "                                               config    method  \n",
       "54         Mantegna_indextrack4_CLA_weight_volatility  Mantegna  \n",
       "53             Mantegna_indextrack4_CLA_weight_sharpe  Mantegna  \n",
       "9   RPS_indextrack4_FCM_clustering_12_CLA_weight_s...       RPS  \n",
       "7   RPS_indextrack4_FCM_clustering_8_CLA_weight_sh...       RPS  \n",
       "14  RPS_indextrack4_FCM_clustering_10_CLA_weight_s...       RPS  \n",
       "19  Splex_indextrack4_uniform_weight_returns_2_return     Splex  \n",
       "24          Splex_indextrack4_MVO_weight_2_volatility     Splex  \n",
       "26              Splex_indextrack4_MVO_weight_2_return     Splex  \n",
       "31              Splex_indextrack4_CLA_weight_2_sharpe     Splex  \n",
       "41              Splex_indextrack4_MVO_weight_2_sharpe     Splex  \n",
       "42          Splex_indextrack4_CLA_weight_2_volatility     Splex  \n",
       "45                     Splex_indextrack4_HRP_weight_2     Splex  "
      ]
     },
     "execution_count": 17,
     "metadata": {},
     "output_type": "execute_result"
    }
   ],
   "source": [
    "ns_df[ns_df.config.str.contains('indextrack4')].sort_values('ptmean', ascending=False)"
   ]
  },
  {
   "cell_type": "code",
   "execution_count": 18,
   "id": "e20c2640",
   "metadata": {
    "ExecuteTime": {
     "end_time": "2021-09-28T18:22:00.714563Z",
     "start_time": "2021-09-28T18:22:00.703038Z"
    }
   },
   "outputs": [],
   "source": [
    "rps_ts = pd.read_csv('../reports/csv/rps_ts_agg.csv')\n",
    "spx_ts = pd.read_csv('../reports/csv/spx_ts_agg.csv')\n",
    "mtg_ts = pd.read_csv('../reports/csv/mtg_ts_agg.csv')\n",
    "\n",
    "ts_df = rps_ts.append(spx_ts).append(mtg_ts).reset_index(drop=True)\n",
    "ts_df['method'] = ts_df.config.str.split('_').apply(lambda x: x[0])"
   ]
  },
  {
   "cell_type": "code",
   "execution_count": 24,
   "id": "9b0ce62e",
   "metadata": {
    "ExecuteTime": {
     "end_time": "2021-09-28T18:22:43.513539Z",
     "start_time": "2021-09-28T18:22:43.502581Z"
    }
   },
   "outputs": [
    {
     "data": {
      "text/html": [
       "<div>\n",
       "<style scoped>\n",
       "    .dataframe tbody tr th:only-of-type {\n",
       "        vertical-align: middle;\n",
       "    }\n",
       "\n",
       "    .dataframe tbody tr th {\n",
       "        vertical-align: top;\n",
       "    }\n",
       "\n",
       "    .dataframe thead th {\n",
       "        text-align: right;\n",
       "    }\n",
       "</style>\n",
       "<table border=\"1\" class=\"dataframe\">\n",
       "  <thead>\n",
       "    <tr style=\"text-align: right;\">\n",
       "      <th></th>\n",
       "      <th>min</th>\n",
       "      <th>max</th>\n",
       "      <th>ptmean</th>\n",
       "      <th>config</th>\n",
       "      <th>method</th>\n",
       "    </tr>\n",
       "  </thead>\n",
       "  <tbody>\n",
       "    <tr>\n",
       "      <th>75</th>\n",
       "      <td>0.074074</td>\n",
       "      <td>0.450000</td>\n",
       "      <td>0.228190</td>\n",
       "      <td>Mantegna_sp500_MVO_weight_volatility</td>\n",
       "      <td>Mantegna</td>\n",
       "    </tr>\n",
       "    <tr>\n",
       "      <th>83</th>\n",
       "      <td>0.074074</td>\n",
       "      <td>0.450000</td>\n",
       "      <td>0.228190</td>\n",
       "      <td>Mantegna_sp500_HRP_weight</td>\n",
       "      <td>Mantegna</td>\n",
       "    </tr>\n",
       "    <tr>\n",
       "      <th>105</th>\n",
       "      <td>0.074074</td>\n",
       "      <td>0.450000</td>\n",
       "      <td>0.228190</td>\n",
       "      <td>Mantegna_sp500_uniform_weight_returns_return</td>\n",
       "      <td>Mantegna</td>\n",
       "    </tr>\n",
       "    <tr>\n",
       "      <th>84</th>\n",
       "      <td>0.074074</td>\n",
       "      <td>0.450000</td>\n",
       "      <td>0.223613</td>\n",
       "      <td>Mantegna_sp500_CLA_weight_volatility</td>\n",
       "      <td>Mantegna</td>\n",
       "    </tr>\n",
       "    <tr>\n",
       "      <th>88</th>\n",
       "      <td>0.074074</td>\n",
       "      <td>0.450000</td>\n",
       "      <td>0.223613</td>\n",
       "      <td>Mantegna_sp500_CLA_weight_sharpe</td>\n",
       "      <td>Mantegna</td>\n",
       "    </tr>\n",
       "    <tr>\n",
       "      <th>76</th>\n",
       "      <td>0.074074</td>\n",
       "      <td>0.450000</td>\n",
       "      <td>0.214417</td>\n",
       "      <td>Mantegna_sp500_MVO_weight_risk</td>\n",
       "      <td>Mantegna</td>\n",
       "    </tr>\n",
       "    <tr>\n",
       "      <th>109</th>\n",
       "      <td>0.074074</td>\n",
       "      <td>0.450000</td>\n",
       "      <td>0.192135</td>\n",
       "      <td>Mantegna_sp500_MVO_weight_sharpe</td>\n",
       "      <td>Mantegna</td>\n",
       "    </tr>\n",
       "    <tr>\n",
       "      <th>3</th>\n",
       "      <td>0.015873</td>\n",
       "      <td>0.391509</td>\n",
       "      <td>0.119387</td>\n",
       "      <td>RPS_sp500_FCM_clustering_50_uniform_weight_ret...</td>\n",
       "      <td>RPS</td>\n",
       "    </tr>\n",
       "    <tr>\n",
       "      <th>12</th>\n",
       "      <td>0.018519</td>\n",
       "      <td>0.413793</td>\n",
       "      <td>0.118341</td>\n",
       "      <td>RPS_sp500_FCM_clustering_60_uniform_weight_ret...</td>\n",
       "      <td>RPS</td>\n",
       "    </tr>\n",
       "    <tr>\n",
       "      <th>16</th>\n",
       "      <td>0.020000</td>\n",
       "      <td>0.409283</td>\n",
       "      <td>0.105925</td>\n",
       "      <td>RPS_sp500_FCM_clustering_40_uniform_weight_ret...</td>\n",
       "      <td>RPS</td>\n",
       "    </tr>\n",
       "    <tr>\n",
       "      <th>99</th>\n",
       "      <td>0.108108</td>\n",
       "      <td>0.185185</td>\n",
       "      <td>0.058302</td>\n",
       "      <td>Mantegna_sp500_MVO_weight_return</td>\n",
       "      <td>Mantegna</td>\n",
       "    </tr>\n",
       "  </tbody>\n",
       "</table>\n",
       "</div>"
      ],
      "text/plain": [
       "          min       max    ptmean  \\\n",
       "75   0.074074  0.450000  0.228190   \n",
       "83   0.074074  0.450000  0.228190   \n",
       "105  0.074074  0.450000  0.228190   \n",
       "84   0.074074  0.450000  0.223613   \n",
       "88   0.074074  0.450000  0.223613   \n",
       "76   0.074074  0.450000  0.214417   \n",
       "109  0.074074  0.450000  0.192135   \n",
       "3    0.015873  0.391509  0.119387   \n",
       "12   0.018519  0.413793  0.118341   \n",
       "16   0.020000  0.409283  0.105925   \n",
       "99   0.108108  0.185185  0.058302   \n",
       "\n",
       "                                                config    method  \n",
       "75                Mantegna_sp500_MVO_weight_volatility  Mantegna  \n",
       "83                           Mantegna_sp500_HRP_weight  Mantegna  \n",
       "105       Mantegna_sp500_uniform_weight_returns_return  Mantegna  \n",
       "84                Mantegna_sp500_CLA_weight_volatility  Mantegna  \n",
       "88                    Mantegna_sp500_CLA_weight_sharpe  Mantegna  \n",
       "76                      Mantegna_sp500_MVO_weight_risk  Mantegna  \n",
       "109                   Mantegna_sp500_MVO_weight_sharpe  Mantegna  \n",
       "3    RPS_sp500_FCM_clustering_50_uniform_weight_ret...       RPS  \n",
       "12   RPS_sp500_FCM_clustering_60_uniform_weight_ret...       RPS  \n",
       "16   RPS_sp500_FCM_clustering_40_uniform_weight_ret...       RPS  \n",
       "99                    Mantegna_sp500_MVO_weight_return  Mantegna  "
      ]
     },
     "execution_count": 24,
     "metadata": {},
     "output_type": "execute_result"
    }
   ],
   "source": [
    "ts_df[ts_df.config.str.contains('sp500')].sort_values('ptmean', ascending=False)"
   ]
  },
  {
   "cell_type": "code",
   "execution_count": null,
   "id": "24883e6b",
   "metadata": {},
   "outputs": [],
   "source": []
  },
  {
   "cell_type": "code",
   "execution_count": null,
   "id": "49b3495b",
   "metadata": {},
   "outputs": [],
   "source": []
  },
  {
   "cell_type": "code",
   "execution_count": 20,
   "id": "02cc83e7",
   "metadata": {
    "ExecuteTime": {
     "end_time": "2021-09-28T09:29:46.503664Z",
     "start_time": "2021-09-28T09:29:45.862787Z"
    }
   },
   "outputs": [],
   "source": [
    "rps_df = readable_to_df_list(pd.read_csv('../reports/csv/rps_prev_agg.csv'), columns=[\"stocks\", \"weights\"])\n",
    "spx_df = readable_to_df_list(pd.read_csv('../reports/csv/spx_prev_agg.csv'), columns=[\"stocks\", \"weights\"])\n",
    "rnd_df = readable_to_df_list(pd.read_csv('../reports/csv/rnd_prev_agg.csv'), columns=[\"stocks\", \"weights\"])\n",
    "mtg_df = readable_to_df_list(pd.read_csv('../reports/csv/mtg_prev_agg.csv'), columns=[\"stocks\", \"weights\"])\n",
    "\n",
    "prev_df = rps_df.append(spx_df).append(rnd_df).append(mtg_df).reset_index(drop=True)\n",
    "prev_df['method'] = prev_df.config.str.split('_').apply(lambda x: x[0])"
   ]
  },
  {
   "cell_type": "code",
   "execution_count": 21,
   "id": "640062f6",
   "metadata": {
    "ExecuteTime": {
     "end_time": "2021-09-28T09:29:47.671496Z",
     "start_time": "2021-09-28T09:29:47.027538Z"
    }
   },
   "outputs": [],
   "source": [
    "sma_df = readable_to_df_list(pd.read_csv('../reports/csv/sa_fp_agg.csv'), columns=[\"stocks\", \"weights\"])\n",
    "rps_df = readable_to_df_list(pd.read_csv('../reports/csv/rps_fp_agg.csv'), columns=[\"stocks\", \"weights\"])\n",
    "spx_df = readable_to_df_list(pd.read_csv('../reports/csv/spx_fp_agg.csv'), columns=[\"stocks\", \"weights\"])\n",
    "rnd_df = readable_to_df_list(pd.read_csv('../reports/csv/rnd_fp_agg.csv'), columns=[\"stocks\", \"weights\"])\n",
    "mtg_df = readable_to_df_list(pd.read_csv('../reports/csv/mtg_fp_agg.csv'), columns=[\"stocks\", \"weights\"])\n",
    "\n",
    "fp_df = sma_df.append(rps_df).append(spx_df).append(rnd_df).append(mtg_df).reset_index(drop=True)\n",
    "fp_df['method'] = fp_df.config.str.split('_').apply(lambda x: x[0])"
   ]
  },
  {
   "cell_type": "code",
   "execution_count": 167,
   "id": "31689b94",
   "metadata": {
    "ExecuteTime": {
     "end_time": "2021-09-28T10:46:44.649384Z",
     "start_time": "2021-09-28T10:46:44.641000Z"
    }
   },
   "outputs": [],
   "source": [
    "def add_optimizer(config):\n",
    "    if 'SA' in config:\n",
    "        return 'SA'\n",
    "    if 'CLA' in config:\n",
    "        return 'CLA'\n",
    "    elif 'MVO' in config:\n",
    "        return 'MVO'\n",
    "    elif 'HRP' in config:\n",
    "        return 'HRP'\n",
    "    else:\n",
    "        return 'uniform'\n",
    "\n",
    "prev_df['optimizer'] = prev_df['config'].apply(add_optimizer)    \n",
    "fp_df['optimizer'] = fp_df['config'].apply(add_optimizer)"
   ]
  },
  {
   "cell_type": "markdown",
   "id": "b3e4b4ea",
   "metadata": {},
   "source": [
    "# Efficient Frontier Plot"
   ]
  },
  {
   "cell_type": "code",
   "execution_count": 78,
   "id": "b0028c5a",
   "metadata": {
    "ExecuteTime": {
     "end_time": "2021-09-28T10:03:00.240901Z",
     "start_time": "2021-09-28T10:03:00.237671Z"
    }
   },
   "outputs": [],
   "source": [
    "ef_df = fp_df.copy()"
   ]
  },
  {
   "cell_type": "code",
   "execution_count": 81,
   "id": "1b61dec5",
   "metadata": {
    "ExecuteTime": {
     "end_time": "2021-09-28T10:04:50.981442Z",
     "start_time": "2021-09-28T10:04:50.967604Z"
    }
   },
   "outputs": [],
   "source": [
    "ef_sa = ef_df[ef_df.optimizer == 'SA']\n",
    "ef_df = ef_df[ef_df.optimizer != 'SA']\n",
    "\n",
    "ef_sa.optimizer = 'CLA'\n",
    "ef_df = ef_df.append(ef_sa)\n",
    "ef_sa.optimizer = 'HRP'\n",
    "ef_df = ef_df.append(ef_sa)\n",
    "ef_sa.optimizer = 'MVO'\n",
    "ef_df = ef_df.append(ef_sa)\n",
    "ef_sa.optimizer = 'uniform'\n",
    "ef_df = ef_df.append(ef_sa)\n",
    "\n",
    "ef_df = ef_df.reset_index(drop=True)"
   ]
  },
  {
   "cell_type": "code",
   "execution_count": 114,
   "id": "8ac52a8c",
   "metadata": {
    "ExecuteTime": {
     "end_time": "2021-09-28T10:18:42.744298Z",
     "start_time": "2021-09-28T10:18:42.739441Z"
    }
   },
   "outputs": [],
   "source": [
    "from data import *\n",
    "from pypfopt.efficient_frontier import EfficientFrontier\n",
    "from pypfopt.expected_returns import ema_historical_return\n",
    "import pypfopt.plotting as plotting"
   ]
  },
  {
   "cell_type": "code",
   "execution_count": 107,
   "id": "0c0f9983",
   "metadata": {
    "ExecuteTime": {
     "end_time": "2021-09-28T10:14:59.848248Z",
     "start_time": "2021-09-28T10:14:59.845210Z"
    }
   },
   "outputs": [],
   "source": [
    "class sp500_dataset:\n",
    "    data_path = '../data/SP500/SP_20180402_20200401.csv'\n",
    "\n",
    "class sp500_train:\n",
    "    start_date = '2019-08-02'\n",
    "    end_date = '2019-09-01'"
   ]
  },
  {
   "cell_type": "code",
   "execution_count": 124,
   "id": "21130843",
   "metadata": {
    "ExecuteTime": {
     "end_time": "2021-09-28T10:22:24.110870Z",
     "start_time": "2021-09-28T10:22:24.107667Z"
    }
   },
   "outputs": [],
   "source": [
    "class idx_dataset:\n",
    "    data_path = '../data/indextrack/indextrack1.txt'\n",
    "\n",
    "class idx_train:\n",
    "    start_date = 200\n",
    "    end_date = 290"
   ]
  },
  {
   "cell_type": "code",
   "execution_count": 125,
   "id": "330055da",
   "metadata": {
    "ExecuteTime": {
     "end_time": "2021-09-28T10:22:24.494110Z",
     "start_time": "2021-09-28T10:22:24.481630Z"
    }
   },
   "outputs": [],
   "source": [
    "'''ef_dataset = SP500_loader(sp500_dataset, sp500_train)\n",
    "ef_dataset = ef_dataset.drop(columns=[ef_dataset.columns[366]])\n",
    "returns = ema_historical_return(ef_dataset)\n",
    "ef = EfficientFrontier(returns, ef_dataset.cov())'''\n",
    "\n",
    "ef_dataset = indextrack_loader(idx_dataset, idx_train)\n",
    "returns = ema_historical_return(ef_dataset)\n",
    "ef = EfficientFrontier(returns, ef_dataset.cov())"
   ]
  },
  {
   "cell_type": "code",
   "execution_count": 152,
   "id": "6207524f",
   "metadata": {
    "ExecuteTime": {
     "end_time": "2021-09-28T10:40:12.174937Z",
     "start_time": "2021-09-28T10:40:10.439355Z"
    },
    "scrolled": false
   },
   "outputs": [
    {
     "data": {
      "text/plain": [
       "<Figure size 460.8x316.8 with 0 Axes>"
      ]
     },
     "metadata": {},
     "output_type": "display_data"
    },
    {
     "data": {
      "image/png": "[encoded data removed]",
      "text/plain": [
       "<Figure size 864x216 with 4 Axes>"
      ]
     },
     "metadata": {},
     "output_type": "display_data"
    }
   ],
   "source": [
    "def set_style():\n",
    "    plt.style.use(['seaborn-white', 'seaborn-paper'])\n",
    "    matplotlib.rc(\"font\", family=\"Times New Roman\")\n",
    "    \n",
    "def set_size(fig):\n",
    "    fig.set_size_inches(12, 3)\n",
    "    plt.tight_layout()\n",
    "\n",
    "def plot_ef(data):\n",
    "    g = sns.FacetGrid(data, col=\"optimizer\")\n",
    "    g.map_dataframe(sns.scatterplot, x='sigma', y='return', hue=\"method\", style=\"method\")\n",
    "    lgd = g.add_legend()\n",
    "    # sns.move_legend(g, \"upper left\", bbox_to_anchor=(1, 1))\n",
    "    axes = np.array(g.axes.flat)\n",
    "    '''for ax in axes:\n",
    "        risk_range = np.linspace(0.1, 0.5, 20)\n",
    "        plotting.plot_efficient_frontier(\n",
    "            ef,\n",
    "            ax=ax,\n",
    "            # ef_param=\"risk\",\n",
    "            ef_param_range=np.linspace(0.0, 6.0, 100),\n",
    "            show_assets=False,\n",
    "            show_fig=False,\n",
    "        )'''\n",
    "    return plt.gcf(), axes, lgd\n",
    "\n",
    "def set_labels(fig, axes):\n",
    "    labels = [\"HRP\", \"CLA\", \"uniform\", \"MVO\"]\n",
    "    \n",
    "    for i, ax in enumerate(axes):\n",
    "        # ax.set_xticks([1])\n",
    "        # ax.set_xticklabels([\"risk\"])\n",
    "        ax.set_xlabel(labels[i])\n",
    "        ax.set_ylabel(\"\")\n",
    "        ax.set_title(\"\")\n",
    "    axes.flat[0].set_ylabel(\"return\")\n",
    "    sns.despine(ax=axes[1], left=True)\n",
    "    sns.despine(ax=axes[2], left=True)\n",
    "    sns.despine(ax=axes[3], left=True)\n",
    "    fig.suptitle(\"Efficient Frontier for Different Optimizers\", fontsize=12, x=0.55)\n",
    "\n",
    "    \n",
    "plt.gcf().clear()\n",
    "set_style()\n",
    "fig, axes, lgd = plot_ef(ef_df[ef_df.config.str.contains('sp500')].dropna());\n",
    "set_size(fig)\n",
    "set_labels(fig, axes)\n",
    "plt.savefig('../reports/plots/efficient_frontier_sp500.png', dpi=300)"
   ]
  },
  {
   "cell_type": "markdown",
   "id": "e82dac21",
   "metadata": {},
   "source": [
    "# All together"
   ]
  },
  {
   "cell_type": "code",
   "execution_count": 144,
   "id": "d124dda4",
   "metadata": {
    "ExecuteTime": {
     "end_time": "2021-09-28T10:33:49.788196Z",
     "start_time": "2021-09-28T10:33:49.556199Z"
    }
   },
   "outputs": [
    {
     "data": {
      "text/plain": [
       "<AxesSubplot:xlabel='sigma', ylabel='return'>"
      ]
     },
     "execution_count": 144,
     "metadata": {},
     "output_type": "execute_result"
    },
    {
     "data": {
      "image/png": "[encoded data removed]",
      "text/plain": [
       "<Figure size 460.8x316.8 with 1 Axes>"
      ]
     },
     "metadata": {},
     "output_type": "display_data"
    }
   ],
   "source": [
    "sns.scatterplot(\n",
    "    data=fp_df[fp_df.config.str.contains('sp500')].dropna().sort_values('method', ascending=False),\n",
    "    x='sigma', y='return', hue='method', style='method',\n",
    ")"
   ]
  },
  {
   "cell_type": "markdown",
   "id": "9d084b6a",
   "metadata": {
    "ExecuteTime": {
     "end_time": "2021-09-28T10:40:45.424417Z",
     "start_time": "2021-09-28T10:40:45.400573Z"
    }
   },
   "source": [
    "# Return relation"
   ]
  },
  {
   "cell_type": "code",
   "execution_count": 173,
   "id": "1b30ceeb",
   "metadata": {
    "ExecuteTime": {
     "end_time": "2021-09-28T10:47:25.399086Z",
     "start_time": "2021-09-28T10:47:25.147364Z"
    }
   },
   "outputs": [
    {
     "data": {
      "text/plain": [
       "<AxesSubplot:xlabel='prev_return', ylabel='return'>"
      ]
     },
     "execution_count": 173,
     "metadata": {},
     "output_type": "execute_result"
    },
    {
     "data": {
      "image/png": "[encoded data removed]",
      "text/plain": [
       "<Figure size 460.8x316.8 with 1 Axes>"
      ]
     },
     "metadata": {},
     "output_type": "display_data"
    }
   ],
   "source": [
    "rps_fp = fp_df[(fp_df.method == 'RPS') & (fp_df.optimizer == 'uniform')].set_index('config')\n",
    "rps_fp = rps_fp[~rps_fp.index.duplicated(keep='first')]\n",
    "\n",
    "rps_prev = prev_df[(prev_df.method == 'RPS') & (prev_df.optimizer == 'uniform')].set_index('config')\n",
    "rps_prev = rps_prev[~rps_prev.index.duplicated(keep='first')]\n",
    "\n",
    "rps_fp.loc[:, 'prev_return'] = rps_prev.loc[:, 'return']\n",
    "\n",
    "rps_fp = rps_fp.dropna()\n",
    "\n",
    "sns.regplot(data=rps_fp, x=\"prev_return\", y=\"return\")"
   ]
  },
  {
   "cell_type": "code",
   "execution_count": null,
   "id": "2afb1864",
   "metadata": {},
   "outputs": [],
   "source": []
  }
 ],
 "metadata": {
  "kernelspec": {
   "display_name": "Python 3 (ipykernel)",
   "language": "python",
   "name": "python3"
  },
  "language_info": {
   "codemirror_mode": {
    "name": "ipython",
    "version": 3
   },
   "file_extension": ".py",
   "mimetype": "text/x-python",
   "name": "python",
   "nbconvert_exporter": "python",
   "pygments_lexer": "ipython3",
   "version": "3.8.9"
  },
  "toc": {
   "base_numbering": 1,
   "nav_menu": {},
   "number_sections": true,
   "sideBar": true,
   "skip_h1_title": false,
   "title_cell": "Table of Contents",
   "title_sidebar": "Contents",
   "toc_cell": false,
   "toc_position": {},
   "toc_section_display": true,
   "toc_window_display": false
  },
  "varInspector": {
   "cols": {
    "lenName": 16,
    "lenType": 16,
    "lenVar": 40
   },
   "kernels_config": {
    "python": {
     "delete_cmd_postfix": "",
     "delete_cmd_prefix": "del ",
     "library": "var_list.py",
     "varRefreshCmd": "print(var_dic_list())"
    },
    "r": {
     "delete_cmd_postfix": ") ",
     "delete_cmd_prefix": "rm(",
     "library": "var_list.r",
     "varRefreshCmd": "cat(var_dic_list()) "
    }
   },
   "types_to_exclude": [
    "module",
    "function",
    "builtin_function_or_method",
    "instance",
    "_Feature"
   ],
   "window_display": false
  }
 },
 "nbformat": 4,
 "nbformat_minor": 5
}
