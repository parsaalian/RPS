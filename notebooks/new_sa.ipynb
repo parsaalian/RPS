{
 "cells": [
  {
   "cell_type": "code",
   "execution_count": 1,
   "id": "64bd5843",
   "metadata": {
    "ExecuteTime": {
     "end_time": "2021-09-21T14:05:12.767420Z",
     "start_time": "2021-09-21T14:05:12.759895Z"
    }
   },
   "outputs": [],
   "source": [
    "import os\n",
    "import sys\n",
    "module_path = os.path.abspath(os.path.join('..'))\n",
    "if module_path not in sys.path:\n",
    "    sys.path.append(module_path)"
   ]
  },
  {
   "cell_type": "code",
   "execution_count": 2,
   "id": "2f7b66d0",
   "metadata": {
    "ExecuteTime": {
     "end_time": "2021-09-21T14:05:13.809049Z",
     "start_time": "2021-09-21T14:05:13.222263Z"
    }
   },
   "outputs": [],
   "source": [
    "import numpy as np\n",
    "import pandas as pd\n",
    "from pypfopt.expected_returns import ema_historical_return"
   ]
  },
  {
   "cell_type": "code",
   "execution_count": 3,
   "id": "b999a1c4",
   "metadata": {
    "ExecuteTime": {
     "end_time": "2021-09-21T14:05:14.284610Z",
     "start_time": "2021-09-21T14:05:14.278216Z"
    }
   },
   "outputs": [],
   "source": [
    "from data import *"
   ]
  },
  {
   "cell_type": "code",
   "execution_count": 4,
   "id": "08c26624",
   "metadata": {
    "ExecuteTime": {
     "end_time": "2021-09-21T14:05:15.506308Z",
     "start_time": "2021-09-21T14:05:15.502939Z"
    }
   },
   "outputs": [],
   "source": [
    "class dataset:\n",
    "    data_path = '../data/SP500/SP_20180402_20200401.csv'\n",
    "\n",
    "class train:\n",
    "    start_date = '2019-04-01'\n",
    "    end_date = '2019-08-01'"
   ]
  },
  {
   "cell_type": "code",
   "execution_count": 5,
   "id": "412eb701",
   "metadata": {
    "ExecuteTime": {
     "end_time": "2021-09-21T14:05:16.360289Z",
     "start_time": "2021-09-21T14:05:16.182535Z"
    }
   },
   "outputs": [],
   "source": [
    "train_dataset = SP500_loader(dataset, train)"
   ]
  },
  {
   "cell_type": "code",
   "execution_count": 6,
   "id": "9cdde741",
   "metadata": {
    "ExecuteTime": {
     "end_time": "2021-09-21T14:05:16.901400Z",
     "start_time": "2021-09-21T14:05:16.886436Z"
    }
   },
   "outputs": [],
   "source": [
    "mu = ema_historical_return(train_dataset)\n",
    "C = train_dataset.cov()"
   ]
  },
  {
   "cell_type": "code",
   "execution_count": 7,
   "id": "3ec4ab56",
   "metadata": {
    "ExecuteTime": {
     "end_time": "2021-09-21T14:05:17.552410Z",
     "start_time": "2021-09-21T14:05:17.549952Z"
    }
   },
   "outputs": [],
   "source": [
    "N = len(train_dataset.columns)\n",
    "K = 30"
   ]
  },
  {
   "cell_type": "code",
   "execution_count": 8,
   "id": "5fc46915",
   "metadata": {
    "ExecuteTime": {
     "end_time": "2021-09-21T14:05:18.300803Z",
     "start_time": "2021-09-21T14:05:18.295945Z"
    }
   },
   "outputs": [],
   "source": [
    "randoms = np.random.uniform(0, 1, (K))\n",
    "randoms = list(randoms / randoms.sum())\n",
    "w = np.random.permutation([*randoms, *[0 for i in range(N - K)]])\n",
    "ws = w.copy()\n",
    "\n",
    "gamma = 0.95\n",
    "gamma_u = 0.95\n",
    "u = 0.1\n",
    "T = 100\n",
    "I = int(N * (N - 1) / 2)"
   ]
  },
  {
   "cell_type": "code",
   "execution_count": 9,
   "id": "4a74b1b7",
   "metadata": {
    "ExecuteTime": {
     "end_time": "2021-09-21T14:05:18.993672Z",
     "start_time": "2021-09-21T14:05:18.990455Z"
    }
   },
   "outputs": [],
   "source": []
  },
  {
   "cell_type": "code",
   "execution_count": 10,
   "id": "3b5ade9b",
   "metadata": {
    "ExecuteTime": {
     "end_time": "2021-09-21T14:05:19.952978Z",
     "start_time": "2021-09-21T14:05:19.655077Z"
    }
   },
   "outputs": [],
   "source": [
    "for k in range(2 * N):\n",
    "    wu = w.copy()\n",
    "    choices = np.where(w != 0.0)[0]\n",
    "    i = np.random.choice(choices)\n",
    "    j = np.random.randint(N)\n",
    "    if w[j] == 0:\n",
    "        wu[j] = w[i]\n",
    "        wu[i] = 0\n",
    "    else:\n",
    "        ui = ru = np.random.uniform(0, min(u, w[i], w[j]))\n",
    "        wu[j] = w[j] + ui\n",
    "        wu[i] = w[i] - ui\n",
    "    dl = L(wu, mu, C) - L(w, mu, C)\n",
    "    if dl > 0:\n",
    "        w = wu.copy()\n",
    "        if L(w, mu, C) > L(ws, mu, C):\n",
    "            ws = w.copy()\n",
    "    else:\n",
    "        p = np.random.uniform(0, 1)\n",
    "        if p <= np.exp(dl / T):\n",
    "            w = wu.copy()\n",
    "    T = gamma * T\n",
    "    u = gamma_u * u"
   ]
  },
  {
   "cell_type": "code",
   "execution_count": 11,
   "id": "86b185cf",
   "metadata": {
    "ExecuteTime": {
     "end_time": "2021-09-21T14:05:25.853105Z",
     "start_time": "2021-09-21T14:05:25.838911Z"
    }
   },
   "outputs": [
    {
     "data": {
      "text/plain": [
       "array([0.        , 0.        , 0.        , 0.        , 0.        ,\n",
       "       0.        , 0.        , 0.        , 0.        , 0.        ,\n",
       "       0.        , 0.        , 0.        , 0.        , 0.        ,\n",
       "       0.        , 0.        , 0.        , 0.        , 0.        ,\n",
       "       0.        , 0.        , 0.        , 0.0133049 , 0.        ,\n",
       "       0.00625893, 0.        , 0.        , 0.        , 0.        ,\n",
       "       0.        , 0.03665734, 0.        , 0.        , 0.        ,\n",
       "       0.        , 0.        , 0.        , 0.        , 0.        ,\n",
       "       0.        , 0.        , 0.        , 0.        , 0.        ,\n",
       "       0.        , 0.        , 0.01290469, 0.        , 0.        ,\n",
       "       0.        , 0.        , 0.        , 0.        , 0.05803392,\n",
       "       0.        , 0.        , 0.        , 0.        , 0.        ,\n",
       "       0.        , 0.        , 0.        , 0.        , 0.        ,\n",
       "       0.        , 0.05428702, 0.        , 0.        , 0.        ,\n",
       "       0.        , 0.        , 0.017041  , 0.        , 0.        ,\n",
       "       0.        , 0.        , 0.        , 0.        , 0.        ,\n",
       "       0.05721432, 0.03985798, 0.        , 0.        , 0.        ,\n",
       "       0.        , 0.        , 0.        , 0.        , 0.        ,\n",
       "       0.        , 0.        , 0.        , 0.        , 0.        ,\n",
       "       0.        , 0.        , 0.        , 0.        , 0.        ,\n",
       "       0.        , 0.        , 0.        , 0.        , 0.        ,\n",
       "       0.        , 0.        , 0.        , 0.        , 0.        ,\n",
       "       0.        , 0.        , 0.        , 0.        , 0.        ,\n",
       "       0.        , 0.        , 0.        , 0.        , 0.        ,\n",
       "       0.        , 0.        , 0.        , 0.        , 0.        ,\n",
       "       0.        , 0.        , 0.        , 0.        , 0.        ,\n",
       "       0.        , 0.01153959, 0.        , 0.        , 0.        ,\n",
       "       0.        , 0.        , 0.        , 0.        , 0.        ,\n",
       "       0.        , 0.        , 0.        , 0.        , 0.        ,\n",
       "       0.        , 0.        , 0.        , 0.        , 0.        ,\n",
       "       0.        , 0.        , 0.        , 0.        , 0.        ,\n",
       "       0.        , 0.        , 0.        , 0.        , 0.        ,\n",
       "       0.        , 0.06072609, 0.        , 0.        , 0.        ,\n",
       "       0.        , 0.        , 0.05855435, 0.        , 0.        ,\n",
       "       0.        , 0.0071921 , 0.        , 0.        , 0.        ,\n",
       "       0.        , 0.        , 0.        , 0.        , 0.        ,\n",
       "       0.        , 0.        , 0.        , 0.        , 0.        ,\n",
       "       0.        , 0.        , 0.        , 0.        , 0.        ,\n",
       "       0.        , 0.        , 0.        , 0.        , 0.        ,\n",
       "       0.        , 0.03029219, 0.        , 0.        , 0.        ,\n",
       "       0.        , 0.        , 0.        , 0.06857624, 0.        ,\n",
       "       0.        , 0.        , 0.        , 0.        , 0.        ,\n",
       "       0.        , 0.        , 0.        , 0.        , 0.        ,\n",
       "       0.        , 0.        , 0.        , 0.        , 0.        ,\n",
       "       0.        , 0.        , 0.        , 0.        , 0.        ,\n",
       "       0.05881033, 0.        , 0.        , 0.        , 0.        ,\n",
       "       0.        , 0.04904489, 0.        , 0.        , 0.        ,\n",
       "       0.        , 0.        , 0.        , 0.        , 0.        ,\n",
       "       0.        , 0.        , 0.        , 0.        , 0.        ,\n",
       "       0.        , 0.        , 0.        , 0.        , 0.        ,\n",
       "       0.0579551 , 0.        , 0.        , 0.        , 0.        ,\n",
       "       0.        , 0.        , 0.        , 0.        , 0.        ,\n",
       "       0.        , 0.        , 0.        , 0.        , 0.        ,\n",
       "       0.        , 0.        , 0.        , 0.        , 0.        ,\n",
       "       0.        , 0.        , 0.        , 0.        , 0.        ,\n",
       "       0.03677721, 0.        , 0.        , 0.        , 0.        ,\n",
       "       0.        , 0.        , 0.        , 0.        , 0.        ,\n",
       "       0.        , 0.        , 0.        , 0.        , 0.        ,\n",
       "       0.        , 0.        , 0.        , 0.        , 0.        ,\n",
       "       0.        , 0.        , 0.        , 0.        , 0.        ,\n",
       "       0.        , 0.        , 0.        , 0.        , 0.        ,\n",
       "       0.        , 0.        , 0.        , 0.        , 0.        ,\n",
       "       0.        , 0.        , 0.        , 0.        , 0.        ,\n",
       "       0.        , 0.        , 0.        , 0.        , 0.        ,\n",
       "       0.        , 0.        , 0.        , 0.00530441, 0.        ,\n",
       "       0.        , 0.        , 0.        , 0.        , 0.        ,\n",
       "       0.        , 0.        , 0.        , 0.        , 0.        ,\n",
       "       0.        , 0.        , 0.        , 0.        , 0.        ,\n",
       "       0.        , 0.01182866, 0.        , 0.        , 0.        ,\n",
       "       0.        , 0.        , 0.        , 0.        , 0.        ,\n",
       "       0.        , 0.        , 0.        , 0.        , 0.        ,\n",
       "       0.        , 0.        , 0.        , 0.        , 0.        ,\n",
       "       0.        , 0.05835059, 0.        , 0.        , 0.0187468 ,\n",
       "       0.        , 0.        , 0.        , 0.        , 0.        ,\n",
       "       0.        , 0.        , 0.        , 0.        , 0.        ,\n",
       "       0.        , 0.        , 0.03514551, 0.        , 0.        ,\n",
       "       0.        , 0.        , 0.        , 0.        , 0.        ,\n",
       "       0.        , 0.        , 0.0096397 , 0.01564064, 0.        ,\n",
       "       0.        , 0.        , 0.        , 0.        , 0.        ,\n",
       "       0.        , 0.        , 0.        , 0.        , 0.        ,\n",
       "       0.        , 0.        , 0.        , 0.        , 0.        ,\n",
       "       0.        , 0.        , 0.        , 0.        , 0.        ,\n",
       "       0.        , 0.        , 0.        , 0.        , 0.        ,\n",
       "       0.        , 0.        , 0.        , 0.00805068, 0.        ,\n",
       "       0.        , 0.        , 0.        , 0.        , 0.        ,\n",
       "       0.        , 0.        , 0.05285995, 0.        , 0.        ,\n",
       "       0.        , 0.        , 0.        , 0.        , 0.        ,\n",
       "       0.        , 0.        , 0.        , 0.        , 0.        ,\n",
       "       0.        , 0.        , 0.        , 0.04089618, 0.        ,\n",
       "       0.        , 0.        , 0.        , 0.        , 0.        ,\n",
       "       0.        , 0.        , 0.        , 0.        , 0.        ,\n",
       "       0.        , 0.        , 0.        , 0.        , 0.        ,\n",
       "       0.        , 0.        , 0.00311006, 0.        , 0.        ])"
      ]
     },
     "execution_count": 11,
     "metadata": {},
     "output_type": "execute_result"
    }
   ],
   "source": [
    "ws"
   ]
  },
  {
   "cell_type": "code",
   "execution_count": 13,
   "id": "a573a417",
   "metadata": {
    "ExecuteTime": {
     "end_time": "2021-09-21T14:05:58.900678Z",
     "start_time": "2021-09-21T14:05:58.734859Z"
    }
   },
   "outputs": [],
   "source": [
    "from utils.financial_measures import *"
   ]
  },
  {
   "cell_type": "code",
   "execution_count": 17,
   "id": "65a8c17d",
   "metadata": {
    "ExecuteTime": {
     "end_time": "2021-09-21T14:07:28.541079Z",
     "start_time": "2021-09-21T14:07:28.430935Z"
    }
   },
   "outputs": [],
   "source": [
    "weights, \\\n",
    "corr_min, \\\n",
    "corr_max, \\\n",
    "corr_mean, \\\n",
    "corr_std, \\\n",
    "port_return, \\\n",
    "port_std, \\\n",
    "port_sharpe, \\\n",
    "port_information, \\\n",
    "port_modigliani = calculate_measures(train_dataset.columns, train_dataset, ws)"
   ]
  },
  {
   "cell_type": "code",
   "execution_count": 20,
   "id": "bbf0faf1",
   "metadata": {
    "ExecuteTime": {
     "end_time": "2021-09-21T14:07:41.690216Z",
     "start_time": "2021-09-21T14:07:41.686219Z"
    }
   },
   "outputs": [
    {
     "data": {
      "text/plain": [
       "2.76711415900063"
      ]
     },
     "execution_count": 20,
     "metadata": {},
     "output_type": "execute_result"
    }
   ],
   "source": [
    "port_sharpe"
   ]
  },
  {
   "cell_type": "code",
   "execution_count": 22,
   "id": "c2ba5470",
   "metadata": {
    "ExecuteTime": {
     "end_time": "2021-09-21T14:27:17.119662Z",
     "start_time": "2021-09-21T14:27:17.114946Z"
    }
   },
   "outputs": [
    {
     "data": {
      "text/plain": [
       "Index(['AKAM', 'ALGN', 'AMD', 'ARNC', 'AYI', 'BLL', 'CAG', 'CERN', 'CF', 'DRE',\n",
       "       'F', 'FE', 'FITB', 'GWW', 'HES', 'INFO', 'IR', 'KMX', 'MAT', 'O', 'PHM',\n",
       "       'RCL', 'REGN', 'SBUX', 'SO', 'SPG', 'UAL', 'USB', 'WEC', 'ZBH'],\n",
       "      dtype='object', name='name')"
      ]
     },
     "execution_count": 22,
     "metadata": {},
     "output_type": "execute_result"
    }
   ],
   "source": []
  },
  {
   "cell_type": "code",
   "execution_count": null,
   "id": "f0ba2165",
   "metadata": {},
   "outputs": [],
   "source": []
  }
 ],
 "metadata": {
  "kernelspec": {
   "display_name": "Python 3 (ipykernel)",
   "language": "python",
   "name": "python3"
  },
  "language_info": {
   "codemirror_mode": {
    "name": "ipython",
    "version": 3
   },
   "file_extension": ".py",
   "mimetype": "text/x-python",
   "name": "python",
   "nbconvert_exporter": "python",
   "pygments_lexer": "ipython3",
   "version": "3.8.2"
  },
  "toc": {
   "base_numbering": 1,
   "nav_menu": {},
   "number_sections": true,
   "sideBar": true,
   "skip_h1_title": false,
   "title_cell": "Table of Contents",
   "title_sidebar": "Contents",
   "toc_cell": false,
   "toc_position": {},
   "toc_section_display": true,
   "toc_window_display": false
  },
  "varInspector": {
   "cols": {
    "lenName": 16,
    "lenType": 16,
    "lenVar": 40
   },
   "kernels_config": {
    "python": {
     "delete_cmd_postfix": "",
     "delete_cmd_prefix": "del ",
     "library": "var_list.py",
     "varRefreshCmd": "print(var_dic_list())"
    },
    "r": {
     "delete_cmd_postfix": ") ",
     "delete_cmd_prefix": "rm(",
     "library": "var_list.r",
     "varRefreshCmd": "cat(var_dic_list()) "
    }
   },
   "types_to_exclude": [
    "module",
    "function",
    "builtin_function_or_method",
    "instance",
    "_Feature"
   ],
   "window_display": false
  }
 },
 "nbformat": 4,
 "nbformat_minor": 5
}
