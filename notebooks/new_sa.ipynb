{
 "cells": [
  {
   "cell_type": "code",
   "execution_count": 1,
   "id": "64bd5843",
   "metadata": {
    "ExecuteTime": {
     "end_time": "2021-09-26T08:12:39.159940Z",
     "start_time": "2021-09-26T08:12:39.156457Z"
    }
   },
   "outputs": [],
   "source": [
    "import os\n",
    "import sys\n",
    "module_path = os.path.abspath(os.path.join('..'))\n",
    "if module_path not in sys.path:\n",
    "    sys.path.append(module_path)"
   ]
  },
  {
   "cell_type": "code",
   "execution_count": 2,
   "id": "2f7b66d0",
   "metadata": {
    "ExecuteTime": {
     "end_time": "2021-09-26T08:12:39.744046Z",
     "start_time": "2021-09-26T08:12:39.332602Z"
    }
   },
   "outputs": [],
   "source": [
    "import numpy as np\n",
    "import pandas as pd\n",
    "from pypfopt.expected_returns import ema_historical_return"
   ]
  },
  {
   "cell_type": "code",
   "execution_count": 3,
   "id": "b999a1c4",
   "metadata": {
    "ExecuteTime": {
     "end_time": "2021-09-26T08:12:39.759270Z",
     "start_time": "2021-09-26T08:12:39.755490Z"
    }
   },
   "outputs": [],
   "source": [
    "from data import *"
   ]
  },
  {
   "cell_type": "code",
   "execution_count": 1,
   "id": "08c26624",
   "metadata": {
    "ExecuteTime": {
     "end_time": "2021-09-27T11:24:24.285351Z",
     "start_time": "2021-09-27T11:24:24.282423Z"
    }
   },
   "outputs": [],
   "source": [
    "class dataset:\n",
    "    data_path = '../data/SP500/SP_20180402_20200401.csv'\n",
    "\n",
    "class train:\n",
    "    start_date = '2019-08-02'\n",
    "    end_date = '2019-09-01'"
   ]
  },
  {
   "cell_type": "code",
   "execution_count": 5,
   "id": "412eb701",
   "metadata": {
    "ExecuteTime": {
     "end_time": "2021-09-26T08:12:41.515585Z",
     "start_time": "2021-09-26T08:12:41.334504Z"
    }
   },
   "outputs": [],
   "source": [
    "train_dataset = SP500_loader(dataset, train)"
   ]
  },
  {
   "cell_type": "code",
   "execution_count": 7,
   "id": "7bc8d0fb",
   "metadata": {
    "ExecuteTime": {
     "end_time": "2021-09-26T08:12:57.569948Z",
     "start_time": "2021-09-26T08:12:57.501770Z"
    }
   },
   "outputs": [
    {
     "data": {
      "text/html": [
       "<div>\n",
       "<style scoped>\n",
       "    .dataframe tbody tr th:only-of-type {\n",
       "        vertical-align: middle;\n",
       "    }\n",
       "\n",
       "    .dataframe tbody tr th {\n",
       "        vertical-align: top;\n",
       "    }\n",
       "\n",
       "    .dataframe thead th {\n",
       "        text-align: right;\n",
       "    }\n",
       "</style>\n",
       "<table border=\"1\" class=\"dataframe\">\n",
       "  <thead>\n",
       "    <tr style=\"text-align: right;\">\n",
       "      <th>name</th>\n",
       "      <th>A</th>\n",
       "      <th>AAL</th>\n",
       "      <th>AAP</th>\n",
       "      <th>AAPL</th>\n",
       "      <th>ABBV</th>\n",
       "      <th>ABC</th>\n",
       "      <th>ABT</th>\n",
       "      <th>ACN</th>\n",
       "      <th>ADBE</th>\n",
       "      <th>ADI</th>\n",
       "      <th>...</th>\n",
       "      <th>XEL</th>\n",
       "      <th>XLNX</th>\n",
       "      <th>XOM</th>\n",
       "      <th>XRAY</th>\n",
       "      <th>XRX</th>\n",
       "      <th>XYL</th>\n",
       "      <th>YUM</th>\n",
       "      <th>ZBH</th>\n",
       "      <th>ZION</th>\n",
       "      <th>ZTS</th>\n",
       "    </tr>\n",
       "    <tr>\n",
       "      <th>name</th>\n",
       "      <th></th>\n",
       "      <th></th>\n",
       "      <th></th>\n",
       "      <th></th>\n",
       "      <th></th>\n",
       "      <th></th>\n",
       "      <th></th>\n",
       "      <th></th>\n",
       "      <th></th>\n",
       "      <th></th>\n",
       "      <th></th>\n",
       "      <th></th>\n",
       "      <th></th>\n",
       "      <th></th>\n",
       "      <th></th>\n",
       "      <th></th>\n",
       "      <th></th>\n",
       "      <th></th>\n",
       "      <th></th>\n",
       "      <th></th>\n",
       "      <th></th>\n",
       "    </tr>\n",
       "  </thead>\n",
       "  <tbody>\n",
       "    <tr>\n",
       "      <th>A</th>\n",
       "      <td>20.592345</td>\n",
       "      <td>8.123689</td>\n",
       "      <td>39.974549</td>\n",
       "      <td>42.929623</td>\n",
       "      <td>22.836407</td>\n",
       "      <td>24.156238</td>\n",
       "      <td>19.667871</td>\n",
       "      <td>31.720432</td>\n",
       "      <td>66.458387</td>\n",
       "      <td>30.531679</td>\n",
       "      <td>...</td>\n",
       "      <td>10.025579</td>\n",
       "      <td>45.110364</td>\n",
       "      <td>13.676764</td>\n",
       "      <td>12.962000</td>\n",
       "      <td>6.425283</td>\n",
       "      <td>12.524994</td>\n",
       "      <td>22.630757</td>\n",
       "      <td>24.699943</td>\n",
       "      <td>8.201541</td>\n",
       "      <td>27.193089</td>\n",
       "    </tr>\n",
       "    <tr>\n",
       "      <th>AAL</th>\n",
       "      <td>8.123689</td>\n",
       "      <td>3.204799</td>\n",
       "      <td>15.769977</td>\n",
       "      <td>16.935756</td>\n",
       "      <td>9.008973</td>\n",
       "      <td>9.529647</td>\n",
       "      <td>7.758984</td>\n",
       "      <td>12.513725</td>\n",
       "      <td>26.217864</td>\n",
       "      <td>12.044761</td>\n",
       "      <td>...</td>\n",
       "      <td>3.955095</td>\n",
       "      <td>17.796059</td>\n",
       "      <td>5.395489</td>\n",
       "      <td>5.113515</td>\n",
       "      <td>2.534777</td>\n",
       "      <td>4.941116</td>\n",
       "      <td>8.927844</td>\n",
       "      <td>9.744139</td>\n",
       "      <td>3.235512</td>\n",
       "      <td>10.727686</td>\n",
       "    </tr>\n",
       "    <tr>\n",
       "      <th>AAP</th>\n",
       "      <td>39.974549</td>\n",
       "      <td>15.769977</td>\n",
       "      <td>77.599930</td>\n",
       "      <td>83.336419</td>\n",
       "      <td>44.330795</td>\n",
       "      <td>46.892897</td>\n",
       "      <td>38.179929</td>\n",
       "      <td>61.576762</td>\n",
       "      <td>129.011242</td>\n",
       "      <td>59.269115</td>\n",
       "      <td>...</td>\n",
       "      <td>19.461988</td>\n",
       "      <td>87.569745</td>\n",
       "      <td>26.549791</td>\n",
       "      <td>25.162268</td>\n",
       "      <td>12.472973</td>\n",
       "      <td>24.313936</td>\n",
       "      <td>43.931582</td>\n",
       "      <td>47.948355</td>\n",
       "      <td>15.921105</td>\n",
       "      <td>52.788134</td>\n",
       "    </tr>\n",
       "    <tr>\n",
       "      <th>AAPL</th>\n",
       "      <td>42.929623</td>\n",
       "      <td>16.935756</td>\n",
       "      <td>83.336419</td>\n",
       "      <td>89.496972</td>\n",
       "      <td>47.607901</td>\n",
       "      <td>50.359402</td>\n",
       "      <td>41.002338</td>\n",
       "      <td>66.128756</td>\n",
       "      <td>138.548256</td>\n",
       "      <td>63.650519</td>\n",
       "      <td>...</td>\n",
       "      <td>20.900694</td>\n",
       "      <td>94.043242</td>\n",
       "      <td>28.512455</td>\n",
       "      <td>27.022361</td>\n",
       "      <td>13.395024</td>\n",
       "      <td>26.111317</td>\n",
       "      <td>47.179176</td>\n",
       "      <td>51.492884</td>\n",
       "      <td>17.098055</td>\n",
       "      <td>56.690439</td>\n",
       "    </tr>\n",
       "    <tr>\n",
       "      <th>ABBV</th>\n",
       "      <td>22.836407</td>\n",
       "      <td>9.008973</td>\n",
       "      <td>44.330795</td>\n",
       "      <td>47.607901</td>\n",
       "      <td>25.325015</td>\n",
       "      <td>26.788676</td>\n",
       "      <td>21.811187</td>\n",
       "      <td>35.177182</td>\n",
       "      <td>73.700724</td>\n",
       "      <td>33.858884</td>\n",
       "      <td>...</td>\n",
       "      <td>11.118121</td>\n",
       "      <td>50.026288</td>\n",
       "      <td>15.167196</td>\n",
       "      <td>14.374541</td>\n",
       "      <td>7.125481</td>\n",
       "      <td>13.889911</td>\n",
       "      <td>25.096956</td>\n",
       "      <td>27.391632</td>\n",
       "      <td>9.095308</td>\n",
       "      <td>30.156470</td>\n",
       "    </tr>\n",
       "    <tr>\n",
       "      <th>...</th>\n",
       "      <td>...</td>\n",
       "      <td>...</td>\n",
       "      <td>...</td>\n",
       "      <td>...</td>\n",
       "      <td>...</td>\n",
       "      <td>...</td>\n",
       "      <td>...</td>\n",
       "      <td>...</td>\n",
       "      <td>...</td>\n",
       "      <td>...</td>\n",
       "      <td>...</td>\n",
       "      <td>...</td>\n",
       "      <td>...</td>\n",
       "      <td>...</td>\n",
       "      <td>...</td>\n",
       "      <td>...</td>\n",
       "      <td>...</td>\n",
       "      <td>...</td>\n",
       "      <td>...</td>\n",
       "      <td>...</td>\n",
       "      <td>...</td>\n",
       "    </tr>\n",
       "    <tr>\n",
       "      <th>XYL</th>\n",
       "      <td>12.524994</td>\n",
       "      <td>4.941116</td>\n",
       "      <td>24.313936</td>\n",
       "      <td>26.111317</td>\n",
       "      <td>13.889911</td>\n",
       "      <td>14.692680</td>\n",
       "      <td>11.962696</td>\n",
       "      <td>19.293490</td>\n",
       "      <td>40.422345</td>\n",
       "      <td>18.570448</td>\n",
       "      <td>...</td>\n",
       "      <td>6.097912</td>\n",
       "      <td>27.437721</td>\n",
       "      <td>8.318692</td>\n",
       "      <td>7.883947</td>\n",
       "      <td>3.908084</td>\n",
       "      <td>7.618145</td>\n",
       "      <td>13.764828</td>\n",
       "      <td>15.023380</td>\n",
       "      <td>4.988468</td>\n",
       "      <td>16.539800</td>\n",
       "    </tr>\n",
       "    <tr>\n",
       "      <th>YUM</th>\n",
       "      <td>22.630757</td>\n",
       "      <td>8.927844</td>\n",
       "      <td>43.931582</td>\n",
       "      <td>47.179176</td>\n",
       "      <td>25.096956</td>\n",
       "      <td>26.547436</td>\n",
       "      <td>21.614771</td>\n",
       "      <td>34.860400</td>\n",
       "      <td>73.037025</td>\n",
       "      <td>33.553974</td>\n",
       "      <td>...</td>\n",
       "      <td>11.017999</td>\n",
       "      <td>49.575786</td>\n",
       "      <td>15.030610</td>\n",
       "      <td>14.245093</td>\n",
       "      <td>7.061314</td>\n",
       "      <td>13.764828</td>\n",
       "      <td>24.870950</td>\n",
       "      <td>27.144961</td>\n",
       "      <td>9.013402</td>\n",
       "      <td>29.884902</td>\n",
       "    </tr>\n",
       "    <tr>\n",
       "      <th>ZBH</th>\n",
       "      <td>24.699943</td>\n",
       "      <td>9.744139</td>\n",
       "      <td>47.948355</td>\n",
       "      <td>51.492884</td>\n",
       "      <td>27.391632</td>\n",
       "      <td>28.974733</td>\n",
       "      <td>23.591062</td>\n",
       "      <td>38.047772</td>\n",
       "      <td>79.714980</td>\n",
       "      <td>36.621896</td>\n",
       "      <td>...</td>\n",
       "      <td>12.025402</td>\n",
       "      <td>54.108621</td>\n",
       "      <td>16.404896</td>\n",
       "      <td>15.547557</td>\n",
       "      <td>7.706947</td>\n",
       "      <td>15.023380</td>\n",
       "      <td>27.144961</td>\n",
       "      <td>29.626892</td>\n",
       "      <td>9.837519</td>\n",
       "      <td>32.617351</td>\n",
       "    </tr>\n",
       "    <tr>\n",
       "      <th>ZION</th>\n",
       "      <td>8.201541</td>\n",
       "      <td>3.235512</td>\n",
       "      <td>15.921105</td>\n",
       "      <td>17.098055</td>\n",
       "      <td>9.095308</td>\n",
       "      <td>9.620972</td>\n",
       "      <td>7.833340</td>\n",
       "      <td>12.633647</td>\n",
       "      <td>26.469116</td>\n",
       "      <td>12.160189</td>\n",
       "      <td>...</td>\n",
       "      <td>3.992998</td>\n",
       "      <td>17.966603</td>\n",
       "      <td>5.447196</td>\n",
       "      <td>5.162519</td>\n",
       "      <td>2.559068</td>\n",
       "      <td>4.988468</td>\n",
       "      <td>9.013402</td>\n",
       "      <td>9.837519</td>\n",
       "      <td>3.266518</td>\n",
       "      <td>10.830492</td>\n",
       "    </tr>\n",
       "    <tr>\n",
       "      <th>ZTS</th>\n",
       "      <td>27.193089</td>\n",
       "      <td>10.727686</td>\n",
       "      <td>52.788134</td>\n",
       "      <td>56.690439</td>\n",
       "      <td>30.156470</td>\n",
       "      <td>31.899365</td>\n",
       "      <td>25.972281</td>\n",
       "      <td>41.888213</td>\n",
       "      <td>87.761197</td>\n",
       "      <td>40.318413</td>\n",
       "      <td>...</td>\n",
       "      <td>13.239214</td>\n",
       "      <td>59.570201</td>\n",
       "      <td>18.060763</td>\n",
       "      <td>17.116886</td>\n",
       "      <td>8.484866</td>\n",
       "      <td>16.539800</td>\n",
       "      <td>29.884902</td>\n",
       "      <td>32.617351</td>\n",
       "      <td>10.830492</td>\n",
       "      <td>35.909660</td>\n",
       "    </tr>\n",
       "  </tbody>\n",
       "</table>\n",
       "<p>465 rows × 465 columns</p>\n",
       "</div>"
      ],
      "text/plain": [
       "name          A        AAL        AAP       AAPL       ABBV        ABC  \\\n",
       "name                                                                     \n",
       "A     20.592345   8.123689  39.974549  42.929623  22.836407  24.156238   \n",
       "AAL    8.123689   3.204799  15.769977  16.935756   9.008973   9.529647   \n",
       "AAP   39.974549  15.769977  77.599930  83.336419  44.330795  46.892897   \n",
       "AAPL  42.929623  16.935756  83.336419  89.496972  47.607901  50.359402   \n",
       "ABBV  22.836407   9.008973  44.330795  47.607901  25.325015  26.788676   \n",
       "...         ...        ...        ...        ...        ...        ...   \n",
       "XYL   12.524994   4.941116  24.313936  26.111317  13.889911  14.692680   \n",
       "YUM   22.630757   8.927844  43.931582  47.179176  25.096956  26.547436   \n",
       "ZBH   24.699943   9.744139  47.948355  51.492884  27.391632  28.974733   \n",
       "ZION   8.201541   3.235512  15.921105  17.098055   9.095308   9.620972   \n",
       "ZTS   27.193089  10.727686  52.788134  56.690439  30.156470  31.899365   \n",
       "\n",
       "name        ABT        ACN        ADBE        ADI  ...        XEL       XLNX  \\\n",
       "name                                               ...                         \n",
       "A     19.667871  31.720432   66.458387  30.531679  ...  10.025579  45.110364   \n",
       "AAL    7.758984  12.513725   26.217864  12.044761  ...   3.955095  17.796059   \n",
       "AAP   38.179929  61.576762  129.011242  59.269115  ...  19.461988  87.569745   \n",
       "AAPL  41.002338  66.128756  138.548256  63.650519  ...  20.900694  94.043242   \n",
       "ABBV  21.811187  35.177182   73.700724  33.858884  ...  11.118121  50.026288   \n",
       "...         ...        ...         ...        ...  ...        ...        ...   \n",
       "XYL   11.962696  19.293490   40.422345  18.570448  ...   6.097912  27.437721   \n",
       "YUM   21.614771  34.860400   73.037025  33.553974  ...  11.017999  49.575786   \n",
       "ZBH   23.591062  38.047772   79.714980  36.621896  ...  12.025402  54.108621   \n",
       "ZION   7.833340  12.633647   26.469116  12.160189  ...   3.992998  17.966603   \n",
       "ZTS   25.972281  41.888213   87.761197  40.318413  ...  13.239214  59.570201   \n",
       "\n",
       "name        XOM       XRAY        XRX        XYL        YUM        ZBH  \\\n",
       "name                                                                     \n",
       "A     13.676764  12.962000   6.425283  12.524994  22.630757  24.699943   \n",
       "AAL    5.395489   5.113515   2.534777   4.941116   8.927844   9.744139   \n",
       "AAP   26.549791  25.162268  12.472973  24.313936  43.931582  47.948355   \n",
       "AAPL  28.512455  27.022361  13.395024  26.111317  47.179176  51.492884   \n",
       "ABBV  15.167196  14.374541   7.125481  13.889911  25.096956  27.391632   \n",
       "...         ...        ...        ...        ...        ...        ...   \n",
       "XYL    8.318692   7.883947   3.908084   7.618145  13.764828  15.023380   \n",
       "YUM   15.030610  14.245093   7.061314  13.764828  24.870950  27.144961   \n",
       "ZBH   16.404896  15.547557   7.706947  15.023380  27.144961  29.626892   \n",
       "ZION   5.447196   5.162519   2.559068   4.988468   9.013402   9.837519   \n",
       "ZTS   18.060763  17.116886   8.484866  16.539800  29.884902  32.617351   \n",
       "\n",
       "name       ZION        ZTS  \n",
       "name                        \n",
       "A      8.201541  27.193089  \n",
       "AAL    3.235512  10.727686  \n",
       "AAP   15.921105  52.788134  \n",
       "AAPL  17.098055  56.690439  \n",
       "ABBV   9.095308  30.156470  \n",
       "...         ...        ...  \n",
       "XYL    4.988468  16.539800  \n",
       "YUM    9.013402  29.884902  \n",
       "ZBH    9.837519  32.617351  \n",
       "ZION   3.266518  10.830492  \n",
       "ZTS   10.830492  35.909660  \n",
       "\n",
       "[465 rows x 465 columns]"
      ]
     },
     "execution_count": 7,
     "metadata": {},
     "output_type": "execute_result"
    }
   ],
   "source": []
  },
  {
   "cell_type": "code",
   "execution_count": null,
   "id": "95a41e9d",
   "metadata": {},
   "outputs": [],
   "source": []
  },
  {
   "cell_type": "code",
   "execution_count": 6,
   "id": "9cdde741",
   "metadata": {
    "ExecuteTime": {
     "end_time": "2021-09-21T14:05:16.901400Z",
     "start_time": "2021-09-21T14:05:16.886436Z"
    }
   },
   "outputs": [],
   "source": [
    "mu = ema_historical_return(train_dataset)\n",
    "C = train_dataset.cov()"
   ]
  },
  {
   "cell_type": "code",
   "execution_count": 7,
   "id": "3ec4ab56",
   "metadata": {
    "ExecuteTime": {
     "end_time": "2021-09-21T14:05:17.552410Z",
     "start_time": "2021-09-21T14:05:17.549952Z"
    }
   },
   "outputs": [],
   "source": [
    "N = len(train_dataset.columns)\n",
    "K = 30"
   ]
  },
  {
   "cell_type": "code",
   "execution_count": 8,
   "id": "5fc46915",
   "metadata": {
    "ExecuteTime": {
     "end_time": "2021-09-21T14:05:18.300803Z",
     "start_time": "2021-09-21T14:05:18.295945Z"
    }
   },
   "outputs": [],
   "source": [
    "randoms = np.random.uniform(0, 1, (K))\n",
    "randoms = list(randoms / randoms.sum())\n",
    "w = np.random.permutation([*randoms, *[0 for i in range(N - K)]])\n",
    "ws = w.copy()\n",
    "\n",
    "gamma = 0.95\n",
    "gamma_u = 0.95\n",
    "u = 0.1\n",
    "T = 100\n",
    "I = int(N * (N - 1) / 2)"
   ]
  },
  {
   "cell_type": "code",
   "execution_count": 9,
   "id": "4a74b1b7",
   "metadata": {
    "ExecuteTime": {
     "end_time": "2021-09-21T14:05:18.993672Z",
     "start_time": "2021-09-21T14:05:18.990455Z"
    }
   },
   "outputs": [],
   "source": []
  },
  {
   "cell_type": "code",
   "execution_count": 10,
   "id": "3b5ade9b",
   "metadata": {
    "ExecuteTime": {
     "end_time": "2021-09-21T14:05:19.952978Z",
     "start_time": "2021-09-21T14:05:19.655077Z"
    }
   },
   "outputs": [],
   "source": [
    "for k in range(2 * N):\n",
    "    wu = w.copy()\n",
    "    choices = np.where(w != 0.0)[0]\n",
    "    i = np.random.choice(choices)\n",
    "    j = np.random.randint(N)\n",
    "    if w[j] == 0:\n",
    "        wu[j] = w[i]\n",
    "        wu[i] = 0\n",
    "    else:\n",
    "        ui = ru = np.random.uniform(0, min(u, w[i], w[j]))\n",
    "        wu[j] = w[j] + ui\n",
    "        wu[i] = w[i] - ui\n",
    "    dl = L(wu, mu, C) - L(w, mu, C)\n",
    "    if dl > 0:\n",
    "        w = wu.copy()\n",
    "        if L(w, mu, C) > L(ws, mu, C):\n",
    "            ws = w.copy()\n",
    "    else:\n",
    "        p = np.random.uniform(0, 1)\n",
    "        if p <= np.exp(dl / T):\n",
    "            w = wu.copy()\n",
    "    T = gamma * T\n",
    "    u = gamma_u * u"
   ]
  },
  {
   "cell_type": "code",
   "execution_count": 11,
   "id": "86b185cf",
   "metadata": {
    "ExecuteTime": {
     "end_time": "2021-09-21T14:05:25.853105Z",
     "start_time": "2021-09-21T14:05:25.838911Z"
    }
   },
   "outputs": [
    {
     "data": {
      "text/plain": [
       "array([0.        , 0.        , 0.        , 0.        , 0.        ,\n",
       "       0.        , 0.        , 0.        , 0.        , 0.        ,\n",
       "       0.        , 0.        , 0.        , 0.        , 0.        ,\n",
       "       0.        , 0.        , 0.        , 0.        , 0.        ,\n",
       "       0.        , 0.        , 0.        , 0.0133049 , 0.        ,\n",
       "       0.00625893, 0.        , 0.        , 0.        , 0.        ,\n",
       "       0.        , 0.03665734, 0.        , 0.        , 0.        ,\n",
       "       0.        , 0.        , 0.        , 0.        , 0.        ,\n",
       "       0.        , 0.        , 0.        , 0.        , 0.        ,\n",
       "       0.        , 0.        , 0.01290469, 0.        , 0.        ,\n",
       "       0.        , 0.        , 0.        , 0.        , 0.05803392,\n",
       "       0.        , 0.        , 0.        , 0.        , 0.        ,\n",
       "       0.        , 0.        , 0.        , 0.        , 0.        ,\n",
       "       0.        , 0.05428702, 0.        , 0.        , 0.        ,\n",
       "       0.        , 0.        , 0.017041  , 0.        , 0.        ,\n",
       "       0.        , 0.        , 0.        , 0.        , 0.        ,\n",
       "       0.05721432, 0.03985798, 0.        , 0.        , 0.        ,\n",
       "       0.        , 0.        , 0.        , 0.        , 0.        ,\n",
       "       0.        , 0.        , 0.        , 0.        , 0.        ,\n",
       "       0.        , 0.        , 0.        , 0.        , 0.        ,\n",
       "       0.        , 0.        , 0.        , 0.        , 0.        ,\n",
       "       0.        , 0.        , 0.        , 0.        , 0.        ,\n",
       "       0.        , 0.        , 0.        , 0.        , 0.        ,\n",
       "       0.        , 0.        , 0.        , 0.        , 0.        ,\n",
       "       0.        , 0.        , 0.        , 0.        , 0.        ,\n",
       "       0.        , 0.        , 0.        , 0.        , 0.        ,\n",
       "       0.        , 0.01153959, 0.        , 0.        , 0.        ,\n",
       "       0.        , 0.        , 0.        , 0.        , 0.        ,\n",
       "       0.        , 0.        , 0.        , 0.        , 0.        ,\n",
       "       0.        , 0.        , 0.        , 0.        , 0.        ,\n",
       "       0.        , 0.        , 0.        , 0.        , 0.        ,\n",
       "       0.        , 0.        , 0.        , 0.        , 0.        ,\n",
       "       0.        , 0.06072609, 0.        , 0.        , 0.        ,\n",
       "       0.        , 0.        , 0.05855435, 0.        , 0.        ,\n",
       "       0.        , 0.0071921 , 0.        , 0.        , 0.        ,\n",
       "       0.        , 0.        , 0.        , 0.        , 0.        ,\n",
       "       0.        , 0.        , 0.        , 0.        , 0.        ,\n",
       "       0.        , 0.        , 0.        , 0.        , 0.        ,\n",
       "       0.        , 0.        , 0.        , 0.        , 0.        ,\n",
       "       0.        , 0.03029219, 0.        , 0.        , 0.        ,\n",
       "       0.        , 0.        , 0.        , 0.06857624, 0.        ,\n",
       "       0.        , 0.        , 0.        , 0.        , 0.        ,\n",
       "       0.        , 0.        , 0.        , 0.        , 0.        ,\n",
       "       0.        , 0.        , 0.        , 0.        , 0.        ,\n",
       "       0.        , 0.        , 0.        , 0.        , 0.        ,\n",
       "       0.05881033, 0.        , 0.        , 0.        , 0.        ,\n",
       "       0.        , 0.04904489, 0.        , 0.        , 0.        ,\n",
       "       0.        , 0.        , 0.        , 0.        , 0.        ,\n",
       "       0.        , 0.        , 0.        , 0.        , 0.        ,\n",
       "       0.        , 0.        , 0.        , 0.        , 0.        ,\n",
       "       0.0579551 , 0.        , 0.        , 0.        , 0.        ,\n",
       "       0.        , 0.        , 0.        , 0.        , 0.        ,\n",
       "       0.        , 0.        , 0.        , 0.        , 0.        ,\n",
       "       0.        , 0.        , 0.        , 0.        , 0.        ,\n",
       "       0.        , 0.        , 0.        , 0.        , 0.        ,\n",
       "       0.03677721, 0.        , 0.        , 0.        , 0.        ,\n",
       "       0.        , 0.        , 0.        , 0.        , 0.        ,\n",
       "       0.        , 0.        , 0.        , 0.        , 0.        ,\n",
       "       0.        , 0.        , 0.        , 0.        , 0.        ,\n",
       "       0.        , 0.        , 0.        , 0.        , 0.        ,\n",
       "       0.        , 0.        , 0.        , 0.        , 0.        ,\n",
       "       0.        , 0.        , 0.        , 0.        , 0.        ,\n",
       "       0.        , 0.        , 0.        , 0.        , 0.        ,\n",
       "       0.        , 0.        , 0.        , 0.        , 0.        ,\n",
       "       0.        , 0.        , 0.        , 0.00530441, 0.        ,\n",
       "       0.        , 0.        , 0.        , 0.        , 0.        ,\n",
       "       0.        , 0.        , 0.        , 0.        , 0.        ,\n",
       "       0.        , 0.        , 0.        , 0.        , 0.        ,\n",
       "       0.        , 0.01182866, 0.        , 0.        , 0.        ,\n",
       "       0.        , 0.        , 0.        , 0.        , 0.        ,\n",
       "       0.        , 0.        , 0.        , 0.        , 0.        ,\n",
       "       0.        , 0.        , 0.        , 0.        , 0.        ,\n",
       "       0.        , 0.05835059, 0.        , 0.        , 0.0187468 ,\n",
       "       0.        , 0.        , 0.        , 0.        , 0.        ,\n",
       "       0.        , 0.        , 0.        , 0.        , 0.        ,\n",
       "       0.        , 0.        , 0.03514551, 0.        , 0.        ,\n",
       "       0.        , 0.        , 0.        , 0.        , 0.        ,\n",
       "       0.        , 0.        , 0.0096397 , 0.01564064, 0.        ,\n",
       "       0.        , 0.        , 0.        , 0.        , 0.        ,\n",
       "       0.        , 0.        , 0.        , 0.        , 0.        ,\n",
       "       0.        , 0.        , 0.        , 0.        , 0.        ,\n",
       "       0.        , 0.        , 0.        , 0.        , 0.        ,\n",
       "       0.        , 0.        , 0.        , 0.        , 0.        ,\n",
       "       0.        , 0.        , 0.        , 0.00805068, 0.        ,\n",
       "       0.        , 0.        , 0.        , 0.        , 0.        ,\n",
       "       0.        , 0.        , 0.05285995, 0.        , 0.        ,\n",
       "       0.        , 0.        , 0.        , 0.        , 0.        ,\n",
       "       0.        , 0.        , 0.        , 0.        , 0.        ,\n",
       "       0.        , 0.        , 0.        , 0.04089618, 0.        ,\n",
       "       0.        , 0.        , 0.        , 0.        , 0.        ,\n",
       "       0.        , 0.        , 0.        , 0.        , 0.        ,\n",
       "       0.        , 0.        , 0.        , 0.        , 0.        ,\n",
       "       0.        , 0.        , 0.00311006, 0.        , 0.        ])"
      ]
     },
     "execution_count": 11,
     "metadata": {},
     "output_type": "execute_result"
    }
   ],
   "source": [
    "ws"
   ]
  },
  {
   "cell_type": "code",
   "execution_count": 13,
   "id": "a573a417",
   "metadata": {
    "ExecuteTime": {
     "end_time": "2021-09-21T14:05:58.900678Z",
     "start_time": "2021-09-21T14:05:58.734859Z"
    }
   },
   "outputs": [],
   "source": [
    "from utils.financial_measures import *"
   ]
  },
  {
   "cell_type": "code",
   "execution_count": 17,
   "id": "65a8c17d",
   "metadata": {
    "ExecuteTime": {
     "end_time": "2021-09-21T14:07:28.541079Z",
     "start_time": "2021-09-21T14:07:28.430935Z"
    }
   },
   "outputs": [],
   "source": [
    "weights, \\\n",
    "corr_min, \\\n",
    "corr_max, \\\n",
    "corr_mean, \\\n",
    "corr_std, \\\n",
    "port_return, \\\n",
    "port_std, \\\n",
    "port_sharpe, \\\n",
    "port_information, \\\n",
    "port_modigliani = calculate_measures(train_dataset.columns, train_dataset, ws)"
   ]
  },
  {
   "cell_type": "code",
   "execution_count": 20,
   "id": "bbf0faf1",
   "metadata": {
    "ExecuteTime": {
     "end_time": "2021-09-21T14:07:41.690216Z",
     "start_time": "2021-09-21T14:07:41.686219Z"
    }
   },
   "outputs": [
    {
     "data": {
      "text/plain": [
       "2.76711415900063"
      ]
     },
     "execution_count": 20,
     "metadata": {},
     "output_type": "execute_result"
    }
   ],
   "source": [
    "port_sharpe"
   ]
  },
  {
   "cell_type": "code",
   "execution_count": 22,
   "id": "c2ba5470",
   "metadata": {
    "ExecuteTime": {
     "end_time": "2021-09-21T14:27:17.119662Z",
     "start_time": "2021-09-21T14:27:17.114946Z"
    }
   },
   "outputs": [
    {
     "data": {
      "text/plain": [
       "Index(['AKAM', 'ALGN', 'AMD', 'ARNC', 'AYI', 'BLL', 'CAG', 'CERN', 'CF', 'DRE',\n",
       "       'F', 'FE', 'FITB', 'GWW', 'HES', 'INFO', 'IR', 'KMX', 'MAT', 'O', 'PHM',\n",
       "       'RCL', 'REGN', 'SBUX', 'SO', 'SPG', 'UAL', 'USB', 'WEC', 'ZBH'],\n",
       "      dtype='object', name='name')"
      ]
     },
     "execution_count": 22,
     "metadata": {},
     "output_type": "execute_result"
    }
   ],
   "source": []
  },
  {
   "cell_type": "code",
   "execution_count": null,
   "id": "f0ba2165",
   "metadata": {},
   "outputs": [],
   "source": []
  }
 ],
 "metadata": {
  "kernelspec": {
   "display_name": "Python 3 (ipykernel)",
   "language": "python",
   "name": "python3"
  },
  "language_info": {
   "codemirror_mode": {
    "name": "ipython",
    "version": 3
   },
   "file_extension": ".py",
   "mimetype": "text/x-python",
   "name": "python",
   "nbconvert_exporter": "python",
   "pygments_lexer": "ipython3",
   "version": "3.8.9"
  },
  "toc": {
   "base_numbering": 1,
   "nav_menu": {},
   "number_sections": true,
   "sideBar": true,
   "skip_h1_title": false,
   "title_cell": "Table of Contents",
   "title_sidebar": "Contents",
   "toc_cell": false,
   "toc_position": {},
   "toc_section_display": true,
   "toc_window_display": false
  },
  "varInspector": {
   "cols": {
    "lenName": 16,
    "lenType": 16,
    "lenVar": 40
   },
   "kernels_config": {
    "python": {
     "delete_cmd_postfix": "",
     "delete_cmd_prefix": "del ",
     "library": "var_list.py",
     "varRefreshCmd": "print(var_dic_list())"
    },
    "r": {
     "delete_cmd_postfix": ") ",
     "delete_cmd_prefix": "rm(",
     "library": "var_list.r",
     "varRefreshCmd": "cat(var_dic_list()) "
    }
   },
   "types_to_exclude": [
    "module",
    "function",
    "builtin_function_or_method",
    "instance",
    "_Feature"
   ],
   "window_display": false
  }
 },
 "nbformat": 4,
 "nbformat_minor": 5
}
