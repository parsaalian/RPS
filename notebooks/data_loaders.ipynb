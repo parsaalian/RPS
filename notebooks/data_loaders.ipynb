{
 "cells": [
  {
   "cell_type": "code",
   "execution_count": 1,
   "id": "1eb301cd",
   "metadata": {
    "ExecuteTime": {
     "end_time": "2021-09-26T07:50:13.415375Z",
     "start_time": "2021-09-26T07:50:12.912234Z"
    }
   },
   "outputs": [],
   "source": [
    "import pandas as pd"
   ]
  },
  {
   "cell_type": "code",
   "execution_count": 4,
   "id": "4736acca",
   "metadata": {
    "ExecuteTime": {
     "end_time": "2021-09-26T07:50:27.058484Z",
     "start_time": "2021-09-26T07:50:26.869767Z"
    }
   },
   "outputs": [],
   "source": [
    "history = pd.read_csv('../data/SP500/SP_20180402_20200401.csv')\n",
    "history.columns= history.columns.str.lower()\n",
    "\n",
    "history['date'] = pd.to_datetime(history['date'])\n",
    "\n",
    "history = history[history['date'] >= '2019-04-01']\n",
    "history = history[history['date'] <= '2019-08-01']\n",
    "\n",
    "history = history.set_index(['date', 'name'])['close'].unstack(-1)\n",
    "\n",
    "for stock in history.columns:\n",
    "    if (history[stock].isnull().values.any()):\n",
    "        history.drop(columns=[stock])\n",
    "\n",
    "history = history.fillna(method='ffill')\n"
   ]
  },
  {
   "cell_type": "code",
   "execution_count": 13,
   "id": "26d46966",
   "metadata": {
    "ExecuteTime": {
     "end_time": "2021-09-26T07:52:00.943062Z",
     "start_time": "2021-09-26T07:52:00.923411Z"
    }
   },
   "outputs": [
    {
     "data": {
      "text/html": [
       "<div>\n",
       "<style scoped>\n",
       "    .dataframe tbody tr th:only-of-type {\n",
       "        vertical-align: middle;\n",
       "    }\n",
       "\n",
       "    .dataframe tbody tr th {\n",
       "        vertical-align: top;\n",
       "    }\n",
       "\n",
       "    .dataframe thead th {\n",
       "        text-align: right;\n",
       "    }\n",
       "</style>\n",
       "<table border=\"1\" class=\"dataframe\">\n",
       "  <thead>\n",
       "    <tr style=\"text-align: right;\">\n",
       "      <th>name</th>\n",
       "      <th>A</th>\n",
       "      <th>AAL</th>\n",
       "      <th>AAP</th>\n",
       "      <th>AAPL</th>\n",
       "      <th>ABBV</th>\n",
       "      <th>ABC</th>\n",
       "      <th>ABT</th>\n",
       "      <th>ACN</th>\n",
       "      <th>ADBE</th>\n",
       "      <th>ADI</th>\n",
       "      <th>...</th>\n",
       "      <th>XEL</th>\n",
       "      <th>XLNX</th>\n",
       "      <th>XOM</th>\n",
       "      <th>XRAY</th>\n",
       "      <th>XRX</th>\n",
       "      <th>XYL</th>\n",
       "      <th>YUM</th>\n",
       "      <th>ZBH</th>\n",
       "      <th>ZION</th>\n",
       "      <th>ZTS</th>\n",
       "    </tr>\n",
       "  </thead>\n",
       "  <tbody>\n",
       "    <tr>\n",
       "      <th>0</th>\n",
       "      <td>-12.349998</td>\n",
       "      <td>-2.509998</td>\n",
       "      <td>-23.680008</td>\n",
       "      <td>17.189987</td>\n",
       "      <td>-14.979996</td>\n",
       "      <td>12.610001</td>\n",
       "      <td>6.419998</td>\n",
       "      <td>17.839996</td>\n",
       "      <td>26.269989</td>\n",
       "      <td>6.18</td>\n",
       "      <td>...</td>\n",
       "      <td>5.189999</td>\n",
       "      <td>-16.269997</td>\n",
       "      <td>-9.270004</td>\n",
       "      <td>3.52</td>\n",
       "      <td>-1.369999</td>\n",
       "      <td>-1.75</td>\n",
       "      <td>16.360001</td>\n",
       "      <td>9.739998</td>\n",
       "      <td>-3.780003</td>\n",
       "      <td>14.159996</td>\n",
       "    </tr>\n",
       "  </tbody>\n",
       "</table>\n",
       "<p>1 rows × 465 columns</p>\n",
       "</div>"
      ],
      "text/plain": [
       "name          A       AAL        AAP       AAPL       ABBV        ABC  \\\n",
       "0    -12.349998 -2.509998 -23.680008  17.189987 -14.979996  12.610001   \n",
       "\n",
       "name       ABT        ACN       ADBE   ADI  ...       XEL       XLNX  \\\n",
       "0     6.419998  17.839996  26.269989  6.18  ...  5.189999 -16.269997   \n",
       "\n",
       "name       XOM  XRAY       XRX   XYL        YUM       ZBH      ZION        ZTS  \n",
       "0    -9.270004  3.52 -1.369999 -1.75  16.360001  9.739998 -3.780003  14.159996  \n",
       "\n",
       "[1 rows x 465 columns]"
      ]
     },
     "execution_count": 13,
     "metadata": {},
     "output_type": "execute_result"
    }
   ],
   "source": [
    "history.tail(1).reset_index(drop=True) - history.head(1).reset_index(drop=True)"
   ]
  },
  {
   "cell_type": "code",
   "execution_count": null,
   "id": "e0266545",
   "metadata": {},
   "outputs": [],
   "source": []
  }
 ],
 "metadata": {
  "kernelspec": {
   "display_name": "Python 3 (ipykernel)",
   "language": "python",
   "name": "python3"
  },
  "language_info": {
   "codemirror_mode": {
    "name": "ipython",
    "version": 3
   },
   "file_extension": ".py",
   "mimetype": "text/x-python",
   "name": "python",
   "nbconvert_exporter": "python",
   "pygments_lexer": "ipython3",
   "version": "3.8.9"
  },
  "toc": {
   "base_numbering": 1,
   "nav_menu": {},
   "number_sections": true,
   "sideBar": true,
   "skip_h1_title": false,
   "title_cell": "Table of Contents",
   "title_sidebar": "Contents",
   "toc_cell": false,
   "toc_position": {},
   "toc_section_display": true,
   "toc_window_display": false
  },
  "varInspector": {
   "cols": {
    "lenName": 16,
    "lenType": 16,
    "lenVar": 40
   },
   "kernels_config": {
    "python": {
     "delete_cmd_postfix": "",
     "delete_cmd_prefix": "del ",
     "library": "var_list.py",
     "varRefreshCmd": "print(var_dic_list())"
    },
    "r": {
     "delete_cmd_postfix": ") ",
     "delete_cmd_prefix": "rm(",
     "library": "var_list.r",
     "varRefreshCmd": "cat(var_dic_list()) "
    }
   },
   "types_to_exclude": [
    "module",
    "function",
    "builtin_function_or_method",
    "instance",
    "_Feature"
   ],
   "window_display": false
  }
 },
 "nbformat": 4,
 "nbformat_minor": 5
}
