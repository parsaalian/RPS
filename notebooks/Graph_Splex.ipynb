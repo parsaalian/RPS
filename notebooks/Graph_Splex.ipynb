{
  "nbformat": 4,
  "nbformat_minor": 0,
  "metadata": {
    "colab": {
      "name": "Graph Splex.ipynb",
      "provenance": [],
      "collapsed_sections": []
    },
    "kernelspec": {
      "name": "python3",
      "display_name": "Python 3"
    },
    "language_info": {
      "name": "python"
    }
  },
  "cells": [
    {
      "cell_type": "code",
      "metadata": {
        "id": "m_w4-3DSJsVa"
      },
      "source": [
        "import networkx as nx\n",
        "import random\n",
        "import numpy as np"
      ],
      "execution_count": null,
      "outputs": []
    },
    {
      "cell_type": "code",
      "metadata": {
        "id": "ztLELJs8Ju8G"
      },
      "source": [
        "G = nx.Graph()"
      ],
      "execution_count": null,
      "outputs": []
    },
    {
      "cell_type": "code",
      "metadata": {
        "id": "VKUKNH9yJx_R"
      },
      "source": [
        "for i in range(10):\n",
        "  G.add_node(i, weight=(9 - i) * 0.1 - 0.2)"
      ],
      "execution_count": null,
      "outputs": []
    },
    {
      "cell_type": "code",
      "metadata": {
        "colab": {
          "base_uri": "https://localhost:8080/"
        },
        "id": "egmW9G_NJ56Z",
        "outputId": "1a221c42-97cc-4421-96dc-76942e49bead"
      },
      "source": [
        "G.nodes[0][\"weight\"]"
      ],
      "execution_count": null,
      "outputs": [
        {
          "output_type": "execute_result",
          "data": {
            "text/plain": [
              "0.7"
            ]
          },
          "metadata": {
            "tags": []
          },
          "execution_count": 88
        }
      ]
    },
    {
      "cell_type": "code",
      "metadata": {
        "id": "dYRgRLm_KOwf"
      },
      "source": [
        "for i in range(10):\n",
        "  for j in range(i + 1, 10):\n",
        "    if random.random() < 0.5:\n",
        "      G.add_edge(i, j)"
      ],
      "execution_count": null,
      "outputs": []
    },
    {
      "cell_type": "code",
      "metadata": {
        "id": "uWXdK9HRKXE-"
      },
      "source": [
        "e = G.edges()"
      ],
      "execution_count": null,
      "outputs": []
    },
    {
      "cell_type": "code",
      "metadata": {
        "id": "dUsFVn78Kccd"
      },
      "source": [
        "\n",
        "class SplexSolver:\n",
        "  def __init__(self, G, s=2):\n",
        "    self.G = G\n",
        "    self.s = s\n",
        "    self.N = len(G.nodes())\n",
        "    self.max = 0\n",
        "    self.maxi = [0 for i in range(N)]\n",
        "    self.res = []\n",
        "    self.order = []\n",
        "\n",
        "  def w(self, X):\n",
        "    res = 0\n",
        "    for i in X:\n",
        "      res += self.G.nodes[i][\"weight\"]\n",
        "    return res\n",
        "\n",
        "  def is_splex(self, X):\n",
        "    Gp = self.G.subgraph(X)\n",
        "    for x in Gp.nodes():\n",
        "      if Gp.degree(x) < len(Gp.nodes()) - self.s:\n",
        "        return False\n",
        "    return True\n",
        "\n",
        "  def min_order(self, X):\n",
        "      mini, m = self.N, self.N\n",
        "      for v in X:\n",
        "        if order.index(v) < mini:\n",
        "          mini = order.index(v)\n",
        "          m = v\n",
        "      return mini, m\n",
        "\n",
        "  def find_max(self, C, P):\n",
        "    if len(C) == 0:\n",
        "      if self.w(P) > self.max:\n",
        "        self.max = self.w(P)\n",
        "        self.res = P\n",
        "    while len(C) != 0:\n",
        "      if self.w(C) + self.w(P) <= self.max:\n",
        "        return\n",
        "      ic, i = self.min_order(C)\n",
        "      if self.maxi[ic] + self.w(P) <= self.max:\n",
        "        return\n",
        "      C = C - {i}\n",
        "      Pp = {i}.union(P)\n",
        "      Cp = set()\n",
        "      for v in C:\n",
        "        if self.is_splex(Pp.union({v})):\n",
        "          Cp.add(v)\n",
        "      self.find_max(Cp, Pp)\n",
        "\n",
        "  def solve(self):\n",
        "    self.order = list(np.argsort([self.G.nodes[i][\"weight\"] for i in self.G.nodes()]))\n",
        "    for i in reversed(range(self.N)):\n",
        "      C = set([self.order[x] for x in range(i + 1, self.N)])\n",
        "      self.find_max(C, {self.order[i]})\n",
        "      self.maxi[i] = self.max"
      ],
      "execution_count": null,
      "outputs": []
    },
    {
      "cell_type": "code",
      "metadata": {
        "id": "kKI8HGAwfU7b"
      },
      "source": [
        "solver = SplexSolver(G, 2)"
      ],
      "execution_count": null,
      "outputs": []
    },
    {
      "cell_type": "code",
      "metadata": {
        "id": "aDozUNFsfYN5"
      },
      "source": [
        "solver.solve()"
      ],
      "execution_count": null,
      "outputs": []
    }
  ]
}