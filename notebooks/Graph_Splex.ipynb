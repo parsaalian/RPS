{
 "cells": [
  {
   "cell_type": "code",
   "execution_count": 1,
   "metadata": {
    "ExecuteTime": {
     "end_time": "2021-09-25T11:49:40.163621Z",
     "start_time": "2021-09-25T11:49:40.003021Z"
    },
    "id": "m_w4-3DSJsVa"
   },
   "outputs": [],
   "source": [
    "import networkx as nx\n",
    "import random\n",
    "import numpy as np"
   ]
  },
  {
   "cell_type": "code",
   "execution_count": 2,
   "metadata": {
    "ExecuteTime": {
     "end_time": "2021-09-25T11:49:40.822919Z",
     "start_time": "2021-09-25T11:49:40.820589Z"
    },
    "id": "ztLELJs8Ju8G"
   },
   "outputs": [],
   "source": [
    "G = nx.Graph()"
   ]
  },
  {
   "cell_type": "code",
   "execution_count": 3,
   "metadata": {
    "ExecuteTime": {
     "end_time": "2021-09-25T11:49:41.556717Z",
     "start_time": "2021-09-25T11:49:41.554285Z"
    },
    "id": "VKUKNH9yJx_R"
   },
   "outputs": [],
   "source": [
    "for i in range(10):\n",
    "    G.add_node(i, weight=(9 - i) * 0.1 - 0.2)"
   ]
  },
  {
   "cell_type": "code",
   "execution_count": 4,
   "metadata": {
    "ExecuteTime": {
     "end_time": "2021-09-25T11:49:42.438758Z",
     "start_time": "2021-09-25T11:49:42.430142Z"
    },
    "colab": {
     "base_uri": "https://localhost:8080/"
    },
    "id": "egmW9G_NJ56Z",
    "outputId": "1a221c42-97cc-4421-96dc-76942e49bead"
   },
   "outputs": [
    {
     "data": {
      "text/plain": [
       "0.7"
      ]
     },
     "execution_count": 4,
     "metadata": {},
     "output_type": "execute_result"
    }
   ],
   "source": [
    "G.nodes[0][\"weight\"]"
   ]
  },
  {
   "cell_type": "code",
   "execution_count": 5,
   "metadata": {
    "ExecuteTime": {
     "end_time": "2021-09-25T11:49:43.529156Z",
     "start_time": "2021-09-25T11:49:43.526172Z"
    },
    "id": "dYRgRLm_KOwf"
   },
   "outputs": [],
   "source": [
    "for i in range(10):\n",
    "    for j in range(i + 1, 10):\n",
    "        if random.random() < 0.5:\n",
    "            G.add_edge(i, j)"
   ]
  },
  {
   "cell_type": "code",
   "execution_count": 6,
   "metadata": {
    "ExecuteTime": {
     "end_time": "2021-09-25T11:49:44.216146Z",
     "start_time": "2021-09-25T11:49:44.213341Z"
    },
    "id": "uWXdK9HRKXE-"
   },
   "outputs": [],
   "source": [
    "e = G.edges()"
   ]
  },
  {
   "cell_type": "code",
   "execution_count": 12,
   "metadata": {
    "ExecuteTime": {
     "end_time": "2021-09-25T11:50:43.651892Z",
     "start_time": "2021-09-25T11:50:43.640034Z"
    },
    "id": "dUsFVn78Kccd"
   },
   "outputs": [],
   "source": [
    "\n",
    "class SplexSolver:\n",
    "    def __init__(self, G, s=2):\n",
    "        self.G = G\n",
    "        self.s = s\n",
    "        self.N = len(G.nodes())\n",
    "        self.max = 0\n",
    "        self.maxi = [0 for i in range(self.N)]\n",
    "        self.res = []\n",
    "        self.order = []\n",
    "\n",
    "    def w(self, X):\n",
    "        res = 0\n",
    "        for i in X:\n",
    "            res += self.G.nodes[i][\"weight\"]\n",
    "        return res\n",
    "\n",
    "    def is_splex(self, X):\n",
    "        Gp = self.G.subgraph(X)\n",
    "        for x in Gp.nodes():\n",
    "            if Gp.degree(x) < len(Gp.nodes()) - self.s:\n",
    "                return False\n",
    "        return True\n",
    "\n",
    "    def min_order(self, X):\n",
    "        mini, m = self.N, self.N\n",
    "        for v in X:\n",
    "            if self.order.index(v) < mini:\n",
    "                mini = self.order.index(v)\n",
    "                m = v\n",
    "        return mini, m\n",
    "\n",
    "    def find_max(self, C, P):\n",
    "        if len(C) == 0:\n",
    "            if self.w(P) > self.max:\n",
    "                self.max = self.w(P)\n",
    "                self.res = P\n",
    "        while len(C) != 0:\n",
    "            if self.w(C) + self.w(P) <= self.max:\n",
    "                return\n",
    "            ic, i = self.min_order(C)\n",
    "            if self.maxi[ic] + self.w(P) <= self.max:\n",
    "                return\n",
    "            C = C - {i}\n",
    "            Pp = {i}.union(P)\n",
    "            Cp = set()\n",
    "            for v in C:\n",
    "                if self.is_splex(Pp.union({v})):\n",
    "                    Cp.add(v)\n",
    "            self.find_max(Cp, Pp)\n",
    "\n",
    "    def solve(self):\n",
    "        self.order = list(np.argsort([self.G.nodes[i][\"weight\"] for i in self.G.nodes()]))\n",
    "        for i in reversed(range(self.N)):\n",
    "            C = set([self.order[x] for x in range(i + 1, self.N)])\n",
    "            self.find_max(C, {self.order[i]})\n",
    "            self.maxi[i] = self.max"
   ]
  },
  {
   "cell_type": "code",
   "execution_count": 13,
   "metadata": {
    "ExecuteTime": {
     "end_time": "2021-09-25T11:50:44.015961Z",
     "start_time": "2021-09-25T11:50:44.013463Z"
    },
    "id": "kKI8HGAwfU7b"
   },
   "outputs": [],
   "source": [
    "solver = SplexSolver(G, 2)"
   ]
  },
  {
   "cell_type": "code",
   "execution_count": 14,
   "metadata": {
    "ExecuteTime": {
     "end_time": "2021-09-25T11:50:44.286120Z",
     "start_time": "2021-09-25T11:50:44.281298Z"
    },
    "id": "aDozUNFsfYN5"
   },
   "outputs": [],
   "source": [
    "solver.solve()"
   ]
  },
  {
   "cell_type": "code",
   "execution_count": 16,
   "metadata": {
    "ExecuteTime": {
     "end_time": "2021-09-25T11:51:01.459943Z",
     "start_time": "2021-09-25T11:51:01.455623Z"
    }
   },
   "outputs": [
    {
     "data": {
      "text/plain": [
       "{0, 1, 3, 6}"
      ]
     },
     "execution_count": 16,
     "metadata": {},
     "output_type": "execute_result"
    }
   ],
   "source": [
    "solver.res"
   ]
  },
  {
   "cell_type": "code",
   "execution_count": null,
   "metadata": {},
   "outputs": [],
   "source": []
  }
 ],
 "metadata": {
  "colab": {
   "collapsed_sections": [],
   "name": "Graph Splex.ipynb",
   "provenance": []
  },
  "kernelspec": {
   "display_name": "Python 3 (ipykernel)",
   "language": "python",
   "name": "python3"
  },
  "language_info": {
   "codemirror_mode": {
    "name": "ipython",
    "version": 3
   },
   "file_extension": ".py",
   "mimetype": "text/x-python",
   "name": "python",
   "nbconvert_exporter": "python",
   "pygments_lexer": "ipython3",
   "version": "3.8.9"
  },
  "toc": {
   "base_numbering": 1,
   "nav_menu": {},
   "number_sections": true,
   "sideBar": true,
   "skip_h1_title": false,
   "title_cell": "Table of Contents",
   "title_sidebar": "Contents",
   "toc_cell": false,
   "toc_position": {},
   "toc_section_display": true,
   "toc_window_display": false
  },
  "varInspector": {
   "cols": {
    "lenName": 16,
    "lenType": 16,
    "lenVar": 40
   },
   "kernels_config": {
    "python": {
     "delete_cmd_postfix": "",
     "delete_cmd_prefix": "del ",
     "library": "var_list.py",
     "varRefreshCmd": "print(var_dic_list())"
    },
    "r": {
     "delete_cmd_postfix": ") ",
     "delete_cmd_prefix": "rm(",
     "library": "var_list.r",
     "varRefreshCmd": "cat(var_dic_list()) "
    }
   },
   "types_to_exclude": [
    "module",
    "function",
    "builtin_function_or_method",
    "instance",
    "_Feature"
   ],
   "window_display": false
  }
 },
 "nbformat": 4,
 "nbformat_minor": 1
}
