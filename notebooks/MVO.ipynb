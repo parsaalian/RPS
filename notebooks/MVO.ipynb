{
 "cells": [
  {
   "cell_type": "code",
   "execution_count": 1,
   "id": "ba5a3031",
   "metadata": {
    "ExecuteTime": {
     "end_time": "2021-09-25T11:31:04.251691Z",
     "start_time": "2021-09-25T11:31:04.248180Z"
    }
   },
   "outputs": [],
   "source": [
    "import os\n",
    "import sys\n",
    "module_path = os.path.abspath(os.path.join('..'))\n",
    "if module_path not in sys.path:\n",
    "    sys.path.append(module_path)"
   ]
  },
  {
   "cell_type": "code",
   "execution_count": 2,
   "id": "ddcff3e5",
   "metadata": {
    "ExecuteTime": {
     "end_time": "2021-09-25T11:31:05.216293Z",
     "start_time": "2021-09-25T11:31:04.638341Z"
    }
   },
   "outputs": [],
   "source": [
    "import numpy as np\n",
    "import pandas as pd\n",
    "from pypfopt.expected_returns import ema_historical_return\n",
    "from pypfopt.efficient_frontier import EfficientFrontier"
   ]
  },
  {
   "cell_type": "code",
   "execution_count": 3,
   "id": "ee46fec0",
   "metadata": {
    "ExecuteTime": {
     "end_time": "2021-09-25T11:31:05.242637Z",
     "start_time": "2021-09-25T11:31:05.237539Z"
    }
   },
   "outputs": [],
   "source": [
    "from data import *"
   ]
  },
  {
   "cell_type": "code",
   "execution_count": 4,
   "id": "d8a0d541",
   "metadata": {
    "ExecuteTime": {
     "end_time": "2021-09-25T11:31:05.842444Z",
     "start_time": "2021-09-25T11:31:05.839448Z"
    }
   },
   "outputs": [],
   "source": [
    "class dataset:\n",
    "    data_path = '../data/SP500/SP_20180402_20200401.csv'\n",
    "\n",
    "class train:\n",
    "    start_date = '2019-04-01'\n",
    "    end_date = '2019-08-01'"
   ]
  },
  {
   "cell_type": "code",
   "execution_count": 5,
   "id": "45bfdcd0",
   "metadata": {
    "ExecuteTime": {
     "end_time": "2021-09-25T11:31:06.394534Z",
     "start_time": "2021-09-25T11:31:06.215589Z"
    }
   },
   "outputs": [],
   "source": [
    "train_dataset = SP500_loader(dataset, train)"
   ]
  },
  {
   "cell_type": "code",
   "execution_count": 6,
   "id": "1af24a2b",
   "metadata": {
    "ExecuteTime": {
     "end_time": "2021-09-25T11:31:06.598075Z",
     "start_time": "2021-09-25T11:31:06.594823Z"
    }
   },
   "outputs": [],
   "source": [
    "reduced = train_dataset[train_dataset.columns[:60]]"
   ]
  },
  {
   "cell_type": "code",
   "execution_count": 7,
   "id": "4f57ef11",
   "metadata": {
    "ExecuteTime": {
     "end_time": "2021-09-25T11:31:07.363677Z",
     "start_time": "2021-09-25T11:31:07.356269Z"
    }
   },
   "outputs": [],
   "source": [
    "er = ema_historical_return(reduced)"
   ]
  },
  {
   "cell_type": "code",
   "execution_count": 20,
   "id": "eafb7716",
   "metadata": {
    "ExecuteTime": {
     "end_time": "2021-09-25T11:32:01.578848Z",
     "start_time": "2021-09-25T11:32:01.307167Z"
    }
   },
   "outputs": [
    {
     "name": "stdout",
     "output_type": "stream",
     "text": [
      "===============================================================================\n",
      "                                     CVXPY                                     \n",
      "                                    v1.1.15                                    \n",
      "===============================================================================\n",
      "(CVXPY) Sep 25 03:02:01 PM: Your problem has 60 variables, 4 constraints, and 0 parameters.\n",
      "(CVXPY) Sep 25 03:02:01 PM: It is compliant with the following grammars: DCP, DQCP\n",
      "(CVXPY) Sep 25 03:02:01 PM: (If you need to solve this problem multiple times, but with different data, consider using parameters.)\n",
      "(CVXPY) Sep 25 03:02:01 PM: CVXPY will first compile your problem; then, it will invoke a numerical solver to obtain a solution.\n",
      "-------------------------------------------------------------------------------\n",
      "                                  Compilation                                  \n",
      "-------------------------------------------------------------------------------\n",
      "(CVXPY) Sep 25 03:02:01 PM: Compiling problem (target solver=OSQP).\n",
      "(CVXPY) Sep 25 03:02:01 PM: Reduction chain: CvxAttr2Constr -> Qp2SymbolicQp -> QpMatrixStuffing -> OSQP\n",
      "(CVXPY) Sep 25 03:02:01 PM: Applying reduction CvxAttr2Constr\n",
      "(CVXPY) Sep 25 03:02:01 PM: Applying reduction Qp2SymbolicQp\n",
      "(CVXPY) Sep 25 03:02:01 PM: Applying reduction QpMatrixStuffing\n",
      "(CVXPY) Sep 25 03:02:01 PM: Applying reduction OSQP\n",
      "(CVXPY) Sep 25 03:02:01 PM: Finished problem compilation (took 1.574e-02 seconds).\n",
      "-------------------------------------------------------------------------------\n",
      "                                Numerical solver                               \n",
      "-------------------------------------------------------------------------------\n",
      "(CVXPY) Sep 25 03:02:01 PM: Invoking solver OSQP  to obtain a solution.\n",
      "-----------------------------------------------------------------\n",
      "           OSQP v0.6.2  -  Operator Splitting QP Solver\n",
      "              (c) Bartolomeo Stellato,  Goran Banjac\n",
      "        University of Oxford  -  Stanford University 2021\n",
      "-----------------------------------------------------------------\n",
      "problem:  variables n = 60, constraints m = 181\n",
      "          nnz(P) + nnz(A) = 2070\n",
      "settings: linear system solver = qdldl,\n",
      "          eps_abs = 1.0e-05, eps_rel = 1.0e-05,\n",
      "          eps_prim_inf = 1.0e-04, eps_dual_inf = 1.0e-04,\n",
      "          rho = 1.00e-01 (adaptive),\n",
      "          sigma = 1.00e-06, alpha = 1.60, max_iter = 10000\n",
      "          check_termination: on (interval 25),\n",
      "          scaling: on, scaled_termination: off\n",
      "          warm start: on, polish: on, time_limit: off\n",
      "\n",
      "iter   objective    pri res    dua res    rho        time\n",
      "   1   0.0000e+00   1.00e+00   3.75e+02   1.00e-01   3.21e-04s\n",
      " 200   3.9480e+00   4.69e-04   5.71e-03   6.53e-01   1.47e-03s\n",
      " 300   3.9739e+00   6.94e-06   6.17e-05   6.53e-01   2.10e-03s\n",
      "plsh   3.9742e+00   8.12e-16   1.70e-13   --------   2.37e-03s\n",
      "\n",
      "status:               solved\n",
      "solution polish:      successful\n",
      "number of iterations: 300\n",
      "optimal objective:    3.9742\n",
      "run time:             2.37e-03s\n",
      "optimal rho estimate: 7.18e-01\n",
      "\n",
      "-------------------------------------------------------------------------------\n",
      "                                    Summary                                    \n",
      "-------------------------------------------------------------------------------\n",
      "(CVXPY) Sep 25 03:02:01 PM: Problem status: optimal\n",
      "(CVXPY) Sep 25 03:02:01 PM: Optimal value: 3.974e+00\n",
      "(CVXPY) Sep 25 03:02:01 PM: Compilation took 1.574e-02 seconds\n",
      "(CVXPY) Sep 25 03:02:01 PM: Solver (including time spent in interface) took 5.423e-03 seconds\n"
     ]
    }
   ],
   "source": [
    "for i in range(100):\n",
    "    try:\n",
    "        ef = EfficientFrontier(er, reduced.cov(), verbose=True)\n",
    "        ef.add_constraint(lambda x : x >= 0.01)\n",
    "        sol = ef.min_volatility()\n",
    "        break\n",
    "    except Exception as e:\n",
    "        print(e)"
   ]
  },
  {
   "cell_type": "code",
   "execution_count": 21,
   "id": "2973315a",
   "metadata": {
    "ExecuteTime": {
     "end_time": "2021-09-25T11:32:02.173207Z",
     "start_time": "2021-09-25T11:32:02.159957Z"
    }
   },
   "outputs": [
    {
     "data": {
      "text/plain": [
       "OrderedDict([('A', 0.01),\n",
       "             ('AAL', 0.01),\n",
       "             ('AAP', 0.01),\n",
       "             ('AAPL', 0.01),\n",
       "             ('ABBV', 0.333901718732376),\n",
       "             ('ABC', 0.01),\n",
       "             ('ABT', 0.01),\n",
       "             ('ACN', 0.01),\n",
       "             ('ADBE', 0.01),\n",
       "             ('ADI', 0.01),\n",
       "             ('ADM', 0.01),\n",
       "             ('ADP', 0.01),\n",
       "             ('ADS', 0.01),\n",
       "             ('ADSK', 0.01),\n",
       "             ('AEE', 0.01),\n",
       "             ('AEP', 0.01),\n",
       "             ('AES', 0.01),\n",
       "             ('AFL', 0.01),\n",
       "             ('AGN', 0.01),\n",
       "             ('AIG', 0.0860982812676239),\n",
       "             ('AIV', 0.01),\n",
       "             ('AIZ', 0.01),\n",
       "             ('AJG', 0.01),\n",
       "             ('AKAM', 0.01),\n",
       "             ('ALB', 0.01),\n",
       "             ('ALGN', 0.01),\n",
       "             ('ALK', 0.01),\n",
       "             ('ALL', 0.01),\n",
       "             ('ALLE', 0.01),\n",
       "             ('ALXN', 0.01),\n",
       "             ('AMAT', 0.01),\n",
       "             ('AMD', 0.01),\n",
       "             ('AME', 0.01),\n",
       "             ('AMG', 0.01),\n",
       "             ('AMGN', 0.01),\n",
       "             ('AMP', 0.01),\n",
       "             ('AMT', 0.01),\n",
       "             ('AMZN', 0.01),\n",
       "             ('ANSS', 0.01),\n",
       "             ('ANTM', 0.01),\n",
       "             ('AON', 0.01),\n",
       "             ('AOS', 0.01),\n",
       "             ('APA', 0.01),\n",
       "             ('APD', 0.01),\n",
       "             ('APH', 0.01),\n",
       "             ('APTV', 0.01),\n",
       "             ('ARE', 0.01),\n",
       "             ('ARNC', 0.01),\n",
       "             ('ATVI', 0.01),\n",
       "             ('AVB', 0.01),\n",
       "             ('AVGO', 0.01),\n",
       "             ('AVY', 0.01),\n",
       "             ('AWK', 0.01),\n",
       "             ('AXP', 0.01),\n",
       "             ('AYI', 0.01),\n",
       "             ('AZO', 0.01),\n",
       "             ('BA', 0.01),\n",
       "             ('BAC', 0.01),\n",
       "             ('BAX', 0.01),\n",
       "             ('BBY', 0.01)])"
      ]
     },
     "execution_count": 21,
     "metadata": {},
     "output_type": "execute_result"
    }
   ],
   "source": [
    "sol"
   ]
  },
  {
   "cell_type": "code",
   "execution_count": null,
   "id": "dc7f0080",
   "metadata": {},
   "outputs": [],
   "source": []
  }
 ],
 "metadata": {
  "kernelspec": {
   "display_name": "Python 3 (ipykernel)",
   "language": "python",
   "name": "python3"
  },
  "language_info": {
   "codemirror_mode": {
    "name": "ipython",
    "version": 3
   },
   "file_extension": ".py",
   "mimetype": "text/x-python",
   "name": "python",
   "nbconvert_exporter": "python",
   "pygments_lexer": "ipython3",
   "version": "3.8.9"
  },
  "toc": {
   "base_numbering": 1,
   "nav_menu": {},
   "number_sections": true,
   "sideBar": true,
   "skip_h1_title": false,
   "title_cell": "Table of Contents",
   "title_sidebar": "Contents",
   "toc_cell": false,
   "toc_position": {},
   "toc_section_display": true,
   "toc_window_display": false
  },
  "varInspector": {
   "cols": {
    "lenName": 16,
    "lenType": 16,
    "lenVar": 40
   },
   "kernels_config": {
    "python": {
     "delete_cmd_postfix": "",
     "delete_cmd_prefix": "del ",
     "library": "var_list.py",
     "varRefreshCmd": "print(var_dic_list())"
    },
    "r": {
     "delete_cmd_postfix": ") ",
     "delete_cmd_prefix": "rm(",
     "library": "var_list.r",
     "varRefreshCmd": "cat(var_dic_list()) "
    }
   },
   "types_to_exclude": [
    "module",
    "function",
    "builtin_function_or_method",
    "instance",
    "_Feature"
   ],
   "window_display": false
  }
 },
 "nbformat": 4,
 "nbformat_minor": 5
}
