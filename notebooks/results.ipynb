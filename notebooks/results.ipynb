{
 "cells": [
  {
   "cell_type": "code",
   "execution_count": 1,
   "id": "01c7eae1",
   "metadata": {
    "ExecuteTime": {
     "end_time": "2021-09-21T17:42:30.236034Z",
     "start_time": "2021-09-21T17:42:30.232594Z"
    }
   },
   "outputs": [],
   "source": [
    "import os\n",
    "import sys\n",
    "module_path = os.path.abspath(os.path.join('..'))\n",
    "if module_path not in sys.path:\n",
    "    sys.path.append(module_path)"
   ]
  },
  {
   "cell_type": "code",
   "execution_count": 2,
   "id": "23f77875",
   "metadata": {
    "ExecuteTime": {
     "end_time": "2021-09-21T17:42:30.823338Z",
     "start_time": "2021-09-21T17:42:30.571173Z"
    }
   },
   "outputs": [],
   "source": [
    "import numpy as np\n",
    "import pandas as pd"
   ]
  },
  {
   "cell_type": "code",
   "execution_count": 3,
   "id": "b4871a03",
   "metadata": {
    "ExecuteTime": {
     "end_time": "2021-09-21T17:42:31.003659Z",
     "start_time": "2021-09-21T17:42:30.987073Z"
    }
   },
   "outputs": [],
   "source": [
    "sa = pd.read_csv('../exp/SA/SA_sp500_2021-Sep-21-19-02-32/future_performance.csv')\n",
    "rps = pd.read_csv('../exp/RPS/RPS_sp500_2021-Sep-21-13-49-00/future_performances.csv')\n",
    "rnd = pd.read_csv('../exp/Random/Random_sp500_2021-Sep-21-19-33-13/future_performances.csv')\n",
    "mtg = pd.read_csv('../exp/Mantegna/Mantegna_sp500_2021-Sep-21-13-45-34/future_performances.csv')"
   ]
  },
  {
   "cell_type": "code",
   "execution_count": 4,
   "id": "4849d4e9",
   "metadata": {
    "ExecuteTime": {
     "end_time": "2021-09-21T17:42:31.705839Z",
     "start_time": "2021-09-21T17:42:31.701124Z"
    }
   },
   "outputs": [],
   "source": [
    "sa['method'] = 'SA'\n",
    "rps['method'] = 'RPS'\n",
    "rnd['method'] = 'RND'\n",
    "mtg['method'] = 'MTG'"
   ]
  },
  {
   "cell_type": "code",
   "execution_count": 5,
   "id": "871d9111",
   "metadata": {
    "ExecuteTime": {
     "end_time": "2021-09-21T17:45:18.590137Z",
     "start_time": "2021-09-21T17:45:18.584558Z"
    }
   },
   "outputs": [],
   "source": [
    "merged = rps.append(mtg).append(sa).append(rnd).reset_index(drop=True)"
   ]
  },
  {
   "cell_type": "code",
   "execution_count": 25,
   "id": "7e8f1b37",
   "metadata": {
    "ExecuteTime": {
     "end_time": "2021-09-21T18:01:51.057700Z",
     "start_time": "2021-09-21T18:01:51.049683Z"
    }
   },
   "outputs": [
    {
     "data": {
      "text/plain": [
       "method\n",
       "MTG    0.438157\n",
       "RND    0.438157\n",
       "RPS    0.420168\n",
       "SA     0.466278\n",
       "dtype: float64"
      ]
     },
     "execution_count": 25,
     "metadata": {},
     "output_type": "execute_result"
    }
   ],
   "source": [
    "merged[merged['return'] != 0].groupby('method').apply(lambda g: g['return'].mean())"
   ]
  },
  {
   "cell_type": "code",
   "execution_count": 7,
   "id": "6a7f34c6",
   "metadata": {
    "ExecuteTime": {
     "end_time": "2021-09-21T17:48:33.962159Z",
     "start_time": "2021-09-21T17:48:33.327523Z"
    }
   },
   "outputs": [],
   "source": [
    "import matplotlib.pyplot as plt\n",
    "import seaborn as sns\n",
    "%matplotlib inline\n",
    "sns.set()"
   ]
  },
  {
   "cell_type": "code",
   "execution_count": 8,
   "id": "6b158c0c",
   "metadata": {
    "ExecuteTime": {
     "end_time": "2021-09-21T17:48:34.445718Z",
     "start_time": "2021-09-21T17:48:34.041147Z"
    }
   },
   "outputs": [
    {
     "data": {
      "text/plain": [
       "<seaborn.axisgrid.FacetGrid at 0x12dc4d850>"
      ]
     },
     "execution_count": 8,
     "metadata": {},
     "output_type": "execute_result"
    },
    {
     "data": {
      "image/png": "[encoded data removed]",
      "text/plain": [
       "<Figure size 424.225x360 with 1 Axes>"
      ]
     },
     "metadata": {},
     "output_type": "display_data"
    }
   ],
   "source": [
    "sns.relplot(\n",
    "    data=merged.sort_values('method', ascending=False),\n",
    "    x='sigma', y='return', hue='method', style='method',\n",
    ")"
   ]
  },
  {
   "cell_type": "code",
   "execution_count": 21,
   "id": "4dbee380",
   "metadata": {
    "ExecuteTime": {
     "end_time": "2021-09-21T18:00:13.525695Z",
     "start_time": "2021-09-21T18:00:13.511144Z"
    },
    "scrolled": false
   },
   "outputs": [
    {
     "data": {
      "text/html": [
       "<div>\n",
       "<style scoped>\n",
       "    .dataframe tbody tr th:only-of-type {\n",
       "        vertical-align: middle;\n",
       "    }\n",
       "\n",
       "    .dataframe tbody tr th {\n",
       "        vertical-align: top;\n",
       "    }\n",
       "\n",
       "    .dataframe thead th {\n",
       "        text-align: right;\n",
       "    }\n",
       "</style>\n",
       "<table border=\"1\" class=\"dataframe\">\n",
       "  <thead>\n",
       "    <tr style=\"text-align: right;\">\n",
       "      <th></th>\n",
       "      <th>stocks</th>\n",
       "      <th>weights</th>\n",
       "      <th>corr_min</th>\n",
       "      <th>corr_max</th>\n",
       "      <th>corr_mean</th>\n",
       "      <th>corr_std</th>\n",
       "      <th>return</th>\n",
       "      <th>sigma</th>\n",
       "      <th>sharpe</th>\n",
       "      <th>information</th>\n",
       "      <th>modigliani</th>\n",
       "      <th>method</th>\n",
       "    </tr>\n",
       "  </thead>\n",
       "  <tbody>\n",
       "    <tr>\n",
       "      <th>1</th>\n",
       "      <td>BHF//O</td>\n",
       "      <td>0.2195418568343619//0.7804581431656381</td>\n",
       "      <td>[0.2195418568343619, 0.7804581431656381]</td>\n",
       "      <td>0.194589</td>\n",
       "      <td>0.194589</td>\n",
       "      <td>0.194589</td>\n",
       "      <td>0.0</td>\n",
       "      <td>0.595137</td>\n",
       "      <td>0.171413</td>\n",
       "      <td>3.420034</td>\n",
       "      <td>2.531836</td>\n",
       "      <td>RPS</td>\n",
       "    </tr>\n",
       "    <tr>\n",
       "      <th>7</th>\n",
       "      <td>MAR//WYNN</td>\n",
       "      <td>0.8302194154859172//0.16978058451408284</td>\n",
       "      <td>[0.8302194154859172, 0.16978058451408284]</td>\n",
       "      <td>0.728157</td>\n",
       "      <td>0.728157</td>\n",
       "      <td>0.728157</td>\n",
       "      <td>0.0</td>\n",
       "      <td>-0.915280</td>\n",
       "      <td>0.305984</td>\n",
       "      <td>-3.020350</td>\n",
       "      <td>-3.884896</td>\n",
       "      <td>RPS</td>\n",
       "    </tr>\n",
       "    <tr>\n",
       "      <th>14</th>\n",
       "      <td>KIM//SLG</td>\n",
       "      <td>0.6618972370535956//0.3381027629464044</td>\n",
       "      <td>[0.6618972370535956, 0.3381027629464044]</td>\n",
       "      <td>0.128735</td>\n",
       "      <td>0.128735</td>\n",
       "      <td>0.128735</td>\n",
       "      <td>0.0</td>\n",
       "      <td>-0.264128</td>\n",
       "      <td>0.182565</td>\n",
       "      <td>-1.495511</td>\n",
       "      <td>-1.118597</td>\n",
       "      <td>RPS</td>\n",
       "    </tr>\n",
       "    <tr>\n",
       "      <th>24</th>\n",
       "      <td>CAG//WAT</td>\n",
       "      <td>0.7257474711589507//0.27425252884104934</td>\n",
       "      <td>[0.7257474711589507, 0.27425252884104934]</td>\n",
       "      <td>0.071136</td>\n",
       "      <td>0.071136</td>\n",
       "      <td>0.071136</td>\n",
       "      <td>0.0</td>\n",
       "      <td>0.116027</td>\n",
       "      <td>0.281148</td>\n",
       "      <td>0.381035</td>\n",
       "      <td>0.496424</td>\n",
       "      <td>RPS</td>\n",
       "    </tr>\n",
       "    <tr>\n",
       "      <th>27</th>\n",
       "      <td>HON//ZION</td>\n",
       "      <td>0.6082257864239156//0.39177421357608444</td>\n",
       "      <td>[0.6082257864239156, 0.39177421357608444]</td>\n",
       "      <td>0.670624</td>\n",
       "      <td>0.670624</td>\n",
       "      <td>0.670624</td>\n",
       "      <td>0.0</td>\n",
       "      <td>-0.287342</td>\n",
       "      <td>0.283206</td>\n",
       "      <td>-1.046033</td>\n",
       "      <td>-1.217218</td>\n",
       "      <td>RPS</td>\n",
       "    </tr>\n",
       "  </tbody>\n",
       "</table>\n",
       "</div>"
      ],
      "text/plain": [
       "       stocks                                  weights  \\\n",
       "1      BHF//O   0.2195418568343619//0.7804581431656381   \n",
       "7   MAR//WYNN  0.8302194154859172//0.16978058451408284   \n",
       "14   KIM//SLG   0.6618972370535956//0.3381027629464044   \n",
       "24   CAG//WAT  0.7257474711589507//0.27425252884104934   \n",
       "27  HON//ZION  0.6082257864239156//0.39177421357608444   \n",
       "\n",
       "                                     corr_min  corr_max  corr_mean  corr_std  \\\n",
       "1    [0.2195418568343619, 0.7804581431656381]  0.194589   0.194589  0.194589   \n",
       "7   [0.8302194154859172, 0.16978058451408284]  0.728157   0.728157  0.728157   \n",
       "14   [0.6618972370535956, 0.3381027629464044]  0.128735   0.128735  0.128735   \n",
       "24  [0.7257474711589507, 0.27425252884104934]  0.071136   0.071136  0.071136   \n",
       "27  [0.6082257864239156, 0.39177421357608444]  0.670624   0.670624  0.670624   \n",
       "\n",
       "    return     sigma    sharpe  information  modigliani method  \n",
       "1      0.0  0.595137  0.171413     3.420034    2.531836    RPS  \n",
       "7      0.0 -0.915280  0.305984    -3.020350   -3.884896    RPS  \n",
       "14     0.0 -0.264128  0.182565    -1.495511   -1.118597    RPS  \n",
       "24     0.0  0.116027  0.281148     0.381035    0.496424    RPS  \n",
       "27     0.0 -0.287342  0.283206    -1.046033   -1.217218    RPS  "
      ]
     },
     "execution_count": 21,
     "metadata": {},
     "output_type": "execute_result"
    }
   ],
   "source": [
    "merged[merged['return'] == 0]"
   ]
  },
  {
   "cell_type": "code",
   "execution_count": 15,
   "id": "d42ea373",
   "metadata": {
    "ExecuteTime": {
     "end_time": "2021-09-21T17:51:19.522403Z",
     "start_time": "2021-09-21T17:51:19.513323Z"
    }
   },
   "outputs": [],
   "source": [
    "before_mtg = pd.read_csv('../exp/Mantegna/Mantegna_sp500_2021-Sep-21-13-38-58/mantegna_results.csv')\n",
    "before_rps = pd.read_csv('../exp/RPS/RPS_sp500_2021-Sep-19-11-41-05/results.csv')"
   ]
  },
  {
   "cell_type": "code",
   "execution_count": 16,
   "id": "aec9068a",
   "metadata": {
    "ExecuteTime": {
     "end_time": "2021-09-21T17:51:20.075387Z",
     "start_time": "2021-09-21T17:51:20.071005Z"
    }
   },
   "outputs": [],
   "source": [
    "before_mtg['new_return'] = mtg['return']\n",
    "before_mtg['new_sigma'] = mtg['sigma']\n",
    "before_mtg['new_sharpe'] = mtg['sharpe']"
   ]
  },
  {
   "cell_type": "code",
   "execution_count": 17,
   "id": "4d5713d2",
   "metadata": {
    "ExecuteTime": {
     "end_time": "2021-09-21T17:51:21.511754Z",
     "start_time": "2021-09-21T17:51:21.507522Z"
    }
   },
   "outputs": [],
   "source": [
    "before_rps['new_return'] = rps['return']\n",
    "before_rps['new_sigma'] = rps['sigma']\n",
    "before_rps['new_sharpe'] = rps['sharpe']"
   ]
  },
  {
   "cell_type": "code",
   "execution_count": 18,
   "id": "c34ddb8d",
   "metadata": {
    "ExecuteTime": {
     "end_time": "2021-09-21T17:51:22.426169Z",
     "start_time": "2021-09-21T17:51:22.151161Z"
    }
   },
   "outputs": [
    {
     "data": {
      "text/plain": [
       "<AxesSubplot:xlabel='return', ylabel='new_return'>"
      ]
     },
     "execution_count": 18,
     "metadata": {},
     "output_type": "execute_result"
    },
    {
     "data": {
      "image/png": "[encoded data removed]",
      "text/plain": [
       "<Figure size 432x288 with 1 Axes>"
      ]
     },
     "metadata": {},
     "output_type": "display_data"
    }
   ],
   "source": [
    "sns.regplot(data=before_rps, x=\"return\", y=\"new_return\")"
   ]
  },
  {
   "cell_type": "code",
   "execution_count": 43,
   "id": "4d724ab5",
   "metadata": {
    "ExecuteTime": {
     "end_time": "2021-09-21T09:53:56.159958Z",
     "start_time": "2021-09-21T09:53:55.901192Z"
    }
   },
   "outputs": [
    {
     "data": {
      "text/plain": [
       "<AxesSubplot:xlabel='return', ylabel='new_return'>"
      ]
     },
     "execution_count": 43,
     "metadata": {},
     "output_type": "execute_result"
    },
    {
     "data": {
      "image/png": "[encoded data removed]",
      "text/plain": [
       "<Figure size 432x288 with 1 Axes>"
      ]
     },
     "metadata": {},
     "output_type": "display_data"
    }
   ],
   "source": [
    "sns.regplot(data=before_mtg, x=\"return\", y=\"new_return\")"
   ]
  },
  {
   "cell_type": "code",
   "execution_count": 19,
   "id": "db4ba198",
   "metadata": {
    "ExecuteTime": {
     "end_time": "2021-09-21T17:52:42.525918Z",
     "start_time": "2021-09-21T17:52:42.365414Z"
    }
   },
   "outputs": [
    {
     "data": {
      "image/png": "[encoded data removed]",
      "text/plain": [
       "<Figure size 432x288 with 1 Axes>"
      ]
     },
     "metadata": {},
     "output_type": "display_data"
    }
   ],
   "source": [
    "ax = sns.boxplot(x='method', y='return', data=merged)\n",
    "r = plt.setp(ax.get_xticklabels(), rotation=90)"
   ]
  },
  {
   "cell_type": "code",
   "execution_count": null,
   "id": "2b527424",
   "metadata": {},
   "outputs": [],
   "source": []
  }
 ],
 "metadata": {
  "kernelspec": {
   "display_name": "Python 3 (ipykernel)",
   "language": "python",
   "name": "python3"
  },
  "language_info": {
   "codemirror_mode": {
    "name": "ipython",
    "version": 3
   },
   "file_extension": ".py",
   "mimetype": "text/x-python",
   "name": "python",
   "nbconvert_exporter": "python",
   "pygments_lexer": "ipython3",
   "version": "3.8.2"
  },
  "toc": {
   "base_numbering": 1,
   "nav_menu": {},
   "number_sections": true,
   "sideBar": true,
   "skip_h1_title": false,
   "title_cell": "Table of Contents",
   "title_sidebar": "Contents",
   "toc_cell": false,
   "toc_position": {},
   "toc_section_display": true,
   "toc_window_display": false
  },
  "varInspector": {
   "cols": {
    "lenName": 16,
    "lenType": 16,
    "lenVar": 40
   },
   "kernels_config": {
    "python": {
     "delete_cmd_postfix": "",
     "delete_cmd_prefix": "del ",
     "library": "var_list.py",
     "varRefreshCmd": "print(var_dic_list())"
    },
    "r": {
     "delete_cmd_postfix": ") ",
     "delete_cmd_prefix": "rm(",
     "library": "var_list.r",
     "varRefreshCmd": "cat(var_dic_list()) "
    }
   },
   "types_to_exclude": [
    "module",
    "function",
    "builtin_function_or_method",
    "instance",
    "_Feature"
   ],
   "window_display": false
  }
 },
 "nbformat": 4,
 "nbformat_minor": 5
}
