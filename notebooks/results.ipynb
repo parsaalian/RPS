{
 "cells": [
  {
   "cell_type": "code",
   "execution_count": 1,
   "id": "01c7eae1",
   "metadata": {
    "ExecuteTime": {
     "end_time": "2021-09-21T14:34:54.642598Z",
     "start_time": "2021-09-21T14:34:54.639599Z"
    }
   },
   "outputs": [],
   "source": [
    "import os\n",
    "import sys\n",
    "module_path = os.path.abspath(os.path.join('..'))\n",
    "if module_path not in sys.path:\n",
    "    sys.path.append(module_path)"
   ]
  },
  {
   "cell_type": "code",
   "execution_count": 2,
   "id": "23f77875",
   "metadata": {
    "ExecuteTime": {
     "end_time": "2021-09-21T14:35:15.550670Z",
     "start_time": "2021-09-21T14:35:15.364986Z"
    }
   },
   "outputs": [],
   "source": [
    "import numpy as np\n",
    "import pandas as pd"
   ]
  },
  {
   "cell_type": "code",
   "execution_count": 12,
   "id": "b4871a03",
   "metadata": {
    "ExecuteTime": {
     "end_time": "2021-09-21T15:03:39.936616Z",
     "start_time": "2021-09-21T15:03:39.909876Z"
    }
   },
   "outputs": [],
   "source": [
    "rps = pd.read_csv('../exp/RPS/RPS_sp500_2021-Sep-21-13-49-00/future_performances.csv')\n",
    "mtg = pd.read_csv('../exp/Mantegna/Mantegna_sp500_2021-Sep-21-13-45-34/future_performances.csv')\n",
    "sa = pd.read_csv('../exp/SA/SA_sp500_2021-Sep-21-19-02-32/future_performance.csv')\n",
    "rnd = pd.read_csv('../exp/Random/Random_sp500_2021-Sep-21-19-33-13/future_performances.csv')"
   ]
  },
  {
   "cell_type": "code",
   "execution_count": 13,
   "id": "4849d4e9",
   "metadata": {
    "ExecuteTime": {
     "end_time": "2021-09-21T15:03:46.704377Z",
     "start_time": "2021-09-21T15:03:46.699032Z"
    }
   },
   "outputs": [],
   "source": [
    "rps['method'] = 'RPS'\n",
    "mtg['method'] = 'MTG'\n",
    "sa['method'] = 'SA'\n",
    "rnd['method'] = 'RND'"
   ]
  },
  {
   "cell_type": "code",
   "execution_count": 14,
   "id": "871d9111",
   "metadata": {
    "ExecuteTime": {
     "end_time": "2021-09-21T15:03:50.672300Z",
     "start_time": "2021-09-21T15:03:50.666242Z"
    }
   },
   "outputs": [],
   "source": [
    "merged = rps.append(mtg).append(sa).append(rnd).reset_index(drop=True)"
   ]
  },
  {
   "cell_type": "code",
   "execution_count": 15,
   "id": "7e8f1b37",
   "metadata": {
    "ExecuteTime": {
     "end_time": "2021-09-21T15:03:51.994754Z",
     "start_time": "2021-09-21T15:03:51.976505Z"
    }
   },
   "outputs": [
    {
     "data": {
      "text/html": [
       "<div>\n",
       "<style scoped>\n",
       "    .dataframe tbody tr th:only-of-type {\n",
       "        vertical-align: middle;\n",
       "    }\n",
       "\n",
       "    .dataframe tbody tr th {\n",
       "        vertical-align: top;\n",
       "    }\n",
       "\n",
       "    .dataframe thead th {\n",
       "        text-align: right;\n",
       "    }\n",
       "</style>\n",
       "<table border=\"1\" class=\"dataframe\">\n",
       "  <thead>\n",
       "    <tr style=\"text-align: right;\">\n",
       "      <th></th>\n",
       "      <th>stocks</th>\n",
       "      <th>weights</th>\n",
       "      <th>corr_min</th>\n",
       "      <th>corr_max</th>\n",
       "      <th>corr_mean</th>\n",
       "      <th>corr_std</th>\n",
       "      <th>return</th>\n",
       "      <th>sigma</th>\n",
       "      <th>sharpe</th>\n",
       "      <th>information</th>\n",
       "      <th>modigliani</th>\n",
       "      <th>method</th>\n",
       "    </tr>\n",
       "  </thead>\n",
       "  <tbody>\n",
       "    <tr>\n",
       "      <th>0</th>\n",
       "      <td>AAL//AAPL//ADBE//ADI//ADM//ADSK//AES//AGN//ALG...</td>\n",
       "      <td>0.002122786795078598//0.0011557268724594928//0...</td>\n",
       "      <td>[0.002122786795078598, 0.0011557268724594928, ...</td>\n",
       "      <td>-0.894065</td>\n",
       "      <td>0.997909</td>\n",
       "      <td>0.300443</td>\n",
       "      <td>0.472340</td>\n",
       "      <td>-0.054390</td>\n",
       "      <td>0.201582</td>\n",
       "      <td>-0.313968</td>\n",
       "      <td>-0.227563</td>\n",
       "      <td>RPS</td>\n",
       "    </tr>\n",
       "    <tr>\n",
       "      <th>1</th>\n",
       "      <td>BHF//O</td>\n",
       "      <td>0.2195418568343619//0.7804581431656381</td>\n",
       "      <td>[0.2195418568343619, 0.7804581431656381]</td>\n",
       "      <td>0.194589</td>\n",
       "      <td>0.194589</td>\n",
       "      <td>0.194589</td>\n",
       "      <td>0.000000</td>\n",
       "      <td>0.595137</td>\n",
       "      <td>0.171413</td>\n",
       "      <td>3.420034</td>\n",
       "      <td>2.531836</td>\n",
       "      <td>RPS</td>\n",
       "    </tr>\n",
       "    <tr>\n",
       "      <th>2</th>\n",
       "      <td>ABC//AEE//AEP//AFL//AIG//AIZ//AJG//ALLE//AMD//...</td>\n",
       "      <td>0.0008710120358558479//0.013126596277824741//0...</td>\n",
       "      <td>[0.0008710120358558479, 0.013126596277824741, ...</td>\n",
       "      <td>-0.913500</td>\n",
       "      <td>0.988801</td>\n",
       "      <td>0.268014</td>\n",
       "      <td>0.532349</td>\n",
       "      <td>-0.076259</td>\n",
       "      <td>0.179793</td>\n",
       "      <td>-0.473652</td>\n",
       "      <td>-0.320469</td>\n",
       "      <td>RPS</td>\n",
       "    </tr>\n",
       "    <tr>\n",
       "      <th>3</th>\n",
       "      <td>AMD//AMP//AMT//AVB//CBOE//CCI//CCL//CDNS//CHK/...</td>\n",
       "      <td>0.0010316449973071405//0.011522261448434084//0...</td>\n",
       "      <td>[0.0010316449973071405, 0.011522261448434084, ...</td>\n",
       "      <td>-0.887375</td>\n",
       "      <td>0.973326</td>\n",
       "      <td>0.226637</td>\n",
       "      <td>0.479337</td>\n",
       "      <td>0.098860</td>\n",
       "      <td>0.163589</td>\n",
       "      <td>0.549915</td>\n",
       "      <td>0.423494</td>\n",
       "      <td>RPS</td>\n",
       "    </tr>\n",
       "    <tr>\n",
       "      <th>4</th>\n",
       "      <td>AEE//AFL//AIZ//AJG//ALLE//AON//APA//CB//CERN//...</td>\n",
       "      <td>0.013953457135237879//0.026258508082300378//0....</td>\n",
       "      <td>[0.013953457135237879, 0.026258508082300378, 0...</td>\n",
       "      <td>-0.891166</td>\n",
       "      <td>0.988801</td>\n",
       "      <td>0.310216</td>\n",
       "      <td>0.532241</td>\n",
       "      <td>-0.143482</td>\n",
       "      <td>0.194582</td>\n",
       "      <td>-0.783125</td>\n",
       "      <td>-0.606052</td>\n",
       "      <td>RPS</td>\n",
       "    </tr>\n",
       "    <tr>\n",
       "      <th>...</th>\n",
       "      <td>...</td>\n",
       "      <td>...</td>\n",
       "      <td>...</td>\n",
       "      <td>...</td>\n",
       "      <td>...</td>\n",
       "      <td>...</td>\n",
       "      <td>...</td>\n",
       "      <td>...</td>\n",
       "      <td>...</td>\n",
       "      <td>...</td>\n",
       "      <td>...</td>\n",
       "      <td>...</td>\n",
       "    </tr>\n",
       "    <tr>\n",
       "      <th>95</th>\n",
       "      <td>APA//BK//FL//GPS//HP//IP//KSS//MO//NTAP//PVH//...</td>\n",
       "      <td>0.014808266222070003//0.0873085054883192//0.00...</td>\n",
       "      <td>[0.014808266222070003, 0.0873085054883192, 0.0...</td>\n",
       "      <td>-0.420141</td>\n",
       "      <td>0.961327</td>\n",
       "      <td>0.573202</td>\n",
       "      <td>0.315372</td>\n",
       "      <td>-0.822351</td>\n",
       "      <td>0.294948</td>\n",
       "      <td>-2.818301</td>\n",
       "      <td>-3.490105</td>\n",
       "      <td>RND</td>\n",
       "    </tr>\n",
       "    <tr>\n",
       "      <th>96</th>\n",
       "      <td>BBY//FTI//IBM//KLAC//MU//NKE//OKE//PKG//PSX//T...</td>\n",
       "      <td>0.021647580012108945//0.016989115681116752//0....</td>\n",
       "      <td>[0.021647580012108945, 0.016989115681116752, 0...</td>\n",
       "      <td>-0.417240</td>\n",
       "      <td>0.923533</td>\n",
       "      <td>0.231003</td>\n",
       "      <td>0.334080</td>\n",
       "      <td>-1.080420</td>\n",
       "      <td>0.459199</td>\n",
       "      <td>-2.372216</td>\n",
       "      <td>-4.586463</td>\n",
       "      <td>RND</td>\n",
       "    </tr>\n",
       "    <tr>\n",
       "      <th>97</th>\n",
       "      <td>AEP//AMT//ARE//AWK//CBOE//CCI//CME//ES//EXR//P...</td>\n",
       "      <td>0.07548714946062356//0.06642792011139156//0.31...</td>\n",
       "      <td>[0.07548714946062356, 0.06642792011139156, 0.3...</td>\n",
       "      <td>-0.652874</td>\n",
       "      <td>0.975450</td>\n",
       "      <td>0.581358</td>\n",
       "      <td>0.519868</td>\n",
       "      <td>0.541221</td>\n",
       "      <td>0.143916</td>\n",
       "      <td>3.698830</td>\n",
       "      <td>2.302783</td>\n",
       "      <td>RND</td>\n",
       "    </tr>\n",
       "    <tr>\n",
       "      <th>98</th>\n",
       "      <td>BAX//BDX//BIIB//CMG//CVX//EW//HOLX//KIM</td>\n",
       "      <td>0.061644679600744136//0.07243377972142113//0.2...</td>\n",
       "      <td>[0.061644679600744136, 0.07243377972142113, 0....</td>\n",
       "      <td>-0.709507</td>\n",
       "      <td>0.870536</td>\n",
       "      <td>0.259096</td>\n",
       "      <td>0.485955</td>\n",
       "      <td>-0.393144</td>\n",
       "      <td>0.212024</td>\n",
       "      <td>-1.896219</td>\n",
       "      <td>-1.666696</td>\n",
       "      <td>RND</td>\n",
       "    </tr>\n",
       "    <tr>\n",
       "      <th>99</th>\n",
       "      <td>AMP//DIS//FLIR//HON//LMT//MTB//OMC//TEL</td>\n",
       "      <td>0.15588299577864578//0.030236950610301322//0.0...</td>\n",
       "      <td>[0.15588299577864578, 0.030236950610301322, 0....</td>\n",
       "      <td>-0.597734</td>\n",
       "      <td>0.881023</td>\n",
       "      <td>0.360484</td>\n",
       "      <td>0.397267</td>\n",
       "      <td>-0.420870</td>\n",
       "      <td>0.270475</td>\n",
       "      <td>-1.588944</td>\n",
       "      <td>-1.784484</td>\n",
       "      <td>RND</td>\n",
       "    </tr>\n",
       "  </tbody>\n",
       "</table>\n",
       "<p>100 rows × 12 columns</p>\n",
       "</div>"
      ],
      "text/plain": [
       "                                               stocks  \\\n",
       "0   AAL//AAPL//ADBE//ADI//ADM//ADSK//AES//AGN//ALG...   \n",
       "1                                              BHF//O   \n",
       "2   ABC//AEE//AEP//AFL//AIG//AIZ//AJG//ALLE//AMD//...   \n",
       "3   AMD//AMP//AMT//AVB//CBOE//CCI//CCL//CDNS//CHK/...   \n",
       "4   AEE//AFL//AIZ//AJG//ALLE//AON//APA//CB//CERN//...   \n",
       "..                                                ...   \n",
       "95  APA//BK//FL//GPS//HP//IP//KSS//MO//NTAP//PVH//...   \n",
       "96  BBY//FTI//IBM//KLAC//MU//NKE//OKE//PKG//PSX//T...   \n",
       "97  AEP//AMT//ARE//AWK//CBOE//CCI//CME//ES//EXR//P...   \n",
       "98            BAX//BDX//BIIB//CMG//CVX//EW//HOLX//KIM   \n",
       "99            AMP//DIS//FLIR//HON//LMT//MTB//OMC//TEL   \n",
       "\n",
       "                                              weights  \\\n",
       "0   0.002122786795078598//0.0011557268724594928//0...   \n",
       "1              0.2195418568343619//0.7804581431656381   \n",
       "2   0.0008710120358558479//0.013126596277824741//0...   \n",
       "3   0.0010316449973071405//0.011522261448434084//0...   \n",
       "4   0.013953457135237879//0.026258508082300378//0....   \n",
       "..                                                ...   \n",
       "95  0.014808266222070003//0.0873085054883192//0.00...   \n",
       "96  0.021647580012108945//0.016989115681116752//0....   \n",
       "97  0.07548714946062356//0.06642792011139156//0.31...   \n",
       "98  0.061644679600744136//0.07243377972142113//0.2...   \n",
       "99  0.15588299577864578//0.030236950610301322//0.0...   \n",
       "\n",
       "                                             corr_min  corr_max  corr_mean  \\\n",
       "0   [0.002122786795078598, 0.0011557268724594928, ... -0.894065   0.997909   \n",
       "1            [0.2195418568343619, 0.7804581431656381]  0.194589   0.194589   \n",
       "2   [0.0008710120358558479, 0.013126596277824741, ... -0.913500   0.988801   \n",
       "3   [0.0010316449973071405, 0.011522261448434084, ... -0.887375   0.973326   \n",
       "4   [0.013953457135237879, 0.026258508082300378, 0... -0.891166   0.988801   \n",
       "..                                                ...       ...        ...   \n",
       "95  [0.014808266222070003, 0.0873085054883192, 0.0... -0.420141   0.961327   \n",
       "96  [0.021647580012108945, 0.016989115681116752, 0... -0.417240   0.923533   \n",
       "97  [0.07548714946062356, 0.06642792011139156, 0.3... -0.652874   0.975450   \n",
       "98  [0.061644679600744136, 0.07243377972142113, 0.... -0.709507   0.870536   \n",
       "99  [0.15588299577864578, 0.030236950610301322, 0.... -0.597734   0.881023   \n",
       "\n",
       "    corr_std    return     sigma    sharpe  information  modigliani method  \n",
       "0   0.300443  0.472340 -0.054390  0.201582    -0.313968   -0.227563    RPS  \n",
       "1   0.194589  0.000000  0.595137  0.171413     3.420034    2.531836    RPS  \n",
       "2   0.268014  0.532349 -0.076259  0.179793    -0.473652   -0.320469    RPS  \n",
       "3   0.226637  0.479337  0.098860  0.163589     0.549915    0.423494    RPS  \n",
       "4   0.310216  0.532241 -0.143482  0.194582    -0.783125   -0.606052    RPS  \n",
       "..       ...       ...       ...       ...          ...         ...    ...  \n",
       "95  0.573202  0.315372 -0.822351  0.294948    -2.818301   -3.490105    RND  \n",
       "96  0.231003  0.334080 -1.080420  0.459199    -2.372216   -4.586463    RND  \n",
       "97  0.581358  0.519868  0.541221  0.143916     3.698830    2.302783    RND  \n",
       "98  0.259096  0.485955 -0.393144  0.212024    -1.896219   -1.666696    RND  \n",
       "99  0.360484  0.397267 -0.420870  0.270475    -1.588944   -1.784484    RND  \n",
       "\n",
       "[100 rows x 12 columns]"
      ]
     },
     "execution_count": 15,
     "metadata": {},
     "output_type": "execute_result"
    }
   ],
   "source": [
    "merged"
   ]
  },
  {
   "cell_type": "code",
   "execution_count": 16,
   "id": "6a7f34c6",
   "metadata": {
    "ExecuteTime": {
     "end_time": "2021-09-21T15:03:52.628889Z",
     "start_time": "2021-09-21T15:03:52.614792Z"
    }
   },
   "outputs": [],
   "source": [
    "import matplotlib.pyplot as plt\n",
    "import seaborn as sns\n",
    "%matplotlib inline\n",
    "sns.set()"
   ]
  },
  {
   "cell_type": "code",
   "execution_count": 17,
   "id": "6b158c0c",
   "metadata": {
    "ExecuteTime": {
     "end_time": "2021-09-21T15:03:53.659791Z",
     "start_time": "2021-09-21T15:03:53.290436Z"
    }
   },
   "outputs": [
    {
     "data": {
      "text/plain": [
       "<seaborn.axisgrid.FacetGrid at 0x1295d9fd0>"
      ]
     },
     "execution_count": 17,
     "metadata": {},
     "output_type": "execute_result"
    },
    {
     "data": {
      "image/png": "[encoded data removed]",
      "text/plain": [
       "<Figure size 424.225x360 with 1 Axes>"
      ]
     },
     "metadata": {},
     "output_type": "display_data"
    }
   ],
   "source": [
    "sns.relplot(\n",
    "    data=merged.sort_values('method', ascending=False),\n",
    "    x='sigma', y='return', hue='method', style='method',\n",
    ")"
   ]
  },
  {
   "cell_type": "code",
   "execution_count": 19,
   "id": "4dbee380",
   "metadata": {
    "ExecuteTime": {
     "end_time": "2021-09-21T15:04:05.271111Z",
     "start_time": "2021-09-21T15:04:05.252362Z"
    },
    "scrolled": false
   },
   "outputs": [
    {
     "data": {
      "text/html": [
       "<div>\n",
       "<style scoped>\n",
       "    .dataframe tbody tr th:only-of-type {\n",
       "        vertical-align: middle;\n",
       "    }\n",
       "\n",
       "    .dataframe tbody tr th {\n",
       "        vertical-align: top;\n",
       "    }\n",
       "\n",
       "    .dataframe thead th {\n",
       "        text-align: right;\n",
       "    }\n",
       "</style>\n",
       "<table border=\"1\" class=\"dataframe\">\n",
       "  <thead>\n",
       "    <tr style=\"text-align: right;\">\n",
       "      <th></th>\n",
       "      <th>stocks</th>\n",
       "      <th>weights</th>\n",
       "      <th>corr_min</th>\n",
       "      <th>corr_max</th>\n",
       "      <th>corr_mean</th>\n",
       "      <th>corr_std</th>\n",
       "      <th>return</th>\n",
       "      <th>sigma</th>\n",
       "      <th>sharpe</th>\n",
       "      <th>information</th>\n",
       "      <th>modigliani</th>\n",
       "      <th>method</th>\n",
       "    </tr>\n",
       "  </thead>\n",
       "  <tbody>\n",
       "    <tr>\n",
       "      <th>20</th>\n",
       "      <td>ANSS//IVZ//SHW</td>\n",
       "      <td>0.1415112477243809//0.6864146751596378//0.1720...</td>\n",
       "      <td>[0.1415112477243809, 0.6864146751596378, 0.172...</td>\n",
       "      <td>-0.609094</td>\n",
       "      <td>0.762318</td>\n",
       "      <td>-0.138979</td>\n",
       "      <td>0.698359</td>\n",
       "      <td>-0.879379</td>\n",
       "      <td>0.301853</td>\n",
       "      <td>-2.942751</td>\n",
       "      <td>-3.732379</td>\n",
       "      <td>RPS</td>\n",
       "    </tr>\n",
       "    <tr>\n",
       "      <th>87</th>\n",
       "      <td>CHD//CL//COF//CTAS//DFS//FIS//GPN//HAS//HSY//I...</td>\n",
       "      <td>0.3054268918726297//0.08261379585903017//0.123...</td>\n",
       "      <td>[0.3054268918726297, 0.08261379585903017, 0.12...</td>\n",
       "      <td>-0.861804</td>\n",
       "      <td>0.949584</td>\n",
       "      <td>0.235134</td>\n",
       "      <td>0.600011</td>\n",
       "      <td>0.103415</td>\n",
       "      <td>0.189197</td>\n",
       "      <td>0.499561</td>\n",
       "      <td>0.442845</td>\n",
       "      <td>RND</td>\n",
       "    </tr>\n",
       "    <tr>\n",
       "      <th>41</th>\n",
       "      <td>CHD//CL//COF//CTAS//DFS//FIS//GPN//HAS//HSY//I...</td>\n",
       "      <td>0.3054268918726297//0.08261379585903017//0.123...</td>\n",
       "      <td>[0.3054268918726297, 0.08261379585903017, 0.12...</td>\n",
       "      <td>-0.861804</td>\n",
       "      <td>0.949584</td>\n",
       "      <td>0.235134</td>\n",
       "      <td>0.600011</td>\n",
       "      <td>0.103415</td>\n",
       "      <td>0.189197</td>\n",
       "      <td>0.499561</td>\n",
       "      <td>0.442845</td>\n",
       "      <td>MTG</td>\n",
       "    </tr>\n",
       "    <tr>\n",
       "      <th>70</th>\n",
       "      <td>AIG//AKAM//AMAT//ARNC//BLL//CF//CINF//DFS//DHI...</td>\n",
       "      <td>0.07622608489221384//0.0771601187175176//0.096...</td>\n",
       "      <td>[0.07622608489221384, 0.0771601187175176, 0.09...</td>\n",
       "      <td>-0.847958</td>\n",
       "      <td>0.958378</td>\n",
       "      <td>0.183258</td>\n",
       "      <td>0.571742</td>\n",
       "      <td>-0.046499</td>\n",
       "      <td>0.247385</td>\n",
       "      <td>-0.223939</td>\n",
       "      <td>-0.194039</td>\n",
       "      <td>SA</td>\n",
       "    </tr>\n",
       "    <tr>\n",
       "      <th>2</th>\n",
       "      <td>ABC//AEE//AEP//AFL//AIG//AIZ//AJG//ALLE//AMD//...</td>\n",
       "      <td>0.0008710120358558479//0.013126596277824741//0...</td>\n",
       "      <td>[0.0008710120358558479, 0.013126596277824741, ...</td>\n",
       "      <td>-0.913500</td>\n",
       "      <td>0.988801</td>\n",
       "      <td>0.268014</td>\n",
       "      <td>0.532349</td>\n",
       "      <td>-0.076259</td>\n",
       "      <td>0.179793</td>\n",
       "      <td>-0.473652</td>\n",
       "      <td>-0.320469</td>\n",
       "      <td>RPS</td>\n",
       "    </tr>\n",
       "    <tr>\n",
       "      <th>...</th>\n",
       "      <td>...</td>\n",
       "      <td>...</td>\n",
       "      <td>...</td>\n",
       "      <td>...</td>\n",
       "      <td>...</td>\n",
       "      <td>...</td>\n",
       "      <td>...</td>\n",
       "      <td>...</td>\n",
       "      <td>...</td>\n",
       "      <td>...</td>\n",
       "      <td>...</td>\n",
       "      <td>...</td>\n",
       "    </tr>\n",
       "    <tr>\n",
       "      <th>24</th>\n",
       "      <td>CAG//WAT</td>\n",
       "      <td>0.7257474711589507//0.27425252884104934</td>\n",
       "      <td>[0.7257474711589507, 0.27425252884104934]</td>\n",
       "      <td>0.071136</td>\n",
       "      <td>0.071136</td>\n",
       "      <td>0.071136</td>\n",
       "      <td>0.000000</td>\n",
       "      <td>0.116027</td>\n",
       "      <td>0.281148</td>\n",
       "      <td>0.381035</td>\n",
       "      <td>0.496424</td>\n",
       "      <td>RPS</td>\n",
       "    </tr>\n",
       "    <tr>\n",
       "      <th>27</th>\n",
       "      <td>HON//ZION</td>\n",
       "      <td>0.6082257864239156//0.39177421357608444</td>\n",
       "      <td>[0.6082257864239156, 0.39177421357608444]</td>\n",
       "      <td>0.670624</td>\n",
       "      <td>0.670624</td>\n",
       "      <td>0.670624</td>\n",
       "      <td>0.000000</td>\n",
       "      <td>-0.287342</td>\n",
       "      <td>0.283206</td>\n",
       "      <td>-1.046033</td>\n",
       "      <td>-1.217218</td>\n",
       "      <td>RPS</td>\n",
       "    </tr>\n",
       "    <tr>\n",
       "      <th>14</th>\n",
       "      <td>KIM//SLG</td>\n",
       "      <td>0.6618972370535956//0.3381027629464044</td>\n",
       "      <td>[0.6618972370535956, 0.3381027629464044]</td>\n",
       "      <td>0.128735</td>\n",
       "      <td>0.128735</td>\n",
       "      <td>0.128735</td>\n",
       "      <td>0.000000</td>\n",
       "      <td>-0.264128</td>\n",
       "      <td>0.182565</td>\n",
       "      <td>-1.495511</td>\n",
       "      <td>-1.118597</td>\n",
       "      <td>RPS</td>\n",
       "    </tr>\n",
       "    <tr>\n",
       "      <th>1</th>\n",
       "      <td>BHF//O</td>\n",
       "      <td>0.2195418568343619//0.7804581431656381</td>\n",
       "      <td>[0.2195418568343619, 0.7804581431656381]</td>\n",
       "      <td>0.194589</td>\n",
       "      <td>0.194589</td>\n",
       "      <td>0.194589</td>\n",
       "      <td>0.000000</td>\n",
       "      <td>0.595137</td>\n",
       "      <td>0.171413</td>\n",
       "      <td>3.420034</td>\n",
       "      <td>2.531836</td>\n",
       "      <td>RPS</td>\n",
       "    </tr>\n",
       "    <tr>\n",
       "      <th>7</th>\n",
       "      <td>MAR//WYNN</td>\n",
       "      <td>0.8302194154859172//0.16978058451408284</td>\n",
       "      <td>[0.8302194154859172, 0.16978058451408284]</td>\n",
       "      <td>0.728157</td>\n",
       "      <td>0.728157</td>\n",
       "      <td>0.728157</td>\n",
       "      <td>0.000000</td>\n",
       "      <td>-0.915280</td>\n",
       "      <td>0.305984</td>\n",
       "      <td>-3.020350</td>\n",
       "      <td>-3.884896</td>\n",
       "      <td>RPS</td>\n",
       "    </tr>\n",
       "  </tbody>\n",
       "</table>\n",
       "<p>100 rows × 12 columns</p>\n",
       "</div>"
      ],
      "text/plain": [
       "                                               stocks  \\\n",
       "20                                     ANSS//IVZ//SHW   \n",
       "87  CHD//CL//COF//CTAS//DFS//FIS//GPN//HAS//HSY//I...   \n",
       "41  CHD//CL//COF//CTAS//DFS//FIS//GPN//HAS//HSY//I...   \n",
       "70  AIG//AKAM//AMAT//ARNC//BLL//CF//CINF//DFS//DHI...   \n",
       "2   ABC//AEE//AEP//AFL//AIG//AIZ//AJG//ALLE//AMD//...   \n",
       "..                                                ...   \n",
       "24                                           CAG//WAT   \n",
       "27                                          HON//ZION   \n",
       "14                                           KIM//SLG   \n",
       "1                                              BHF//O   \n",
       "7                                           MAR//WYNN   \n",
       "\n",
       "                                              weights  \\\n",
       "20  0.1415112477243809//0.6864146751596378//0.1720...   \n",
       "87  0.3054268918726297//0.08261379585903017//0.123...   \n",
       "41  0.3054268918726297//0.08261379585903017//0.123...   \n",
       "70  0.07622608489221384//0.0771601187175176//0.096...   \n",
       "2   0.0008710120358558479//0.013126596277824741//0...   \n",
       "..                                                ...   \n",
       "24            0.7257474711589507//0.27425252884104934   \n",
       "27            0.6082257864239156//0.39177421357608444   \n",
       "14             0.6618972370535956//0.3381027629464044   \n",
       "1              0.2195418568343619//0.7804581431656381   \n",
       "7             0.8302194154859172//0.16978058451408284   \n",
       "\n",
       "                                             corr_min  corr_max  corr_mean  \\\n",
       "20  [0.1415112477243809, 0.6864146751596378, 0.172... -0.609094   0.762318   \n",
       "87  [0.3054268918726297, 0.08261379585903017, 0.12... -0.861804   0.949584   \n",
       "41  [0.3054268918726297, 0.08261379585903017, 0.12... -0.861804   0.949584   \n",
       "70  [0.07622608489221384, 0.0771601187175176, 0.09... -0.847958   0.958378   \n",
       "2   [0.0008710120358558479, 0.013126596277824741, ... -0.913500   0.988801   \n",
       "..                                                ...       ...        ...   \n",
       "24          [0.7257474711589507, 0.27425252884104934]  0.071136   0.071136   \n",
       "27          [0.6082257864239156, 0.39177421357608444]  0.670624   0.670624   \n",
       "14           [0.6618972370535956, 0.3381027629464044]  0.128735   0.128735   \n",
       "1            [0.2195418568343619, 0.7804581431656381]  0.194589   0.194589   \n",
       "7           [0.8302194154859172, 0.16978058451408284]  0.728157   0.728157   \n",
       "\n",
       "    corr_std    return     sigma    sharpe  information  modigliani method  \n",
       "20 -0.138979  0.698359 -0.879379  0.301853    -2.942751   -3.732379    RPS  \n",
       "87  0.235134  0.600011  0.103415  0.189197     0.499561    0.442845    RND  \n",
       "41  0.235134  0.600011  0.103415  0.189197     0.499561    0.442845    MTG  \n",
       "70  0.183258  0.571742 -0.046499  0.247385    -0.223939   -0.194039     SA  \n",
       "2   0.268014  0.532349 -0.076259  0.179793    -0.473652   -0.320469    RPS  \n",
       "..       ...       ...       ...       ...          ...         ...    ...  \n",
       "24  0.071136  0.000000  0.116027  0.281148     0.381035    0.496424    RPS  \n",
       "27  0.670624  0.000000 -0.287342  0.283206    -1.046033   -1.217218    RPS  \n",
       "14  0.128735  0.000000 -0.264128  0.182565    -1.495511   -1.118597    RPS  \n",
       "1   0.194589  0.000000  0.595137  0.171413     3.420034    2.531836    RPS  \n",
       "7   0.728157  0.000000 -0.915280  0.305984    -3.020350   -3.884896    RPS  \n",
       "\n",
       "[100 rows x 12 columns]"
      ]
     },
     "execution_count": 19,
     "metadata": {},
     "output_type": "execute_result"
    }
   ],
   "source": [
    "merged.sort_values('return', ascending=False)"
   ]
  },
  {
   "cell_type": "code",
   "execution_count": 20,
   "id": "d42ea373",
   "metadata": {
    "ExecuteTime": {
     "end_time": "2021-09-21T09:43:05.137451Z",
     "start_time": "2021-09-21T09:43:05.128595Z"
    }
   },
   "outputs": [],
   "source": [
    "before_mtg = pd.read_csv('../exp/Mantegna/Mantegna_sp500_2021-Sep-21-13-38-58/mantegna_results.csv')\n",
    "before_rps = pd.read_csv('../exp/RPS/RPS_sp500_2021-Sep-19-11-41-05/results.csv')"
   ]
  },
  {
   "cell_type": "code",
   "execution_count": 29,
   "id": "aec9068a",
   "metadata": {
    "ExecuteTime": {
     "end_time": "2021-09-21T09:47:13.668542Z",
     "start_time": "2021-09-21T09:47:13.664956Z"
    }
   },
   "outputs": [],
   "source": [
    "before_mtg['new_return'] = mtg['return']\n",
    "before_mtg['new_sigma'] = mtg['sigma']\n",
    "before_mtg['new_sharpe'] = mtg['sharpe']"
   ]
  },
  {
   "cell_type": "code",
   "execution_count": 30,
   "id": "4d5713d2",
   "metadata": {
    "ExecuteTime": {
     "end_time": "2021-09-21T09:47:13.818427Z",
     "start_time": "2021-09-21T09:47:13.815012Z"
    }
   },
   "outputs": [],
   "source": [
    "before_rps['new_return'] = rps['return']\n",
    "before_rps['new_sigma'] = rps['sigma']\n",
    "before_rps['new_sharpe'] = rps['sharpe']"
   ]
  },
  {
   "cell_type": "code",
   "execution_count": 42,
   "id": "c34ddb8d",
   "metadata": {
    "ExecuteTime": {
     "end_time": "2021-09-21T09:53:55.793104Z",
     "start_time": "2021-09-21T09:53:55.532052Z"
    }
   },
   "outputs": [
    {
     "data": {
      "text/plain": [
       "<AxesSubplot:xlabel='return', ylabel='new_return'>"
      ]
     },
     "execution_count": 42,
     "metadata": {},
     "output_type": "execute_result"
    },
    {
     "data": {
      "image/png": "[encoded data removed]",
      "text/plain": [
       "<Figure size 432x288 with 1 Axes>"
      ]
     },
     "metadata": {},
     "output_type": "display_data"
    }
   ],
   "source": [
    "sns.regplot(data=before_rps, x=\"return\", y=\"new_return\")"
   ]
  },
  {
   "cell_type": "code",
   "execution_count": 43,
   "id": "4d724ab5",
   "metadata": {
    "ExecuteTime": {
     "end_time": "2021-09-21T09:53:56.159958Z",
     "start_time": "2021-09-21T09:53:55.901192Z"
    }
   },
   "outputs": [
    {
     "data": {
      "text/plain": [
       "<AxesSubplot:xlabel='return', ylabel='new_return'>"
      ]
     },
     "execution_count": 43,
     "metadata": {},
     "output_type": "execute_result"
    },
    {
     "data": {
      "image/png": "[encoded data removed]",
      "text/plain": [
       "<Figure size 432x288 with 1 Axes>"
      ]
     },
     "metadata": {},
     "output_type": "display_data"
    }
   ],
   "source": [
    "sns.regplot(data=before_mtg, x=\"return\", y=\"new_return\")"
   ]
  },
  {
   "cell_type": "code",
   "execution_count": 40,
   "id": "db4ba198",
   "metadata": {
    "ExecuteTime": {
     "end_time": "2021-09-21T09:53:29.562110Z",
     "start_time": "2021-09-21T09:53:29.445188Z"
    }
   },
   "outputs": [
    {
     "data": {
      "image/png": "[encoded data removed]",
      "text/plain": [
       "<Figure size 432x288 with 1 Axes>"
      ]
     },
     "metadata": {},
     "output_type": "display_data"
    }
   ],
   "source": [
    "ax = sns.boxplot(x='method', y='sigma', data=merged)\n",
    "r = plt.setp(ax.get_xticklabels(), rotation=90)"
   ]
  },
  {
   "cell_type": "code",
   "execution_count": null,
   "id": "2b527424",
   "metadata": {},
   "outputs": [],
   "source": []
  }
 ],
 "metadata": {
  "kernelspec": {
   "display_name": "Python 3 (ipykernel)",
   "language": "python",
   "name": "python3"
  },
  "language_info": {
   "codemirror_mode": {
    "name": "ipython",
    "version": 3
   },
   "file_extension": ".py",
   "mimetype": "text/x-python",
   "name": "python",
   "nbconvert_exporter": "python",
   "pygments_lexer": "ipython3",
   "version": "3.8.2"
  },
  "toc": {
   "base_numbering": 1,
   "nav_menu": {},
   "number_sections": true,
   "sideBar": true,
   "skip_h1_title": false,
   "title_cell": "Table of Contents",
   "title_sidebar": "Contents",
   "toc_cell": false,
   "toc_position": {},
   "toc_section_display": true,
   "toc_window_display": false
  },
  "varInspector": {
   "cols": {
    "lenName": 16,
    "lenType": 16,
    "lenVar": 40
   },
   "kernels_config": {
    "python": {
     "delete_cmd_postfix": "",
     "delete_cmd_prefix": "del ",
     "library": "var_list.py",
     "varRefreshCmd": "print(var_dic_list())"
    },
    "r": {
     "delete_cmd_postfix": ") ",
     "delete_cmd_prefix": "rm(",
     "library": "var_list.r",
     "varRefreshCmd": "cat(var_dic_list()) "
    }
   },
   "types_to_exclude": [
    "module",
    "function",
    "builtin_function_or_method",
    "instance",
    "_Feature"
   ],
   "window_display": false
  }
 },
 "nbformat": 4,
 "nbformat_minor": 5
}
