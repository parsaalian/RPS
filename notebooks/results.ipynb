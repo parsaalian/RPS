{
 "cells": [
  {
   "cell_type": "code",
   "execution_count": 1,
   "id": "01c7eae1",
   "metadata": {
    "ExecuteTime": {
     "end_time": "2021-09-21T14:34:54.642598Z",
     "start_time": "2021-09-21T14:34:54.639599Z"
    }
   },
   "outputs": [],
   "source": [
    "import os\n",
    "import sys\n",
    "module_path = os.path.abspath(os.path.join('..'))\n",
    "if module_path not in sys.path:\n",
    "    sys.path.append(module_path)"
   ]
  },
  {
   "cell_type": "code",
   "execution_count": 2,
   "id": "23f77875",
   "metadata": {
    "ExecuteTime": {
     "end_time": "2021-09-21T14:35:15.550670Z",
     "start_time": "2021-09-21T14:35:15.364986Z"
    }
   },
   "outputs": [],
   "source": [
    "import numpy as np\n",
    "import pandas as pd"
   ]
  },
  {
   "cell_type": "code",
   "execution_count": 3,
   "id": "b4871a03",
   "metadata": {
    "ExecuteTime": {
     "end_time": "2021-09-21T14:35:16.087453Z",
     "start_time": "2021-09-21T14:35:16.075957Z"
    }
   },
   "outputs": [],
   "source": [
    "rps = pd.read_csv('../exp/RPS/RPS_sp500_2021-Sep-21-13-49-00/future_performances.csv')\n",
    "mtg = pd.read_csv('../exp/Mantegna/Mantegna_sp500_2021-Sep-21-13-45-34/future_performances.csv')\n",
    "sa = pd.read_csv('../exp/SA/SA_sp500_2021-Sep-21-19-02-32/future_performance.csv')"
   ]
  },
  {
   "cell_type": "code",
   "execution_count": 4,
   "id": "4849d4e9",
   "metadata": {
    "ExecuteTime": {
     "end_time": "2021-09-21T14:35:16.872020Z",
     "start_time": "2021-09-21T14:35:16.868093Z"
    }
   },
   "outputs": [],
   "source": [
    "rps['method'] = 'RPS'\n",
    "mtg['method'] = 'MTG'\n",
    "sa['method'] = 'SA'"
   ]
  },
  {
   "cell_type": "code",
   "execution_count": 5,
   "id": "871d9111",
   "metadata": {
    "ExecuteTime": {
     "end_time": "2021-09-21T14:35:18.313612Z",
     "start_time": "2021-09-21T14:35:18.308516Z"
    }
   },
   "outputs": [],
   "source": [
    "merged = rps.append(mtg).append(sa).reset_index(drop=True)"
   ]
  },
  {
   "cell_type": "code",
   "execution_count": 6,
   "id": "7e8f1b37",
   "metadata": {
    "ExecuteTime": {
     "end_time": "2021-09-21T14:35:19.047418Z",
     "start_time": "2021-09-21T14:35:19.022039Z"
    }
   },
   "outputs": [
    {
     "data": {
      "text/html": [
       "<div>\n",
       "<style scoped>\n",
       "    .dataframe tbody tr th:only-of-type {\n",
       "        vertical-align: middle;\n",
       "    }\n",
       "\n",
       "    .dataframe tbody tr th {\n",
       "        vertical-align: top;\n",
       "    }\n",
       "\n",
       "    .dataframe thead th {\n",
       "        text-align: right;\n",
       "    }\n",
       "</style>\n",
       "<table border=\"1\" class=\"dataframe\">\n",
       "  <thead>\n",
       "    <tr style=\"text-align: right;\">\n",
       "      <th></th>\n",
       "      <th>stocks</th>\n",
       "      <th>weights</th>\n",
       "      <th>corr_min</th>\n",
       "      <th>corr_max</th>\n",
       "      <th>corr_mean</th>\n",
       "      <th>corr_std</th>\n",
       "      <th>return</th>\n",
       "      <th>sigma</th>\n",
       "      <th>sharpe</th>\n",
       "      <th>information</th>\n",
       "      <th>modigliani</th>\n",
       "      <th>method</th>\n",
       "    </tr>\n",
       "  </thead>\n",
       "  <tbody>\n",
       "    <tr>\n",
       "      <th>0</th>\n",
       "      <td>AAL//AAPL//ADBE//ADI//ADM//ADSK//AES//AGN//ALG...</td>\n",
       "      <td>0.002122786795078598//0.0011557268724594928//0...</td>\n",
       "      <td>[0.002122786795078598, 0.0011557268724594928, ...</td>\n",
       "      <td>-0.894065</td>\n",
       "      <td>0.997909</td>\n",
       "      <td>0.300443</td>\n",
       "      <td>0.472340</td>\n",
       "      <td>-0.054390</td>\n",
       "      <td>0.201582</td>\n",
       "      <td>-0.313968</td>\n",
       "      <td>-0.227563</td>\n",
       "      <td>RPS</td>\n",
       "    </tr>\n",
       "    <tr>\n",
       "      <th>1</th>\n",
       "      <td>BHF//O</td>\n",
       "      <td>0.2195418568343619//0.7804581431656381</td>\n",
       "      <td>[0.2195418568343619, 0.7804581431656381]</td>\n",
       "      <td>0.194589</td>\n",
       "      <td>0.194589</td>\n",
       "      <td>0.194589</td>\n",
       "      <td>0.000000</td>\n",
       "      <td>0.595137</td>\n",
       "      <td>0.171413</td>\n",
       "      <td>3.420034</td>\n",
       "      <td>2.531836</td>\n",
       "      <td>RPS</td>\n",
       "    </tr>\n",
       "    <tr>\n",
       "      <th>2</th>\n",
       "      <td>ABC//AEE//AEP//AFL//AIG//AIZ//AJG//ALLE//AMD//...</td>\n",
       "      <td>0.0008710120358558479//0.013126596277824741//0...</td>\n",
       "      <td>[0.0008710120358558479, 0.013126596277824741, ...</td>\n",
       "      <td>-0.913500</td>\n",
       "      <td>0.988801</td>\n",
       "      <td>0.268014</td>\n",
       "      <td>0.532349</td>\n",
       "      <td>-0.076259</td>\n",
       "      <td>0.179793</td>\n",
       "      <td>-0.473652</td>\n",
       "      <td>-0.320469</td>\n",
       "      <td>RPS</td>\n",
       "    </tr>\n",
       "    <tr>\n",
       "      <th>3</th>\n",
       "      <td>AMD//AMP//AMT//AVB//CBOE//CCI//CCL//CDNS//CHK/...</td>\n",
       "      <td>0.0010316449973071405//0.011522261448434084//0...</td>\n",
       "      <td>[0.0010316449973071405, 0.011522261448434084, ...</td>\n",
       "      <td>-0.887375</td>\n",
       "      <td>0.973326</td>\n",
       "      <td>0.226637</td>\n",
       "      <td>0.479337</td>\n",
       "      <td>0.098860</td>\n",
       "      <td>0.163589</td>\n",
       "      <td>0.549915</td>\n",
       "      <td>0.423494</td>\n",
       "      <td>RPS</td>\n",
       "    </tr>\n",
       "    <tr>\n",
       "      <th>4</th>\n",
       "      <td>AEE//AFL//AIZ//AJG//ALLE//AON//APA//CB//CERN//...</td>\n",
       "      <td>0.013953457135237879//0.026258508082300378//0....</td>\n",
       "      <td>[0.013953457135237879, 0.026258508082300378, 0...</td>\n",
       "      <td>-0.891166</td>\n",
       "      <td>0.988801</td>\n",
       "      <td>0.310216</td>\n",
       "      <td>0.532241</td>\n",
       "      <td>-0.143482</td>\n",
       "      <td>0.194582</td>\n",
       "      <td>-0.783125</td>\n",
       "      <td>-0.606052</td>\n",
       "      <td>RPS</td>\n",
       "    </tr>\n",
       "    <tr>\n",
       "      <th>...</th>\n",
       "      <td>...</td>\n",
       "      <td>...</td>\n",
       "      <td>...</td>\n",
       "      <td>...</td>\n",
       "      <td>...</td>\n",
       "      <td>...</td>\n",
       "      <td>...</td>\n",
       "      <td>...</td>\n",
       "      <td>...</td>\n",
       "      <td>...</td>\n",
       "      <td>...</td>\n",
       "      <td>...</td>\n",
       "    </tr>\n",
       "    <tr>\n",
       "      <th>69</th>\n",
       "      <td>AMD//BLL//CERN//CF//DFS//DHI//EIX//FE//FTI//HA...</td>\n",
       "      <td>0.008042460657093468//0.07342258021719329//0.0...</td>\n",
       "      <td>[0.008042460657093468, 0.07342258021719329, 0....</td>\n",
       "      <td>-0.703876</td>\n",
       "      <td>0.949222</td>\n",
       "      <td>0.231390</td>\n",
       "      <td>0.465830</td>\n",
       "      <td>0.043087</td>\n",
       "      <td>0.208292</td>\n",
       "      <td>0.164130</td>\n",
       "      <td>0.186551</td>\n",
       "      <td>SA</td>\n",
       "    </tr>\n",
       "    <tr>\n",
       "      <th>70</th>\n",
       "      <td>AIG//AKAM//AMAT//ARNC//BLL//CF//CINF//DFS//DHI...</td>\n",
       "      <td>0.07622608489221384//0.0771601187175176//0.096...</td>\n",
       "      <td>[0.07622608489221384, 0.0771601187175176, 0.09...</td>\n",
       "      <td>-0.847958</td>\n",
       "      <td>0.958378</td>\n",
       "      <td>0.183258</td>\n",
       "      <td>0.571742</td>\n",
       "      <td>-0.046499</td>\n",
       "      <td>0.247385</td>\n",
       "      <td>-0.223939</td>\n",
       "      <td>-0.194039</td>\n",
       "      <td>SA</td>\n",
       "    </tr>\n",
       "    <tr>\n",
       "      <th>71</th>\n",
       "      <td>AIG//AKAM//ALGN//AMAT//ARNC//BLL//CBOE//CF//EI...</td>\n",
       "      <td>0.034673501065408965//0.04775871534391059//0.0...</td>\n",
       "      <td>[0.034673501065408965, 0.04775871534391059, 0....</td>\n",
       "      <td>-0.812287</td>\n",
       "      <td>0.937458</td>\n",
       "      <td>0.191886</td>\n",
       "      <td>0.420247</td>\n",
       "      <td>-0.096383</td>\n",
       "      <td>0.219927</td>\n",
       "      <td>-0.478715</td>\n",
       "      <td>-0.405960</td>\n",
       "      <td>SA</td>\n",
       "    </tr>\n",
       "    <tr>\n",
       "      <th>72</th>\n",
       "      <td>AIG//AMAT//AMD//ATVI//BLL//BSX//CERN//CF//CPB/...</td>\n",
       "      <td>0.037968316062897293//0.03005582848005354//0.0...</td>\n",
       "      <td>[0.037968316062897293, 0.03005582848005354, 0....</td>\n",
       "      <td>-0.743967</td>\n",
       "      <td>0.935386</td>\n",
       "      <td>0.216891</td>\n",
       "      <td>0.425922</td>\n",
       "      <td>0.007522</td>\n",
       "      <td>0.270901</td>\n",
       "      <td>-0.005086</td>\n",
       "      <td>0.035460</td>\n",
       "      <td>SA</td>\n",
       "    </tr>\n",
       "    <tr>\n",
       "      <th>73</th>\n",
       "      <td>ABC//AIG//AKAM//ALGN//AMAT//BSX//CF//DHI//FISV...</td>\n",
       "      <td>0.018536873980530125//0.014024585845486498//0....</td>\n",
       "      <td>[0.018536873980530125, 0.014024585845486498, 0...</td>\n",
       "      <td>-0.895685</td>\n",
       "      <td>0.978090</td>\n",
       "      <td>0.236407</td>\n",
       "      <td>0.472310</td>\n",
       "      <td>-0.213723</td>\n",
       "      <td>0.229031</td>\n",
       "      <td>-0.972022</td>\n",
       "      <td>-0.904460</td>\n",
       "      <td>SA</td>\n",
       "    </tr>\n",
       "  </tbody>\n",
       "</table>\n",
       "<p>74 rows × 12 columns</p>\n",
       "</div>"
      ],
      "text/plain": [
       "                                               stocks  \\\n",
       "0   AAL//AAPL//ADBE//ADI//ADM//ADSK//AES//AGN//ALG...   \n",
       "1                                              BHF//O   \n",
       "2   ABC//AEE//AEP//AFL//AIG//AIZ//AJG//ALLE//AMD//...   \n",
       "3   AMD//AMP//AMT//AVB//CBOE//CCI//CCL//CDNS//CHK/...   \n",
       "4   AEE//AFL//AIZ//AJG//ALLE//AON//APA//CB//CERN//...   \n",
       "..                                                ...   \n",
       "69  AMD//BLL//CERN//CF//DFS//DHI//EIX//FE//FTI//HA...   \n",
       "70  AIG//AKAM//AMAT//ARNC//BLL//CF//CINF//DFS//DHI...   \n",
       "71  AIG//AKAM//ALGN//AMAT//ARNC//BLL//CBOE//CF//EI...   \n",
       "72  AIG//AMAT//AMD//ATVI//BLL//BSX//CERN//CF//CPB/...   \n",
       "73  ABC//AIG//AKAM//ALGN//AMAT//BSX//CF//DHI//FISV...   \n",
       "\n",
       "                                              weights  \\\n",
       "0   0.002122786795078598//0.0011557268724594928//0...   \n",
       "1              0.2195418568343619//0.7804581431656381   \n",
       "2   0.0008710120358558479//0.013126596277824741//0...   \n",
       "3   0.0010316449973071405//0.011522261448434084//0...   \n",
       "4   0.013953457135237879//0.026258508082300378//0....   \n",
       "..                                                ...   \n",
       "69  0.008042460657093468//0.07342258021719329//0.0...   \n",
       "70  0.07622608489221384//0.0771601187175176//0.096...   \n",
       "71  0.034673501065408965//0.04775871534391059//0.0...   \n",
       "72  0.037968316062897293//0.03005582848005354//0.0...   \n",
       "73  0.018536873980530125//0.014024585845486498//0....   \n",
       "\n",
       "                                             corr_min  corr_max  corr_mean  \\\n",
       "0   [0.002122786795078598, 0.0011557268724594928, ... -0.894065   0.997909   \n",
       "1            [0.2195418568343619, 0.7804581431656381]  0.194589   0.194589   \n",
       "2   [0.0008710120358558479, 0.013126596277824741, ... -0.913500   0.988801   \n",
       "3   [0.0010316449973071405, 0.011522261448434084, ... -0.887375   0.973326   \n",
       "4   [0.013953457135237879, 0.026258508082300378, 0... -0.891166   0.988801   \n",
       "..                                                ...       ...        ...   \n",
       "69  [0.008042460657093468, 0.07342258021719329, 0.... -0.703876   0.949222   \n",
       "70  [0.07622608489221384, 0.0771601187175176, 0.09... -0.847958   0.958378   \n",
       "71  [0.034673501065408965, 0.04775871534391059, 0.... -0.812287   0.937458   \n",
       "72  [0.037968316062897293, 0.03005582848005354, 0.... -0.743967   0.935386   \n",
       "73  [0.018536873980530125, 0.014024585845486498, 0... -0.895685   0.978090   \n",
       "\n",
       "    corr_std    return     sigma    sharpe  information  modigliani method  \n",
       "0   0.300443  0.472340 -0.054390  0.201582    -0.313968   -0.227563    RPS  \n",
       "1   0.194589  0.000000  0.595137  0.171413     3.420034    2.531836    RPS  \n",
       "2   0.268014  0.532349 -0.076259  0.179793    -0.473652   -0.320469    RPS  \n",
       "3   0.226637  0.479337  0.098860  0.163589     0.549915    0.423494    RPS  \n",
       "4   0.310216  0.532241 -0.143482  0.194582    -0.783125   -0.606052    RPS  \n",
       "..       ...       ...       ...       ...          ...         ...    ...  \n",
       "69  0.231390  0.465830  0.043087  0.208292     0.164130    0.186551     SA  \n",
       "70  0.183258  0.571742 -0.046499  0.247385    -0.223939   -0.194039     SA  \n",
       "71  0.191886  0.420247 -0.096383  0.219927    -0.478715   -0.405960     SA  \n",
       "72  0.216891  0.425922  0.007522  0.270901    -0.005086    0.035460     SA  \n",
       "73  0.236407  0.472310 -0.213723  0.229031    -0.972022   -0.904460     SA  \n",
       "\n",
       "[74 rows x 12 columns]"
      ]
     },
     "execution_count": 6,
     "metadata": {},
     "output_type": "execute_result"
    }
   ],
   "source": [
    "merged"
   ]
  },
  {
   "cell_type": "code",
   "execution_count": 7,
   "id": "6a7f34c6",
   "metadata": {
    "ExecuteTime": {
     "end_time": "2021-09-21T14:35:26.180886Z",
     "start_time": "2021-09-21T14:35:25.557202Z"
    }
   },
   "outputs": [],
   "source": [
    "import matplotlib.pyplot as plt\n",
    "import seaborn as sns\n",
    "%matplotlib inline\n",
    "sns.set()"
   ]
  },
  {
   "cell_type": "code",
   "execution_count": 8,
   "id": "6b158c0c",
   "metadata": {
    "ExecuteTime": {
     "end_time": "2021-09-21T14:35:26.629129Z",
     "start_time": "2021-09-21T14:35:26.273645Z"
    }
   },
   "outputs": [
    {
     "data": {
      "text/plain": [
       "<seaborn.axisgrid.FacetGrid at 0x13f56ff40>"
      ]
     },
     "execution_count": 8,
     "metadata": {},
     "output_type": "execute_result"
    },
    {
     "data": {
      "image/png": "[encoded data removed]",
      "text/plain": [
       "<Figure size 424.225x360 with 1 Axes>"
      ]
     },
     "metadata": {},
     "output_type": "display_data"
    }
   ],
   "source": [
    "sns.relplot(\n",
    "    data=merged.sort_values('method', ascending=False),\n",
    "    x='sigma', y='return', hue='method', style='method',\n",
    ")"
   ]
  },
  {
   "cell_type": "code",
   "execution_count": 11,
   "id": "4dbee380",
   "metadata": {
    "ExecuteTime": {
     "end_time": "2021-09-21T14:36:00.946810Z",
     "start_time": "2021-09-21T14:36:00.928083Z"
    },
    "scrolled": false
   },
   "outputs": [
    {
     "data": {
      "text/html": [
       "<div>\n",
       "<style scoped>\n",
       "    .dataframe tbody tr th:only-of-type {\n",
       "        vertical-align: middle;\n",
       "    }\n",
       "\n",
       "    .dataframe tbody tr th {\n",
       "        vertical-align: top;\n",
       "    }\n",
       "\n",
       "    .dataframe thead th {\n",
       "        text-align: right;\n",
       "    }\n",
       "</style>\n",
       "<table border=\"1\" class=\"dataframe\">\n",
       "  <thead>\n",
       "    <tr style=\"text-align: right;\">\n",
       "      <th></th>\n",
       "      <th>stocks</th>\n",
       "      <th>weights</th>\n",
       "      <th>corr_min</th>\n",
       "      <th>corr_max</th>\n",
       "      <th>corr_mean</th>\n",
       "      <th>corr_std</th>\n",
       "      <th>return</th>\n",
       "      <th>sigma</th>\n",
       "      <th>sharpe</th>\n",
       "      <th>information</th>\n",
       "      <th>modigliani</th>\n",
       "      <th>method</th>\n",
       "    </tr>\n",
       "  </thead>\n",
       "  <tbody>\n",
       "    <tr>\n",
       "      <th>50</th>\n",
       "      <td>BBY//FTI//IBM//KLAC//MU//NKE//OKE//PKG//PSX//T...</td>\n",
       "      <td>0.021647580012108945//0.016989115681116752//0....</td>\n",
       "      <td>[0.021647580012108945, 0.016989115681116752, 0...</td>\n",
       "      <td>-0.417240</td>\n",
       "      <td>0.923533</td>\n",
       "      <td>0.231003</td>\n",
       "      <td>0.334080</td>\n",
       "      <td>-1.080420</td>\n",
       "      <td>0.459199</td>\n",
       "      <td>-2.372216</td>\n",
       "      <td>-4.586463</td>\n",
       "      <td>MTG</td>\n",
       "    </tr>\n",
       "    <tr>\n",
       "      <th>35</th>\n",
       "      <td>AAP//AMG//CHK//COP//CXO//DVN//EOG//FAST//FTV//...</td>\n",
       "      <td>0.08178651636032039//0.019965512574985977//0.0...</td>\n",
       "      <td>[0.08178651636032039, 0.019965512574985977, 0....</td>\n",
       "      <td>-0.697401</td>\n",
       "      <td>0.964985</td>\n",
       "      <td>0.453273</td>\n",
       "      <td>0.430738</td>\n",
       "      <td>-1.305828</td>\n",
       "      <td>0.370721</td>\n",
       "      <td>-3.546410</td>\n",
       "      <td>-5.544069</td>\n",
       "      <td>MTG</td>\n",
       "    </tr>\n",
       "    <tr>\n",
       "      <th>22</th>\n",
       "      <td>ALXN//MGM//TGT//USB</td>\n",
       "      <td>0.26861377275017667//0.07483973474766589//0.05...</td>\n",
       "      <td>[0.26861377275017667, 0.07483973474766589, 0.0...</td>\n",
       "      <td>-0.421485</td>\n",
       "      <td>0.506941</td>\n",
       "      <td>0.037153</td>\n",
       "      <td>0.358143</td>\n",
       "      <td>-0.498368</td>\n",
       "      <td>0.315572</td>\n",
       "      <td>-1.607452</td>\n",
       "      <td>-2.113721</td>\n",
       "      <td>RPS</td>\n",
       "    </tr>\n",
       "    <tr>\n",
       "      <th>7</th>\n",
       "      <td>MAR//WYNN</td>\n",
       "      <td>0.8302194154859172//0.16978058451408284</td>\n",
       "      <td>[0.8302194154859172, 0.16978058451408284]</td>\n",
       "      <td>0.728157</td>\n",
       "      <td>0.728157</td>\n",
       "      <td>0.728157</td>\n",
       "      <td>0.000000</td>\n",
       "      <td>-0.915280</td>\n",
       "      <td>0.305984</td>\n",
       "      <td>-3.020350</td>\n",
       "      <td>-3.884896</td>\n",
       "      <td>RPS</td>\n",
       "    </tr>\n",
       "    <tr>\n",
       "      <th>20</th>\n",
       "      <td>ANSS//IVZ//SHW</td>\n",
       "      <td>0.1415112477243809//0.6864146751596378//0.1720...</td>\n",
       "      <td>[0.1415112477243809, 0.6864146751596378, 0.172...</td>\n",
       "      <td>-0.609094</td>\n",
       "      <td>0.762318</td>\n",
       "      <td>-0.138979</td>\n",
       "      <td>0.698359</td>\n",
       "      <td>-0.879379</td>\n",
       "      <td>0.301853</td>\n",
       "      <td>-2.942751</td>\n",
       "      <td>-3.732379</td>\n",
       "      <td>RPS</td>\n",
       "    </tr>\n",
       "    <tr>\n",
       "      <th>...</th>\n",
       "      <td>...</td>\n",
       "      <td>...</td>\n",
       "      <td>...</td>\n",
       "      <td>...</td>\n",
       "      <td>...</td>\n",
       "      <td>...</td>\n",
       "      <td>...</td>\n",
       "      <td>...</td>\n",
       "      <td>...</td>\n",
       "      <td>...</td>\n",
       "      <td>...</td>\n",
       "      <td>...</td>\n",
       "    </tr>\n",
       "    <tr>\n",
       "      <th>51</th>\n",
       "      <td>AEP//AMT//ARE//AWK//CBOE//CCI//CME//ES//EXR//P...</td>\n",
       "      <td>0.07548714946062356//0.06642792011139156//0.31...</td>\n",
       "      <td>[0.07548714946062356, 0.06642792011139156, 0.3...</td>\n",
       "      <td>-0.652874</td>\n",
       "      <td>0.975450</td>\n",
       "      <td>0.581358</td>\n",
       "      <td>0.519868</td>\n",
       "      <td>0.541221</td>\n",
       "      <td>0.143916</td>\n",
       "      <td>3.698830</td>\n",
       "      <td>2.302783</td>\n",
       "      <td>MTG</td>\n",
       "    </tr>\n",
       "    <tr>\n",
       "      <th>43</th>\n",
       "      <td>AEE//AIZ//CMS//DTE//ED//ETR//FE//GIS//LNT//MDT...</td>\n",
       "      <td>0.0507648271022841//0.0037011686148687713//0.0...</td>\n",
       "      <td>[0.0507648271022841, 0.0037011686148687713, 0....</td>\n",
       "      <td>-0.017602</td>\n",
       "      <td>0.988801</td>\n",
       "      <td>0.716132</td>\n",
       "      <td>0.229024</td>\n",
       "      <td>0.477419</td>\n",
       "      <td>0.138430</td>\n",
       "      <td>3.384528</td>\n",
       "      <td>2.031730</td>\n",
       "      <td>MTG</td>\n",
       "    </tr>\n",
       "    <tr>\n",
       "      <th>12</th>\n",
       "      <td>AAP//ALL//AMG//ANTM//AZO//BXP//DRI//EA//EFX//E...</td>\n",
       "      <td>0.0093383429905018//0.010139891321129553//0.00...</td>\n",
       "      <td>[0.0093383429905018, 0.010139891321129553, 0.0...</td>\n",
       "      <td>-0.745689</td>\n",
       "      <td>0.977055</td>\n",
       "      <td>0.340914</td>\n",
       "      <td>0.461222</td>\n",
       "      <td>-0.094634</td>\n",
       "      <td>NaN</td>\n",
       "      <td>NaN</td>\n",
       "      <td>-0.398531</td>\n",
       "      <td>RPS</td>\n",
       "    </tr>\n",
       "    <tr>\n",
       "      <th>26</th>\n",
       "      <td>AAP//ABBV//ACN//ADS//AKAM//ALK//ALL//AMG//ANTM...</td>\n",
       "      <td>0.0077450729749389945//0.01112645303099445//0....</td>\n",
       "      <td>[0.0077450729749389945, 0.01112645303099445, 0...</td>\n",
       "      <td>-0.792319</td>\n",
       "      <td>0.986001</td>\n",
       "      <td>0.348151</td>\n",
       "      <td>0.470590</td>\n",
       "      <td>-0.298176</td>\n",
       "      <td>NaN</td>\n",
       "      <td>NaN</td>\n",
       "      <td>-1.263243</td>\n",
       "      <td>RPS</td>\n",
       "    </tr>\n",
       "    <tr>\n",
       "      <th>30</th>\n",
       "      <td>A//ALXN//AOS//CHRW//CNP//CTSH//FCX//FDX//FLR//...</td>\n",
       "      <td>0.013079745015420958//0.01826102673340637//0.0...</td>\n",
       "      <td>[0.013079745015420958, 0.01826102673340637, 0....</td>\n",
       "      <td>-0.810731</td>\n",
       "      <td>0.963234</td>\n",
       "      <td>0.266905</td>\n",
       "      <td>0.510184</td>\n",
       "      <td>0.002785</td>\n",
       "      <td>NaN</td>\n",
       "      <td>NaN</td>\n",
       "      <td>0.015335</td>\n",
       "      <td>MTG</td>\n",
       "    </tr>\n",
       "  </tbody>\n",
       "</table>\n",
       "<p>74 rows × 12 columns</p>\n",
       "</div>"
      ],
      "text/plain": [
       "                                               stocks  \\\n",
       "50  BBY//FTI//IBM//KLAC//MU//NKE//OKE//PKG//PSX//T...   \n",
       "35  AAP//AMG//CHK//COP//CXO//DVN//EOG//FAST//FTV//...   \n",
       "22                                ALXN//MGM//TGT//USB   \n",
       "7                                           MAR//WYNN   \n",
       "20                                     ANSS//IVZ//SHW   \n",
       "..                                                ...   \n",
       "51  AEP//AMT//ARE//AWK//CBOE//CCI//CME//ES//EXR//P...   \n",
       "43  AEE//AIZ//CMS//DTE//ED//ETR//FE//GIS//LNT//MDT...   \n",
       "12  AAP//ALL//AMG//ANTM//AZO//BXP//DRI//EA//EFX//E...   \n",
       "26  AAP//ABBV//ACN//ADS//AKAM//ALK//ALL//AMG//ANTM...   \n",
       "30  A//ALXN//AOS//CHRW//CNP//CTSH//FCX//FDX//FLR//...   \n",
       "\n",
       "                                              weights  \\\n",
       "50  0.021647580012108945//0.016989115681116752//0....   \n",
       "35  0.08178651636032039//0.019965512574985977//0.0...   \n",
       "22  0.26861377275017667//0.07483973474766589//0.05...   \n",
       "7             0.8302194154859172//0.16978058451408284   \n",
       "20  0.1415112477243809//0.6864146751596378//0.1720...   \n",
       "..                                                ...   \n",
       "51  0.07548714946062356//0.06642792011139156//0.31...   \n",
       "43  0.0507648271022841//0.0037011686148687713//0.0...   \n",
       "12  0.0093383429905018//0.010139891321129553//0.00...   \n",
       "26  0.0077450729749389945//0.01112645303099445//0....   \n",
       "30  0.013079745015420958//0.01826102673340637//0.0...   \n",
       "\n",
       "                                             corr_min  corr_max  corr_mean  \\\n",
       "50  [0.021647580012108945, 0.016989115681116752, 0... -0.417240   0.923533   \n",
       "35  [0.08178651636032039, 0.019965512574985977, 0.... -0.697401   0.964985   \n",
       "22  [0.26861377275017667, 0.07483973474766589, 0.0... -0.421485   0.506941   \n",
       "7           [0.8302194154859172, 0.16978058451408284]  0.728157   0.728157   \n",
       "20  [0.1415112477243809, 0.6864146751596378, 0.172... -0.609094   0.762318   \n",
       "..                                                ...       ...        ...   \n",
       "51  [0.07548714946062356, 0.06642792011139156, 0.3... -0.652874   0.975450   \n",
       "43  [0.0507648271022841, 0.0037011686148687713, 0.... -0.017602   0.988801   \n",
       "12  [0.0093383429905018, 0.010139891321129553, 0.0... -0.745689   0.977055   \n",
       "26  [0.0077450729749389945, 0.01112645303099445, 0... -0.792319   0.986001   \n",
       "30  [0.013079745015420958, 0.01826102673340637, 0.... -0.810731   0.963234   \n",
       "\n",
       "    corr_std    return     sigma    sharpe  information  modigliani method  \n",
       "50  0.231003  0.334080 -1.080420  0.459199    -2.372216   -4.586463    MTG  \n",
       "35  0.453273  0.430738 -1.305828  0.370721    -3.546410   -5.544069    MTG  \n",
       "22  0.037153  0.358143 -0.498368  0.315572    -1.607452   -2.113721    RPS  \n",
       "7   0.728157  0.000000 -0.915280  0.305984    -3.020350   -3.884896    RPS  \n",
       "20 -0.138979  0.698359 -0.879379  0.301853    -2.942751   -3.732379    RPS  \n",
       "..       ...       ...       ...       ...          ...         ...    ...  \n",
       "51  0.581358  0.519868  0.541221  0.143916     3.698830    2.302783    MTG  \n",
       "43  0.716132  0.229024  0.477419  0.138430     3.384528    2.031730    MTG  \n",
       "12  0.340914  0.461222 -0.094634       NaN          NaN   -0.398531    RPS  \n",
       "26  0.348151  0.470590 -0.298176       NaN          NaN   -1.263243    RPS  \n",
       "30  0.266905  0.510184  0.002785       NaN          NaN    0.015335    MTG  \n",
       "\n",
       "[74 rows x 12 columns]"
      ]
     },
     "execution_count": 11,
     "metadata": {},
     "output_type": "execute_result"
    }
   ],
   "source": [
    "merged.sort_values('sharpe', ascending=False)"
   ]
  },
  {
   "cell_type": "code",
   "execution_count": 20,
   "id": "d42ea373",
   "metadata": {
    "ExecuteTime": {
     "end_time": "2021-09-21T09:43:05.137451Z",
     "start_time": "2021-09-21T09:43:05.128595Z"
    }
   },
   "outputs": [],
   "source": [
    "before_mtg = pd.read_csv('../exp/Mantegna/Mantegna_sp500_2021-Sep-21-13-38-58/mantegna_results.csv')\n",
    "before_rps = pd.read_csv('../exp/RPS/RPS_sp500_2021-Sep-19-11-41-05/results.csv')"
   ]
  },
  {
   "cell_type": "code",
   "execution_count": 29,
   "id": "aec9068a",
   "metadata": {
    "ExecuteTime": {
     "end_time": "2021-09-21T09:47:13.668542Z",
     "start_time": "2021-09-21T09:47:13.664956Z"
    }
   },
   "outputs": [],
   "source": [
    "before_mtg['new_return'] = mtg['return']\n",
    "before_mtg['new_sigma'] = mtg['sigma']\n",
    "before_mtg['new_sharpe'] = mtg['sharpe']"
   ]
  },
  {
   "cell_type": "code",
   "execution_count": 30,
   "id": "4d5713d2",
   "metadata": {
    "ExecuteTime": {
     "end_time": "2021-09-21T09:47:13.818427Z",
     "start_time": "2021-09-21T09:47:13.815012Z"
    }
   },
   "outputs": [],
   "source": [
    "before_rps['new_return'] = rps['return']\n",
    "before_rps['new_sigma'] = rps['sigma']\n",
    "before_rps['new_sharpe'] = rps['sharpe']"
   ]
  },
  {
   "cell_type": "code",
   "execution_count": 42,
   "id": "c34ddb8d",
   "metadata": {
    "ExecuteTime": {
     "end_time": "2021-09-21T09:53:55.793104Z",
     "start_time": "2021-09-21T09:53:55.532052Z"
    }
   },
   "outputs": [
    {
     "data": {
      "text/plain": [
       "<AxesSubplot:xlabel='return', ylabel='new_return'>"
      ]
     },
     "execution_count": 42,
     "metadata": {},
     "output_type": "execute_result"
    },
    {
     "data": {
      "image/png": "[encoded data removed]",
      "text/plain": [
       "<Figure size 432x288 with 1 Axes>"
      ]
     },
     "metadata": {},
     "output_type": "display_data"
    }
   ],
   "source": [
    "sns.regplot(data=before_rps, x=\"return\", y=\"new_return\")"
   ]
  },
  {
   "cell_type": "code",
   "execution_count": 43,
   "id": "4d724ab5",
   "metadata": {
    "ExecuteTime": {
     "end_time": "2021-09-21T09:53:56.159958Z",
     "start_time": "2021-09-21T09:53:55.901192Z"
    }
   },
   "outputs": [
    {
     "data": {
      "text/plain": [
       "<AxesSubplot:xlabel='return', ylabel='new_return'>"
      ]
     },
     "execution_count": 43,
     "metadata": {},
     "output_type": "execute_result"
    },
    {
     "data": {
      "image/png": "[encoded data removed]",
      "text/plain": [
       "<Figure size 432x288 with 1 Axes>"
      ]
     },
     "metadata": {},
     "output_type": "display_data"
    }
   ],
   "source": [
    "sns.regplot(data=before_mtg, x=\"return\", y=\"new_return\")"
   ]
  },
  {
   "cell_type": "code",
   "execution_count": 40,
   "id": "db4ba198",
   "metadata": {
    "ExecuteTime": {
     "end_time": "2021-09-21T09:53:29.562110Z",
     "start_time": "2021-09-21T09:53:29.445188Z"
    }
   },
   "outputs": [
    {
     "data": {
      "image/png": "[encoded data removed]",
      "text/plain": [
       "<Figure size 432x288 with 1 Axes>"
      ]
     },
     "metadata": {},
     "output_type": "display_data"
    }
   ],
   "source": [
    "ax = sns.boxplot(x='method', y='sigma', data=merged)\n",
    "r = plt.setp(ax.get_xticklabels(), rotation=90)"
   ]
  },
  {
   "cell_type": "code",
   "execution_count": null,
   "id": "2b527424",
   "metadata": {},
   "outputs": [],
   "source": []
  }
 ],
 "metadata": {
  "kernelspec": {
   "display_name": "Python 3 (ipykernel)",
   "language": "python",
   "name": "python3"
  },
  "language_info": {
   "codemirror_mode": {
    "name": "ipython",
    "version": 3
   },
   "file_extension": ".py",
   "mimetype": "text/x-python",
   "name": "python",
   "nbconvert_exporter": "python",
   "pygments_lexer": "ipython3",
   "version": "3.8.2"
  },
  "toc": {
   "base_numbering": 1,
   "nav_menu": {},
   "number_sections": true,
   "sideBar": true,
   "skip_h1_title": false,
   "title_cell": "Table of Contents",
   "title_sidebar": "Contents",
   "toc_cell": false,
   "toc_position": {},
   "toc_section_display": true,
   "toc_window_display": false
  },
  "varInspector": {
   "cols": {
    "lenName": 16,
    "lenType": 16,
    "lenVar": 40
   },
   "kernels_config": {
    "python": {
     "delete_cmd_postfix": "",
     "delete_cmd_prefix": "del ",
     "library": "var_list.py",
     "varRefreshCmd": "print(var_dic_list())"
    },
    "r": {
     "delete_cmd_postfix": ") ",
     "delete_cmd_prefix": "rm(",
     "library": "var_list.r",
     "varRefreshCmd": "cat(var_dic_list()) "
    }
   },
   "types_to_exclude": [
    "module",
    "function",
    "builtin_function_or_method",
    "instance",
    "_Feature"
   ],
   "window_display": false
  }
 },
 "nbformat": 4,
 "nbformat_minor": 5
}
